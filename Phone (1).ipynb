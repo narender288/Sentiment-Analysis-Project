{
 "cells": [
  {
   "cell_type": "code",
   "execution_count": 1,
   "id": "8faa4f85-8e6d-4255-a5db-46519487c2f6",
   "metadata": {},
   "outputs": [],
   "source": [
    "import praw\n",
    "import csv\n",
    "from textblob import TextBlob\n",
    "import time"
   ]
  },
  {
   "cell_type": "markdown",
   "id": "963dfea0-2610-457b-b4ff-9a2447c3a166",
   "metadata": {},
   "source": [
    "## Scraping Data from PRAW"
   ]
  },
  {
   "cell_type": "code",
   "execution_count": 2,
   "id": "9d248632-8711-48c1-85d3-2ecfc06249f9",
   "metadata": {},
   "outputs": [],
   "source": [
    "id_number = 'VzvWxDgIRwgntoOiL-0MAg'  \n",
    "secret_number = 'GeXZwlOHE6DZNxhEn93z81N8UOsamA'  \n",
    "username = 'my_reddit_scraper:v1.0 (by /u/Narender_4087)'\n",
    "reddit = praw.Reddit(client_id=id_number,\n",
    "                     client_secret=secret_number,\n",
    "                     user_agent=username)"
   ]
  },
  {
   "cell_type": "markdown",
   "id": "8a675a99-96b3-4459-8ef8-3b7798993ef8",
   "metadata": {},
   "source": [
    "# for iphone"
   ]
  },
  {
   "cell_type": "code",
   "execution_count": 3,
   "id": "e978bd40-b4ff-45c1-b9da-12dbbf311f96",
   "metadata": {},
   "outputs": [],
   "source": [
    "subreddit_1 = reddit.subreddit('iphone')"
   ]
  },
  {
   "cell_type": "code",
   "execution_count": 4,
   "id": "e8fa5a5c-4345-4d79-a743-7921acf04ccd",
   "metadata": {},
   "outputs": [
    {
     "name": "stdout",
     "output_type": "stream",
     "text": [
      "Scraping batch 1/10...\n",
      "Scraping batch 2/10...\n",
      "Scraping batch 3/10...\n",
      "Scraping batch 4/10...\n",
      "Scraping batch 5/10...\n",
      "Scraping batch 6/10...\n",
      "Scraping batch 7/10...\n",
      "Scraping batch 8/10...\n",
      "Scraping batch 9/10...\n",
      "Scraping batch 10/10...\n",
      "Finished scraping 100000 posts. Data saved to reddit_iphone.csv.\n"
     ]
    }
   ],
   "source": [
    "num = 100000  # Number of posts to scrape\n",
    "batch_size = 10000  # Number of posts per batch\n",
    "output_file = 'reddit_iphone.csv'  # Output file name\n",
    "\n",
    "# Open the CSV file and append the data\n",
    "with open(output_file, 'a', newline='', encoding='utf-8') as csvfile:\n",
    "    writer = csv.writer(csvfile)\n",
    "    \n",
    "    # Write headers if the file is empty\n",
    "    if csvfile.tell() == 0:\n",
    "        writer.writerow(['Title', 'Upvotes', 'URL', 'Created', 'Text', 'Sentiment'])\n",
    "\n",
    "    # Scraping and processing posts\n",
    "    for i in range(num // batch_size):\n",
    "        print(f\"Scraping batch {i+1}/{num // batch_size}...\")\n",
    "        \n",
    "        for submission in subreddit_1.new(limit=batch_size):\n",
    "            title = submission.title\n",
    "            upvotes = submission.score\n",
    "            url = submission.url\n",
    "            created = submission.created_utc\n",
    "            text = submission.selftext if submission.selftext else \"No text\"\n",
    "            \n",
    "            # Perform sentiment analysis if text is not empty\n",
    "            blob = TextBlob(text)\n",
    "            sentiment = blob.sentiment.polarity  # Polarity from -1 (negative) to 1 (positive)\n",
    "            \n",
    "            # Write data to CSV\n",
    "            writer.writerow([title, upvotes, url, created, text, sentiment])\n",
    "        \n",
    "        # Wait to avoid Reddit's rate limits\n",
    "        time.sleep(5)\n",
    "\n",
    "    print(f\"Finished scraping {num} posts. Data saved to {output_file}.\") "
   ]
  },
  {
   "cell_type": "markdown",
   "id": "c38bded6-01ae-4ffc-a91c-39aa89c22177",
   "metadata": {},
   "source": [
    "# for samsung"
   ]
  },
  {
   "cell_type": "code",
   "execution_count": 5,
   "id": "6b2e05f1-239d-4dbf-a847-bed10b67e476",
   "metadata": {},
   "outputs": [],
   "source": [
    "subreddit_2 = reddit.subreddit('samsung')"
   ]
  },
  {
   "cell_type": "code",
   "execution_count": 6,
   "id": "a54af3c7-fb5e-4788-81a5-6276dc96d19c",
   "metadata": {},
   "outputs": [
    {
     "name": "stdout",
     "output_type": "stream",
     "text": [
      "Scraping batch 1/10...\n",
      "Scraping batch 2/10...\n",
      "Scraping batch 3/10...\n",
      "Scraping batch 4/10...\n",
      "Scraping batch 5/10...\n",
      "Scraping batch 6/10...\n",
      "Scraping batch 7/10...\n",
      "Scraping batch 8/10...\n",
      "Scraping batch 9/10...\n",
      "Scraping batch 10/10...\n",
      "Finished scraping 100000 posts. Data saved to reddit_samsung.csv.\n"
     ]
    }
   ],
   "source": [
    "num = 100000  # Number of posts to scrape\n",
    "batch_size = 10000  # Number of posts per batch\n",
    "output_file = 'reddit_samsung.csv'  # Output file name\n",
    "\n",
    "# Open the CSV file and append the data\n",
    "with open(output_file, 'a', newline='', encoding='utf-8') as csvfile:\n",
    "    writer = csv.writer(csvfile)\n",
    "    \n",
    "    # Write headers if the file is empty\n",
    "    if csvfile.tell() == 0:\n",
    "        writer.writerow(['Title', 'Upvotes', 'URL', 'Created', 'Text', 'Sentiment'])\n",
    "\n",
    "    # Scraping and processing posts\n",
    "    for i in range(num // batch_size):\n",
    "        print(f\"Scraping batch {i+1}/{num // batch_size}...\")\n",
    "        \n",
    "        for submission in subreddit_2.new(limit=batch_size):\n",
    "            title = submission.title\n",
    "            upvotes = submission.score\n",
    "            url = submission.url\n",
    "            created = submission.created_utc\n",
    "            text = submission.selftext if submission.selftext else \"No text\"\n",
    "            \n",
    "            # Perform sentiment analysis if text is not empty\n",
    "            blob = TextBlob(text)\n",
    "            sentiment = blob.sentiment.polarity  # Polarity from -1 (negative) to 1 (positive)\n",
    "            \n",
    "            # Write data to CSV\n",
    "            writer.writerow([title, upvotes, url, created, text, sentiment])\n",
    "        \n",
    "        # Wait to avoid Reddit's rate limits\n",
    "        time.sleep(5)\n",
    "\n",
    "    print(f\"Finished scraping {num} posts. Data saved to {output_file}.\") "
   ]
  },
  {
   "cell_type": "markdown",
   "id": "d3b30c07-27d2-49ae-a11a-470f1b28b940",
   "metadata": {},
   "source": [
    "# for Google Pixel"
   ]
  },
  {
   "cell_type": "code",
   "execution_count": 7,
   "id": "1615944a-04e2-44f6-ad65-63f6caa5ead2",
   "metadata": {},
   "outputs": [],
   "source": [
    "subreddit_3 = reddit.subreddit('GooglePixel')"
   ]
  },
  {
   "cell_type": "code",
   "execution_count": 8,
   "id": "3e2aa54f-2f88-4efc-93ab-95c4b0301d54",
   "metadata": {},
   "outputs": [
    {
     "name": "stdout",
     "output_type": "stream",
     "text": [
      "Scraping batch 1/10...\n",
      "Scraping batch 2/10...\n",
      "Scraping batch 3/10...\n",
      "Scraping batch 4/10...\n",
      "Scraping batch 5/10...\n",
      "Scraping batch 6/10...\n",
      "Scraping batch 7/10...\n",
      "Scraping batch 8/10...\n",
      "Scraping batch 9/10...\n",
      "Scraping batch 10/10...\n",
      "Finished scraping 100000 posts. Data saved to reddit_pixel.csv.\n"
     ]
    }
   ],
   "source": [
    "num = 100000  # Number of posts to scrape\n",
    "batch_size = 10000  # Number of posts per batch\n",
    "output_file = 'reddit_pixel.csv'  # Output file name\n",
    "\n",
    "# Open the CSV file and append the data\n",
    "with open(output_file, 'a', newline='', encoding='utf-8') as csvfile:\n",
    "    writer = csv.writer(csvfile)\n",
    "    \n",
    "    # Write headers if the file is empty\n",
    "    if csvfile.tell() == 0:\n",
    "        writer.writerow(['Title', 'Upvotes', 'URL', 'Created', 'Text', 'Sentiment'])\n",
    "\n",
    "    # Scraping and processing posts\n",
    "    for i in range(num // batch_size):\n",
    "        print(f\"Scraping batch {i+1}/{num // batch_size}...\")\n",
    "        \n",
    "        for submission in subreddit_3.new(limit=batch_size):\n",
    "            title = submission.title\n",
    "            upvotes = submission.score\n",
    "            url = submission.url\n",
    "            created = submission.created_utc\n",
    "            text = submission.selftext if submission.selftext else \"No text\"\n",
    "            \n",
    "            # Perform sentiment analysis if text is not empty\n",
    "            blob = TextBlob(text)\n",
    "            sentiment = blob.sentiment.polarity  # Polarity from -1 (negative) to 1 (positive)\n",
    "            \n",
    "            # Write data to CSV\n",
    "            writer.writerow([title, upvotes, url, created, text, sentiment])\n",
    "        \n",
    "        # Wait to avoid Reddit's rate limits\n",
    "        time.sleep(5)\n",
    "\n",
    "    print(f\"Finished scraping {num} posts. Data saved to {output_file}.\") "
   ]
  },
  {
   "cell_type": "markdown",
   "id": "7e8c17c9-88ca-4f49-ad5c-5fcc6dd5e946",
   "metadata": {},
   "source": [
    "# for oneplus"
   ]
  },
  {
   "cell_type": "code",
   "execution_count": 9,
   "id": "ae0e91fe-e4d2-44c1-90a3-171b7dfed00a",
   "metadata": {},
   "outputs": [],
   "source": [
    "subreddit_4 = reddit.subreddit('oneplus')"
   ]
  },
  {
   "cell_type": "code",
   "execution_count": 10,
   "id": "6d012423-a503-49eb-a2f6-574f1c604ddf",
   "metadata": {},
   "outputs": [
    {
     "name": "stdout",
     "output_type": "stream",
     "text": [
      "Scraping batch 1/10...\n",
      "Scraping batch 2/10...\n",
      "Scraping batch 3/10...\n",
      "Scraping batch 4/10...\n",
      "Scraping batch 5/10...\n",
      "Scraping batch 6/10...\n",
      "Scraping batch 7/10...\n",
      "Scraping batch 8/10...\n",
      "Scraping batch 9/10...\n",
      "Scraping batch 10/10...\n",
      "Finished scraping 100000 posts. Data saved to reddit_oneplus.csv.\n"
     ]
    }
   ],
   "source": [
    "num = 100000  # Number of posts to scrape\n",
    "batch_size = 10000  # Number of posts per batch\n",
    "output_file = 'reddit_oneplus.csv'  # Output file name\n",
    "\n",
    "# Open the CSV file and append the data\n",
    "with open(output_file, 'a', newline='', encoding='utf-8') as csvfile:\n",
    "    writer = csv.writer(csvfile)\n",
    "    \n",
    "    # Write headers if the file is empty\n",
    "    if csvfile.tell() == 0:\n",
    "        writer.writerow(['Title', 'Upvotes', 'URL', 'Created', 'Text', 'Sentiment'])\n",
    "\n",
    "    # Scraping and processing posts\n",
    "    for i in range(num // batch_size):\n",
    "        print(f\"Scraping batch {i+1}/{num // batch_size}...\")\n",
    "        \n",
    "        for submission in subreddit_4.new(limit=batch_size):\n",
    "            title = submission.title\n",
    "            upvotes = submission.score\n",
    "            url = submission.url\n",
    "            created = submission.created_utc\n",
    "            text = submission.selftext if submission.selftext else \"No text\"\n",
    "            \n",
    "            # Perform sentiment analysis if text is not empty\n",
    "            blob = TextBlob(text)\n",
    "            sentiment = blob.sentiment.polarity  # Polarity from -1 (negative) to 1 (positive)\n",
    "            \n",
    "            # Write data to CSV\n",
    "            writer.writerow([title, upvotes, url, created, text, sentiment])\n",
    "        \n",
    "        # Wait to avoid Reddit's rate limits\n",
    "        time.sleep(5)\n",
    "\n",
    "    print(f\"Finished scraping {num} posts. Data saved to {output_file}.\") "
   ]
  },
  {
   "cell_type": "markdown",
   "id": "4afa57bd-7b8b-4aa0-94c6-3b619c906d7a",
   "metadata": {},
   "source": [
    "## EDA "
   ]
  },
  {
   "cell_type": "code",
   "execution_count": 11,
   "id": "f9c05fd4-8bef-4c99-8adf-311795af746f",
   "metadata": {},
   "outputs": [],
   "source": [
    "import pandas as pd"
   ]
  },
  {
   "cell_type": "code",
   "execution_count": 12,
   "id": "71caaef8-637e-4283-aa5e-a3ba34dfe5a4",
   "metadata": {},
   "outputs": [
    {
     "data": {
      "text/html": [
       "<div>\n",
       "<style scoped>\n",
       "    .dataframe tbody tr th:only-of-type {\n",
       "        vertical-align: middle;\n",
       "    }\n",
       "\n",
       "    .dataframe tbody tr th {\n",
       "        vertical-align: top;\n",
       "    }\n",
       "\n",
       "    .dataframe thead th {\n",
       "        text-align: right;\n",
       "    }\n",
       "</style>\n",
       "<table border=\"1\" class=\"dataframe\">\n",
       "  <thead>\n",
       "    <tr style=\"text-align: right;\">\n",
       "      <th></th>\n",
       "      <th>Title</th>\n",
       "      <th>Upvotes</th>\n",
       "      <th>URL</th>\n",
       "      <th>Created</th>\n",
       "      <th>Text</th>\n",
       "      <th>Sentiment</th>\n",
       "    </tr>\n",
       "  </thead>\n",
       "  <tbody>\n",
       "    <tr>\n",
       "      <th>0</th>\n",
       "      <td>Should I do art on phone?</td>\n",
       "      <td>1</td>\n",
       "      <td>https://www.reddit.com/r/iphone/comments/1h5jf...</td>\n",
       "      <td>1.733217e+09</td>\n",
       "      <td>I dont have ipad, is it stupid of me to use a ...</td>\n",
       "      <td>-0.800000</td>\n",
       "    </tr>\n",
       "    <tr>\n",
       "      <th>1</th>\n",
       "      <td>iPhone not charging.</td>\n",
       "      <td>1</td>\n",
       "      <td>https://www.reddit.com/r/iphone/comments/1h5jd...</td>\n",
       "      <td>1.733217e+09</td>\n",
       "      <td>When I put the charger in, it doesn't do anyth...</td>\n",
       "      <td>0.143333</td>\n",
       "    </tr>\n",
       "    <tr>\n",
       "      <th>2</th>\n",
       "      <td>“Headphone accommodations” – music test</td>\n",
       "      <td>1</td>\n",
       "      <td>https://www.reddit.com/r/iphone/comments/1h5ja...</td>\n",
       "      <td>1.733216e+09</td>\n",
       "      <td>I was just curious about the Headphone Accommo...</td>\n",
       "      <td>0.205833</td>\n",
       "    </tr>\n",
       "    <tr>\n",
       "      <th>3</th>\n",
       "      <td>How can I transfer all my stuff from a broken ...</td>\n",
       "      <td>2</td>\n",
       "      <td>https://www.reddit.com/r/iphone/comments/1h5ja...</td>\n",
       "      <td>1.733216e+09</td>\n",
       "      <td>So earlier today I dropped my iphone 14 pro ma...</td>\n",
       "      <td>0.121591</td>\n",
       "    </tr>\n",
       "    <tr>\n",
       "      <th>4</th>\n",
       "      <td>My ex husband has an iPhone, but when I text h...</td>\n",
       "      <td>0</td>\n",
       "      <td>https://www.reddit.com/r/iphone/comments/1h5j7...</td>\n",
       "      <td>1.733216e+09</td>\n",
       "      <td>Not sure if this is the right sub for this, bu...</td>\n",
       "      <td>0.017143</td>\n",
       "    </tr>\n",
       "  </tbody>\n",
       "</table>\n",
       "</div>"
      ],
      "text/plain": [
       "                                               Title  Upvotes  \\\n",
       "0                          Should I do art on phone?        1   \n",
       "1                              iPhone not charging.         1   \n",
       "2            “Headphone accommodations” – music test        1   \n",
       "3  How can I transfer all my stuff from a broken ...        2   \n",
       "4  My ex husband has an iPhone, but when I text h...        0   \n",
       "\n",
       "                                                 URL       Created  \\\n",
       "0  https://www.reddit.com/r/iphone/comments/1h5jf...  1.733217e+09   \n",
       "1  https://www.reddit.com/r/iphone/comments/1h5jd...  1.733217e+09   \n",
       "2  https://www.reddit.com/r/iphone/comments/1h5ja...  1.733216e+09   \n",
       "3  https://www.reddit.com/r/iphone/comments/1h5ja...  1.733216e+09   \n",
       "4  https://www.reddit.com/r/iphone/comments/1h5j7...  1.733216e+09   \n",
       "\n",
       "                                                Text  Sentiment  \n",
       "0  I dont have ipad, is it stupid of me to use a ...  -0.800000  \n",
       "1  When I put the charger in, it doesn't do anyth...   0.143333  \n",
       "2  I was just curious about the Headphone Accommo...   0.205833  \n",
       "3  So earlier today I dropped my iphone 14 pro ma...   0.121591  \n",
       "4  Not sure if this is the right sub for this, bu...   0.017143  "
      ]
     },
     "execution_count": 12,
     "metadata": {},
     "output_type": "execute_result"
    }
   ],
   "source": [
    "df_1 = pd.read_csv(\"reddit_iphone.csv\")\n",
    "df_1.head()"
   ]
  },
  {
   "cell_type": "code",
   "execution_count": 13,
   "id": "943336c9-6aaa-4832-9eb6-b22617111d1c",
   "metadata": {},
   "outputs": [
    {
     "name": "stdout",
     "output_type": "stream",
     "text": [
      "<class 'pandas.core.frame.DataFrame'>\n",
      "RangeIndex: 9850 entries, 0 to 9849\n",
      "Data columns (total 6 columns):\n",
      " #   Column     Non-Null Count  Dtype  \n",
      "---  ------     --------------  -----  \n",
      " 0   Title      9850 non-null   object \n",
      " 1   Upvotes    9850 non-null   int64  \n",
      " 2   URL        9850 non-null   object \n",
      " 3   Created    9850 non-null   float64\n",
      " 4   Text       9850 non-null   object \n",
      " 5   Sentiment  9850 non-null   float64\n",
      "dtypes: float64(2), int64(1), object(3)\n",
      "memory usage: 461.8+ KB\n"
     ]
    }
   ],
   "source": [
    "df_1.info()"
   ]
  },
  {
   "cell_type": "code",
   "execution_count": 14,
   "id": "fa18bf64-852f-4cbc-a450-2d1d64df56b9",
   "metadata": {},
   "outputs": [],
   "source": [
    "iphone = df_1.drop_duplicates()"
   ]
  },
  {
   "cell_type": "code",
   "execution_count": 15,
   "id": "0bc3f522-e788-4f5b-837b-6d516ecd94a7",
   "metadata": {},
   "outputs": [
    {
     "name": "stdout",
     "output_type": "stream",
     "text": [
      "<class 'pandas.core.frame.DataFrame'>\n",
      "Index: 1498 entries, 0 to 9828\n",
      "Data columns (total 6 columns):\n",
      " #   Column     Non-Null Count  Dtype  \n",
      "---  ------     --------------  -----  \n",
      " 0   Title      1498 non-null   object \n",
      " 1   Upvotes    1498 non-null   int64  \n",
      " 2   URL        1498 non-null   object \n",
      " 3   Created    1498 non-null   float64\n",
      " 4   Text       1498 non-null   object \n",
      " 5   Sentiment  1498 non-null   float64\n",
      "dtypes: float64(2), int64(1), object(3)\n",
      "memory usage: 81.9+ KB\n"
     ]
    }
   ],
   "source": [
    "iphone.info()"
   ]
  },
  {
   "cell_type": "code",
   "execution_count": 16,
   "id": "bd9d625c-a9af-4d46-be41-959811395a13",
   "metadata": {},
   "outputs": [
    {
     "data": {
      "text/html": [
       "<div>\n",
       "<style scoped>\n",
       "    .dataframe tbody tr th:only-of-type {\n",
       "        vertical-align: middle;\n",
       "    }\n",
       "\n",
       "    .dataframe tbody tr th {\n",
       "        vertical-align: top;\n",
       "    }\n",
       "\n",
       "    .dataframe thead th {\n",
       "        text-align: right;\n",
       "    }\n",
       "</style>\n",
       "<table border=\"1\" class=\"dataframe\">\n",
       "  <thead>\n",
       "    <tr style=\"text-align: right;\">\n",
       "      <th></th>\n",
       "      <th>Title</th>\n",
       "      <th>Upvotes</th>\n",
       "      <th>URL</th>\n",
       "      <th>Created</th>\n",
       "      <th>Text</th>\n",
       "      <th>Sentiment</th>\n",
       "    </tr>\n",
       "  </thead>\n",
       "  <tbody>\n",
       "    <tr>\n",
       "      <th>0</th>\n",
       "      <td>Can I Use One UI 7 Quick Panel Early?</td>\n",
       "      <td>1</td>\n",
       "      <td>https://www.reddit.com/r/samsung/comments/1h5j...</td>\n",
       "      <td>1.733217e+09</td>\n",
       "      <td>I am on the a14. I am not looking for the upda...</td>\n",
       "      <td>0.166667</td>\n",
       "    </tr>\n",
       "    <tr>\n",
       "      <th>1</th>\n",
       "      <td>Looking to upgrade my Note 9 (cracked screen)</td>\n",
       "      <td>1</td>\n",
       "      <td>https://www.reddit.com/r/samsung/comments/1h5j...</td>\n",
       "      <td>1.733215e+09</td>\n",
       "      <td>Ive unfortunately cracked my note is phone scr...</td>\n",
       "      <td>0.275000</td>\n",
       "    </tr>\n",
       "    <tr>\n",
       "      <th>2</th>\n",
       "      <td>Is Samsung DeX worth using for everyday tasks?</td>\n",
       "      <td>4</td>\n",
       "      <td>https://www.reddit.com/r/samsung/comments/1h5i...</td>\n",
       "      <td>1.733212e+09</td>\n",
       "      <td>Hi everyone,\\nI’ve been curious about Samsung ...</td>\n",
       "      <td>0.287500</td>\n",
       "    </tr>\n",
       "    <tr>\n",
       "      <th>3</th>\n",
       "      <td>Coming from an A20 what is the better deal a s...</td>\n",
       "      <td>2</td>\n",
       "      <td>https://www.reddit.com/r/samsung/comments/1h5g...</td>\n",
       "      <td>1.733206e+09</td>\n",
       "      <td>Filler</td>\n",
       "      <td>0.000000</td>\n",
       "    </tr>\n",
       "    <tr>\n",
       "      <th>4</th>\n",
       "      <td>Dryer</td>\n",
       "      <td>1</td>\n",
       "      <td>https://www.reddit.com/r/samsung/comments/1h5g...</td>\n",
       "      <td>1.733206e+09</td>\n",
       "      <td>Hi! I’m need of help.\\nI have a combo washer a...</td>\n",
       "      <td>-0.230952</td>\n",
       "    </tr>\n",
       "  </tbody>\n",
       "</table>\n",
       "</div>"
      ],
      "text/plain": [
       "                                               Title  Upvotes  \\\n",
       "0              Can I Use One UI 7 Quick Panel Early?        1   \n",
       "1      Looking to upgrade my Note 9 (cracked screen)        1   \n",
       "2    Is Samsung DeX worth using for everyday tasks?         4   \n",
       "3  Coming from an A20 what is the better deal a s...        2   \n",
       "4                                              Dryer        1   \n",
       "\n",
       "                                                 URL       Created  \\\n",
       "0  https://www.reddit.com/r/samsung/comments/1h5j...  1.733217e+09   \n",
       "1  https://www.reddit.com/r/samsung/comments/1h5j...  1.733215e+09   \n",
       "2  https://www.reddit.com/r/samsung/comments/1h5i...  1.733212e+09   \n",
       "3  https://www.reddit.com/r/samsung/comments/1h5g...  1.733206e+09   \n",
       "4  https://www.reddit.com/r/samsung/comments/1h5g...  1.733206e+09   \n",
       "\n",
       "                                                Text  Sentiment  \n",
       "0  I am on the a14. I am not looking for the upda...   0.166667  \n",
       "1  Ive unfortunately cracked my note is phone scr...   0.275000  \n",
       "2  Hi everyone,\\nI’ve been curious about Samsung ...   0.287500  \n",
       "3                                             Filler   0.000000  \n",
       "4  Hi! I’m need of help.\\nI have a combo washer a...  -0.230952  "
      ]
     },
     "execution_count": 16,
     "metadata": {},
     "output_type": "execute_result"
    }
   ],
   "source": [
    "df_2 = pd.read_csv(\"reddit_samsung.csv\")\n",
    "df_2.head()"
   ]
  },
  {
   "cell_type": "code",
   "execution_count": 17,
   "id": "c9607ac4-c837-4f2a-bfc7-ef30d2985a1c",
   "metadata": {},
   "outputs": [
    {
     "name": "stdout",
     "output_type": "stream",
     "text": [
      "<class 'pandas.core.frame.DataFrame'>\n",
      "RangeIndex: 9650 entries, 0 to 9649\n",
      "Data columns (total 6 columns):\n",
      " #   Column     Non-Null Count  Dtype  \n",
      "---  ------     --------------  -----  \n",
      " 0   Title      9650 non-null   object \n",
      " 1   Upvotes    9650 non-null   int64  \n",
      " 2   URL        9650 non-null   object \n",
      " 3   Created    9650 non-null   float64\n",
      " 4   Text       9650 non-null   object \n",
      " 5   Sentiment  9650 non-null   float64\n",
      "dtypes: float64(2), int64(1), object(3)\n",
      "memory usage: 452.5+ KB\n"
     ]
    }
   ],
   "source": [
    "df_2.info()"
   ]
  },
  {
   "cell_type": "code",
   "execution_count": 18,
   "id": "3fdd45b9-976f-4aab-8a19-3e2763379f9d",
   "metadata": {},
   "outputs": [],
   "source": [
    "samsung = df_2.drop_duplicates()"
   ]
  },
  {
   "cell_type": "code",
   "execution_count": 19,
   "id": "fb8ed3c4-27f8-4f15-baaa-d68a2c7e24b8",
   "metadata": {},
   "outputs": [
    {
     "name": "stdout",
     "output_type": "stream",
     "text": [
      "<class 'pandas.core.frame.DataFrame'>\n",
      "Index: 1616 entries, 0 to 9644\n",
      "Data columns (total 6 columns):\n",
      " #   Column     Non-Null Count  Dtype  \n",
      "---  ------     --------------  -----  \n",
      " 0   Title      1616 non-null   object \n",
      " 1   Upvotes    1616 non-null   int64  \n",
      " 2   URL        1616 non-null   object \n",
      " 3   Created    1616 non-null   float64\n",
      " 4   Text       1616 non-null   object \n",
      " 5   Sentiment  1616 non-null   float64\n",
      "dtypes: float64(2), int64(1), object(3)\n",
      "memory usage: 88.4+ KB\n"
     ]
    }
   ],
   "source": [
    "samsung.info()"
   ]
  },
  {
   "cell_type": "code",
   "execution_count": 20,
   "id": "3b3af13b-4997-441a-b453-5492d4c82fcb",
   "metadata": {},
   "outputs": [
    {
     "data": {
      "text/html": [
       "<div>\n",
       "<style scoped>\n",
       "    .dataframe tbody tr th:only-of-type {\n",
       "        vertical-align: middle;\n",
       "    }\n",
       "\n",
       "    .dataframe tbody tr th {\n",
       "        vertical-align: top;\n",
       "    }\n",
       "\n",
       "    .dataframe thead th {\n",
       "        text-align: right;\n",
       "    }\n",
       "</style>\n",
       "<table border=\"1\" class=\"dataframe\">\n",
       "  <thead>\n",
       "    <tr style=\"text-align: right;\">\n",
       "      <th></th>\n",
       "      <th>Title</th>\n",
       "      <th>Upvotes</th>\n",
       "      <th>URL</th>\n",
       "      <th>Created</th>\n",
       "      <th>Text</th>\n",
       "      <th>Sentiment</th>\n",
       "    </tr>\n",
       "  </thead>\n",
       "  <tbody>\n",
       "    <tr>\n",
       "      <th>0</th>\n",
       "      <td>Upgrade to 9 pro, 9 pro XL or wait for Pixel 10</td>\n",
       "      <td>1</td>\n",
       "      <td>https://www.reddit.com/r/GooglePixel/comments/...</td>\n",
       "      <td>1.733215e+09</td>\n",
       "      <td>As the title says. I currently own the Pixel 7...</td>\n",
       "      <td>0.200000</td>\n",
       "    </tr>\n",
       "    <tr>\n",
       "      <th>1</th>\n",
       "      <td>Anyone has the solution to clock app and quick...</td>\n",
       "      <td>1</td>\n",
       "      <td>https://www.reddit.com/r/GooglePixel/comments/...</td>\n",
       "      <td>1.733214e+09</td>\n",
       "      <td>I hate the fact that the clock app and quick s...</td>\n",
       "      <td>-0.054167</td>\n",
       "    </tr>\n",
       "    <tr>\n",
       "      <th>2</th>\n",
       "      <td>Pixel Buds A do nothing?</td>\n",
       "      <td>1</td>\n",
       "      <td>https://www.reddit.com/r/GooglePixel/comments/...</td>\n",
       "      <td>1.733214e+09</td>\n",
       "      <td>The other day, my Pixel Buds A fell out of my ...</td>\n",
       "      <td>0.005519</td>\n",
       "    </tr>\n",
       "    <tr>\n",
       "      <th>3</th>\n",
       "      <td>Last Minute 30% Off Google Store Pixel 9 lineu...</td>\n",
       "      <td>0</td>\n",
       "      <td>https://www.reddit.com/r/GooglePixel/comments/...</td>\n",
       "      <td>1.733210e+09</td>\n",
       "      <td>Title explanatory. I don't have the need for i...</td>\n",
       "      <td>-0.062500</td>\n",
       "    </tr>\n",
       "    <tr>\n",
       "      <th>4</th>\n",
       "      <td>Selling pixel offer</td>\n",
       "      <td>0</td>\n",
       "      <td>/r/pixel_phones/comments/1h3w1fo/selling_pixel...</td>\n",
       "      <td>1.733210e+09</td>\n",
       "      <td>No text</td>\n",
       "      <td>0.000000</td>\n",
       "    </tr>\n",
       "  </tbody>\n",
       "</table>\n",
       "</div>"
      ],
      "text/plain": [
       "                                               Title  Upvotes  \\\n",
       "0    Upgrade to 9 pro, 9 pro XL or wait for Pixel 10        1   \n",
       "1  Anyone has the solution to clock app and quick...        1   \n",
       "2                          Pixel Buds A do nothing?         1   \n",
       "3  Last Minute 30% Off Google Store Pixel 9 lineu...        0   \n",
       "4                                Selling pixel offer        0   \n",
       "\n",
       "                                                 URL       Created  \\\n",
       "0  https://www.reddit.com/r/GooglePixel/comments/...  1.733215e+09   \n",
       "1  https://www.reddit.com/r/GooglePixel/comments/...  1.733214e+09   \n",
       "2  https://www.reddit.com/r/GooglePixel/comments/...  1.733214e+09   \n",
       "3  https://www.reddit.com/r/GooglePixel/comments/...  1.733210e+09   \n",
       "4  /r/pixel_phones/comments/1h3w1fo/selling_pixel...  1.733210e+09   \n",
       "\n",
       "                                                Text  Sentiment  \n",
       "0  As the title says. I currently own the Pixel 7...   0.200000  \n",
       "1  I hate the fact that the clock app and quick s...  -0.054167  \n",
       "2  The other day, my Pixel Buds A fell out of my ...   0.005519  \n",
       "3  Title explanatory. I don't have the need for i...  -0.062500  \n",
       "4                                            No text   0.000000  "
      ]
     },
     "execution_count": 20,
     "metadata": {},
     "output_type": "execute_result"
    }
   ],
   "source": [
    "df_3 = pd.read_csv(\"reddit_pixel.csv\")\n",
    "df_3.head()"
   ]
  },
  {
   "cell_type": "code",
   "execution_count": 21,
   "id": "0f74715f-c6c8-41e7-aff7-2b91f8f917c9",
   "metadata": {},
   "outputs": [
    {
     "name": "stdout",
     "output_type": "stream",
     "text": [
      "<class 'pandas.core.frame.DataFrame'>\n",
      "RangeIndex: 9810 entries, 0 to 9809\n",
      "Data columns (total 6 columns):\n",
      " #   Column     Non-Null Count  Dtype  \n",
      "---  ------     --------------  -----  \n",
      " 0   Title      9810 non-null   object \n",
      " 1   Upvotes    9810 non-null   int64  \n",
      " 2   URL        9810 non-null   object \n",
      " 3   Created    9810 non-null   float64\n",
      " 4   Text       9810 non-null   object \n",
      " 5   Sentiment  9810 non-null   float64\n",
      "dtypes: float64(2), int64(1), object(3)\n",
      "memory usage: 460.0+ KB\n"
     ]
    }
   ],
   "source": [
    "df_3.info()"
   ]
  },
  {
   "cell_type": "code",
   "execution_count": 22,
   "id": "3d489287-acf4-4bf8-b85f-2e3316c12675",
   "metadata": {},
   "outputs": [],
   "source": [
    "pixel = df_3.drop_duplicates()"
   ]
  },
  {
   "cell_type": "code",
   "execution_count": 23,
   "id": "c8fbc58b-6663-47b1-b51c-6c9b059286fe",
   "metadata": {},
   "outputs": [
    {
     "name": "stdout",
     "output_type": "stream",
     "text": [
      "<class 'pandas.core.frame.DataFrame'>\n",
      "Index: 1676 entries, 0 to 9800\n",
      "Data columns (total 6 columns):\n",
      " #   Column     Non-Null Count  Dtype  \n",
      "---  ------     --------------  -----  \n",
      " 0   Title      1676 non-null   object \n",
      " 1   Upvotes    1676 non-null   int64  \n",
      " 2   URL        1676 non-null   object \n",
      " 3   Created    1676 non-null   float64\n",
      " 4   Text       1676 non-null   object \n",
      " 5   Sentiment  1676 non-null   float64\n",
      "dtypes: float64(2), int64(1), object(3)\n",
      "memory usage: 91.7+ KB\n"
     ]
    }
   ],
   "source": [
    "pixel.info()"
   ]
  },
  {
   "cell_type": "code",
   "execution_count": 24,
   "id": "38eb6544-6670-4124-b49f-0fa5bf6cc579",
   "metadata": {},
   "outputs": [
    {
     "data": {
      "text/html": [
       "<div>\n",
       "<style scoped>\n",
       "    .dataframe tbody tr th:only-of-type {\n",
       "        vertical-align: middle;\n",
       "    }\n",
       "\n",
       "    .dataframe tbody tr th {\n",
       "        vertical-align: top;\n",
       "    }\n",
       "\n",
       "    .dataframe thead th {\n",
       "        text-align: right;\n",
       "    }\n",
       "</style>\n",
       "<table border=\"1\" class=\"dataframe\">\n",
       "  <thead>\n",
       "    <tr style=\"text-align: right;\">\n",
       "      <th></th>\n",
       "      <th>Title</th>\n",
       "      <th>Upvotes</th>\n",
       "      <th>URL</th>\n",
       "      <th>Created</th>\n",
       "      <th>Text</th>\n",
       "      <th>Sentiment</th>\n",
       "    </tr>\n",
       "  </thead>\n",
       "  <tbody>\n",
       "    <tr>\n",
       "      <th>0</th>\n",
       "      <td>my 7T just died</td>\n",
       "      <td>1</td>\n",
       "      <td>https://www.reddit.com/r/oneplus/comments/1h5i...</td>\n",
       "      <td>1.733215e+09</td>\n",
       "      <td>after screaming at me for 5 seconds it died. R...</td>\n",
       "      <td>0.204167</td>\n",
       "    </tr>\n",
       "    <tr>\n",
       "      <th>1</th>\n",
       "      <td>Explorer of Courage</td>\n",
       "      <td>2</td>\n",
       "      <td>https://i.redd.it/i0r5g5i0el4e1.jpeg</td>\n",
       "      <td>1.733214e+09</td>\n",
       "      <td>No text</td>\n",
       "      <td>0.000000</td>\n",
       "    </tr>\n",
       "    <tr>\n",
       "      <th>2</th>\n",
       "      <td>Z2 neckband ANC : is it good?</td>\n",
       "      <td>1</td>\n",
       "      <td>https://www.reddit.com/r/oneplus/comments/1h5i...</td>\n",
       "      <td>1.733213e+09</td>\n",
       "      <td>Looking at oneplus Z2 bullets primarily for it...</td>\n",
       "      <td>0.550000</td>\n",
       "    </tr>\n",
       "    <tr>\n",
       "      <th>3</th>\n",
       "      <td>OnePlus has given everyone a ₹2000 coupon as a...</td>\n",
       "      <td>19</td>\n",
       "      <td>https://i.redd.it/57hxrze63l4e1.jpeg</td>\n",
       "      <td>1.733210e+09</td>\n",
       "      <td>Guys, OnePlus had a contest where, by mistake,...</td>\n",
       "      <td>0.175000</td>\n",
       "    </tr>\n",
       "    <tr>\n",
       "      <th>4</th>\n",
       "      <td>OnePlus Nord 3 lowers refresh rate in Chrome t...</td>\n",
       "      <td>1</td>\n",
       "      <td>https://www.reddit.com/r/oneplus/comments/1h5h...</td>\n",
       "      <td>1.733210e+09</td>\n",
       "      <td>If I set the refresh rate to automatic, it low...</td>\n",
       "      <td>-0.001667</td>\n",
       "    </tr>\n",
       "  </tbody>\n",
       "</table>\n",
       "</div>"
      ],
      "text/plain": [
       "                                               Title  Upvotes  \\\n",
       "0                                    my 7T just died        1   \n",
       "1                               Explorer of Courage         2   \n",
       "2                     Z2 neckband ANC : is it good?         1   \n",
       "3  OnePlus has given everyone a ₹2000 coupon as a...       19   \n",
       "4  OnePlus Nord 3 lowers refresh rate in Chrome t...        1   \n",
       "\n",
       "                                                 URL       Created  \\\n",
       "0  https://www.reddit.com/r/oneplus/comments/1h5i...  1.733215e+09   \n",
       "1               https://i.redd.it/i0r5g5i0el4e1.jpeg  1.733214e+09   \n",
       "2  https://www.reddit.com/r/oneplus/comments/1h5i...  1.733213e+09   \n",
       "3               https://i.redd.it/57hxrze63l4e1.jpeg  1.733210e+09   \n",
       "4  https://www.reddit.com/r/oneplus/comments/1h5h...  1.733210e+09   \n",
       "\n",
       "                                                Text  Sentiment  \n",
       "0  after screaming at me for 5 seconds it died. R...   0.204167  \n",
       "1                                            No text   0.000000  \n",
       "2  Looking at oneplus Z2 bullets primarily for it...   0.550000  \n",
       "3  Guys, OnePlus had a contest where, by mistake,...   0.175000  \n",
       "4  If I set the refresh rate to automatic, it low...  -0.001667  "
      ]
     },
     "execution_count": 24,
     "metadata": {},
     "output_type": "execute_result"
    }
   ],
   "source": [
    "df_4 = pd.read_csv(\"reddit_oneplus.csv\")\n",
    "df_4.head()"
   ]
  },
  {
   "cell_type": "code",
   "execution_count": 25,
   "id": "d7ba3d80-b93e-4f9b-aefe-a4acddf36ee5",
   "metadata": {},
   "outputs": [
    {
     "name": "stdout",
     "output_type": "stream",
     "text": [
      "<class 'pandas.core.frame.DataFrame'>\n",
      "RangeIndex: 9930 entries, 0 to 9929\n",
      "Data columns (total 6 columns):\n",
      " #   Column     Non-Null Count  Dtype  \n",
      "---  ------     --------------  -----  \n",
      " 0   Title      9930 non-null   object \n",
      " 1   Upvotes    9930 non-null   int64  \n",
      " 2   URL        9930 non-null   object \n",
      " 3   Created    9930 non-null   float64\n",
      " 4   Text       9930 non-null   object \n",
      " 5   Sentiment  9930 non-null   float64\n",
      "dtypes: float64(2), int64(1), object(3)\n",
      "memory usage: 465.6+ KB\n"
     ]
    }
   ],
   "source": [
    "df_4.info()"
   ]
  },
  {
   "cell_type": "code",
   "execution_count": 26,
   "id": "8a1fcc40-e349-4765-99bd-932713c74cab",
   "metadata": {},
   "outputs": [],
   "source": [
    "oneplus = df_4.drop_duplicates()"
   ]
  },
  {
   "cell_type": "code",
   "execution_count": 27,
   "id": "9740b32b-90e8-4b61-ba2d-19fd02991652",
   "metadata": {},
   "outputs": [
    {
     "name": "stdout",
     "output_type": "stream",
     "text": [
      "<class 'pandas.core.frame.DataFrame'>\n",
      "Index: 1817 entries, 0 to 9920\n",
      "Data columns (total 6 columns):\n",
      " #   Column     Non-Null Count  Dtype  \n",
      "---  ------     --------------  -----  \n",
      " 0   Title      1817 non-null   object \n",
      " 1   Upvotes    1817 non-null   int64  \n",
      " 2   URL        1817 non-null   object \n",
      " 3   Created    1817 non-null   float64\n",
      " 4   Text       1817 non-null   object \n",
      " 5   Sentiment  1817 non-null   float64\n",
      "dtypes: float64(2), int64(1), object(3)\n",
      "memory usage: 99.4+ KB\n"
     ]
    }
   ],
   "source": [
    "oneplus.info()"
   ]
  },
  {
   "cell_type": "code",
   "execution_count": 28,
   "id": "06cfa6b9-e274-4827-bb6e-589ba812f991",
   "metadata": {},
   "outputs": [
    {
     "data": {
      "text/plain": [
       "Index(['Title', 'Upvotes', 'URL', 'Created', 'Text', 'Sentiment'], dtype='object')"
      ]
     },
     "execution_count": 28,
     "metadata": {},
     "output_type": "execute_result"
    }
   ],
   "source": [
    "iphone.columns"
   ]
  },
  {
   "cell_type": "code",
   "execution_count": 29,
   "id": "6028d081-8f82-4407-a40e-a131ab22300f",
   "metadata": {},
   "outputs": [
    {
     "data": {
      "text/plain": [
       "Index(['Title', 'Upvotes', 'URL', 'Created', 'Text', 'Sentiment'], dtype='object')"
      ]
     },
     "execution_count": 29,
     "metadata": {},
     "output_type": "execute_result"
    }
   ],
   "source": [
    "samsung.columns"
   ]
  },
  {
   "cell_type": "code",
   "execution_count": 30,
   "id": "6c949e6a-8cb4-4732-9ffc-525fa6014051",
   "metadata": {},
   "outputs": [
    {
     "data": {
      "text/plain": [
       "Index(['Title', 'Upvotes', 'URL', 'Created', 'Text', 'Sentiment'], dtype='object')"
      ]
     },
     "execution_count": 30,
     "metadata": {},
     "output_type": "execute_result"
    }
   ],
   "source": [
    "pixel.columns"
   ]
  },
  {
   "cell_type": "code",
   "execution_count": 31,
   "id": "02f1894a-5267-4756-aae1-42b99a1e477f",
   "metadata": {},
   "outputs": [
    {
     "data": {
      "text/plain": [
       "Index(['Title', 'Upvotes', 'URL', 'Created', 'Text', 'Sentiment'], dtype='object')"
      ]
     },
     "execution_count": 31,
     "metadata": {},
     "output_type": "execute_result"
    }
   ],
   "source": [
    "oneplus.columns"
   ]
  },
  {
   "cell_type": "markdown",
   "id": "8f697bfd-6488-4c7e-be89-ff917e2ef30a",
   "metadata": {},
   "source": [
    "# iphone"
   ]
  },
  {
   "cell_type": "code",
   "execution_count": 32,
   "id": "6fee1c28-11d5-499f-bd15-613ac1e46049",
   "metadata": {},
   "outputs": [
    {
     "name": "stdout",
     "output_type": "stream",
     "text": [
      "<class 'pandas.core.frame.DataFrame'>\n",
      "Index: 1498 entries, 0 to 9828\n",
      "Data columns (total 6 columns):\n",
      " #   Column     Non-Null Count  Dtype  \n",
      "---  ------     --------------  -----  \n",
      " 0   Title      1498 non-null   object \n",
      " 1   Upvotes    1498 non-null   int64  \n",
      " 2   URL        1498 non-null   object \n",
      " 3   Created    1498 non-null   float64\n",
      " 4   Text       1498 non-null   object \n",
      " 5   Sentiment  1498 non-null   float64\n",
      "dtypes: float64(2), int64(1), object(3)\n",
      "memory usage: 81.9+ KB\n"
     ]
    },
    {
     "data": {
      "text/plain": [
       "Title        0\n",
       "Upvotes      0\n",
       "URL          0\n",
       "Created      0\n",
       "Text         0\n",
       "Sentiment    0\n",
       "dtype: int64"
      ]
     },
     "execution_count": 32,
     "metadata": {},
     "output_type": "execute_result"
    }
   ],
   "source": [
    "iphone.describe\n",
    "iphone.info()\n",
    "iphone.isnull().sum()"
   ]
  },
  {
   "cell_type": "code",
   "execution_count": 33,
   "id": "b5e8842f-b172-48f5-80cc-7c1d8ac8e147",
   "metadata": {},
   "outputs": [],
   "source": [
    "from vaderSentiment.vaderSentiment import SentimentIntensityAnalyzer"
   ]
  },
  {
   "cell_type": "code",
   "execution_count": 34,
   "id": "6d179ef9-231b-4947-acd3-6f7eb20f1524",
   "metadata": {},
   "outputs": [],
   "source": [
    "iphone_ana = SentimentIntensityAnalyzer() # VADER sentiment analyzer"
   ]
  },
  {
   "cell_type": "code",
   "execution_count": 35,
   "id": "225454dd-6dda-4b01-90d3-f5e0b093d24a",
   "metadata": {},
   "outputs": [],
   "source": [
    "def assign_sentiment(compound_score):\n",
    "    if compound_score >= 0.05:\n",
    "        return 'Positive'\n",
    "    elif compound_score <= -0.05:\n",
    "        return 'Negative'\n",
    "    else:\n",
    "        return 'Neutral'"
   ]
  },
  {
   "cell_type": "code",
   "execution_count": 84,
   "id": "4d0bb6fb-4458-4b02-b0ba-80f29a152c34",
   "metadata": {
    "scrolled": true
   },
   "outputs": [],
   "source": [
    "# Apply VADER sentiment analysis\n",
    "iphone.loc[:, 'Sentiment-Vader'] = iphone['Text'].apply(lambda x: assign_sentiment(iphone_ana.polarity_scores(x)['compound']))"
   ]
  },
  {
   "cell_type": "code",
   "execution_count": 37,
   "id": "26f5aadf-a79f-4f37-9bdc-6952f9b3b366",
   "metadata": {},
   "outputs": [
    {
     "data": {
      "text/plain": [
       "Sentiment-Vader\n",
       "Positive    686\n",
       "Negative    585\n",
       "Neutral     227\n",
       "Name: count, dtype: int64"
      ]
     },
     "execution_count": 37,
     "metadata": {},
     "output_type": "execute_result"
    }
   ],
   "source": [
    "iphone['Sentiment-Vader'].value_counts()"
   ]
  },
  {
   "cell_type": "code",
   "execution_count": 38,
   "id": "574441bc-a079-4d39-bef5-d3d111c7fe6a",
   "metadata": {},
   "outputs": [
    {
     "data": {
      "text/plain": [
       "<Axes: xlabel='Sentiment-Vader'>"
      ]
     },
     "execution_count": 38,
     "metadata": {},
     "output_type": "execute_result"
    },
    {
     "data": {
      "image/png": "[encoded data removed]",
      "text/plain": [
       "<Figure size 640x480 with 1 Axes>"
      ]
     },
     "metadata": {},
     "output_type": "display_data"
    }
   ],
   "source": [
    "iphone['Sentiment-Vader'].value_counts().plot(kind='bar')"
   ]
  },
  {
   "cell_type": "code",
   "execution_count": 39,
   "id": "15535c1a-e150-48fe-bf49-69bd1351d817",
   "metadata": {},
   "outputs": [
    {
     "data": {
      "text/plain": [
       "0          1\n",
       "1          1\n",
       "2          1\n",
       "3          2\n",
       "4          0\n",
       "        ... \n",
       "9572       3\n",
       "9669       6\n",
       "9767    5036\n",
       "9769     529\n",
       "9828       7\n",
       "Name: Upvotes, Length: 1498, dtype: int64"
      ]
     },
     "execution_count": 39,
     "metadata": {},
     "output_type": "execute_result"
    }
   ],
   "source": [
    "iphone['Upvotes']"
   ]
  },
  {
   "cell_type": "code",
   "execution_count": 40,
   "id": "da3b2203-532e-41c1-bc05-74f79e6399e0",
   "metadata": {},
   "outputs": [
    {
     "data": {
      "text/plain": [
       "145.43457943925233"
      ]
     },
     "execution_count": 40,
     "metadata": {},
     "output_type": "execute_result"
    }
   ],
   "source": [
    "iphone['Upvotes'].mean()"
   ]
  },
  {
   "cell_type": "code",
   "execution_count": 41,
   "id": "57a8bd65-f81f-4c03-84fa-bc89b4b2f0ff",
   "metadata": {},
   "outputs": [
    {
     "data": {
      "text/plain": [
       "<pandas.core.groupby.generic.DataFrameGroupBy object at 0x000002B92BB32D50>"
      ]
     },
     "execution_count": 41,
     "metadata": {},
     "output_type": "execute_result"
    }
   ],
   "source": [
    "iphone.groupby('Sentiment-Vader')"
   ]
  },
  {
   "cell_type": "code",
   "execution_count": 42,
   "id": "6826acf8-2f33-4811-bb41-9f8f059e86bf",
   "metadata": {},
   "outputs": [
    {
     "data": {
      "text/plain": [
       "Sentiment-Vader\n",
       "Negative    212.847863\n",
       "Neutral     343.436123\n",
       "Positive     22.427114\n",
       "Name: Upvotes, dtype: float64"
      ]
     },
     "execution_count": 42,
     "metadata": {},
     "output_type": "execute_result"
    }
   ],
   "source": [
    "iphone.groupby('Sentiment-Vader')['Upvotes'].mean()"
   ]
  },
  {
   "cell_type": "code",
   "execution_count": 43,
   "id": "9431e960-496e-43f5-87d0-6a848e8765db",
   "metadata": {},
   "outputs": [
    {
     "data": {
      "text/plain": [
       "<Axes: xlabel='Sentiment-Vader'>"
      ]
     },
     "execution_count": 43,
     "metadata": {},
     "output_type": "execute_result"
    },
    {
     "data": {
      "image/png": "[encoded data removed]",
      "text/plain": [
       "<Figure size 640x480 with 1 Axes>"
      ]
     },
     "metadata": {},
     "output_type": "display_data"
    }
   ],
   "source": [
    "iphone.groupby('Sentiment-Vader')['Upvotes'].mean().plot(kind='bar')"
   ]
  },
  {
   "cell_type": "code",
   "execution_count": 44,
   "id": "630ff826-ac61-4af9-8af0-2376251ae16c",
   "metadata": {},
   "outputs": [
    {
     "data": {
      "text/plain": [
       "0       1.733217e+09\n",
       "1       1.733217e+09\n",
       "2       1.733216e+09\n",
       "3       1.733216e+09\n",
       "4       1.733216e+09\n",
       "            ...     \n",
       "9572    1.732820e+09\n",
       "9669    1.732762e+09\n",
       "9767    1.732710e+09\n",
       "9769    1.732710e+09\n",
       "9828    1.732667e+09\n",
       "Name: Created, Length: 1498, dtype: float64"
      ]
     },
     "execution_count": 44,
     "metadata": {},
     "output_type": "execute_result"
    }
   ],
   "source": [
    "iphone['Created']  ## it is showing the timestamp, about the particular post like when it posted."
   ]
  },
  {
   "cell_type": "code",
   "execution_count": 45,
   "id": "bba53c85-e15d-4d2c-a43d-c809640b4075",
   "metadata": {},
   "outputs": [
    {
     "data": {
      "text/plain": [
       "array([1.73321701e+09, 1.73321677e+09, 1.73321647e+09, 1.73321644e+09,\n",
       "       1.73321601e+09, 1.73321600e+09, 1.73321572e+09, 1.73321507e+09,\n",
       "       1.73321489e+09, 1.73321468e+09, 1.73321447e+09, 1.73321283e+09,\n",
       "       1.73321264e+09, 1.73321235e+09, 1.73321222e+09, 1.73321126e+09,\n",
       "       1.73321049e+09, 1.73321024e+09, 1.73320962e+09, 1.73320782e+09,\n",
       "       1.73320688e+09, 1.73320680e+09, 1.73320654e+09, 1.73320579e+09,\n",
       "       1.73320554e+09, 1.73320513e+09, 1.73320456e+09, 1.73320415e+09,\n",
       "       1.73320398e+09, 1.73320371e+09, 1.73317348e+09, 1.73317461e+09,\n",
       "       1.73317602e+09, 1.73318113e+09, 1.73318269e+09, 1.73319653e+09,\n",
       "       1.73319787e+09, 1.73319898e+09, 1.73320316e+09, 1.73320310e+09,\n",
       "       1.73320237e+09, 1.73320130e+09, 1.73319940e+09, 1.73319887e+09,\n",
       "       1.73319767e+09, 1.73319762e+09, 1.73319603e+09, 1.73319454e+09,\n",
       "       1.73319453e+09, 1.73319329e+09, 1.73319203e+09, 1.73319114e+09,\n",
       "       1.73319107e+09, 1.73319077e+09, 1.73318831e+09, 1.73318797e+09,\n",
       "       1.73318766e+09, 1.73318678e+09, 1.73318667e+09, 1.73318652e+09,\n",
       "       1.73318640e+09, 1.73318594e+09, 1.73318584e+09, 1.73318424e+09,\n",
       "       1.73318347e+09, 1.73318289e+09, 1.73318248e+09, 1.73318149e+09,\n",
       "       1.73318148e+09, 1.73318148e+09, 1.73318084e+09, 1.73318068e+09,\n",
       "       1.73318054e+09, 1.73318023e+09, 1.73318021e+09, 1.73318018e+09,\n",
       "       1.73317958e+09, 1.73317935e+09, 1.73317874e+09, 1.73317850e+09,\n",
       "       1.73317848e+09, 1.73317782e+09, 1.73317718e+09, 1.73317697e+09,\n",
       "       1.73317684e+09, 1.73317660e+09, 1.73317649e+09, 1.73317640e+09,\n",
       "       1.73317627e+09, 1.73317588e+09, 1.73317545e+09, 1.73317463e+09,\n",
       "       1.73317440e+09, 1.73317436e+09, 1.73317385e+09, 1.73317383e+09,\n",
       "       1.73317378e+09, 1.73317344e+09, 1.73317319e+09, 1.73317313e+09,\n",
       "       1.73317309e+09, 1.73317238e+09, 1.73316939e+09, 1.73316912e+09,\n",
       "       1.73316910e+09, 1.73316886e+09, 1.73316873e+09, 1.73316834e+09,\n",
       "       1.73316820e+09, 1.73316790e+09, 1.73316749e+09, 1.73316701e+09,\n",
       "       1.73316469e+09, 1.73316434e+09, 1.73316408e+09, 1.73316358e+09,\n",
       "       1.73316232e+09, 1.73316212e+09, 1.73316178e+09, 1.73316116e+09,\n",
       "       1.73316110e+09, 1.73316072e+09, 1.73316006e+09, 1.73315968e+09,\n",
       "       1.73315940e+09, 1.73315932e+09, 1.73315931e+09, 1.73315908e+09,\n",
       "       1.73315889e+09, 1.73315887e+09, 1.73315870e+09, 1.73315858e+09,\n",
       "       1.73315810e+09, 1.73315704e+09, 1.73315690e+09, 1.73315648e+09,\n",
       "       1.73315624e+09, 1.73315600e+09, 1.73315549e+09, 1.73315506e+09,\n",
       "       1.73315472e+09, 1.73315406e+09, 1.73315357e+09, 1.73315192e+09,\n",
       "       1.73315178e+09, 1.73315007e+09, 1.73314982e+09, 1.73314957e+09,\n",
       "       1.73314911e+09, 1.73314871e+09, 1.73314844e+09, 1.73314697e+09,\n",
       "       1.73314686e+09, 1.73314661e+09, 1.73314600e+09, 1.73314563e+09,\n",
       "       1.73314459e+09, 1.73314395e+09, 1.73314366e+09, 1.73314316e+09,\n",
       "       1.73314295e+09, 1.73314186e+09, 1.73314065e+09, 1.73314016e+09,\n",
       "       1.73313901e+09, 1.73313855e+09, 1.73313842e+09, 1.73313765e+09,\n",
       "       1.73313607e+09, 1.73313460e+09, 1.73313434e+09, 1.73313381e+09,\n",
       "       1.73313010e+09, 1.73312938e+09, 1.73312861e+09, 1.73312810e+09,\n",
       "       1.73312746e+09, 1.73312744e+09, 1.73312122e+09, 1.73312406e+09,\n",
       "       1.73312348e+09, 1.73312346e+09, 1.73312339e+09, 1.73312313e+09,\n",
       "       1.73312264e+09, 1.73312196e+09, 1.73312072e+09, 1.73309905e+09,\n",
       "       1.73310488e+09, 1.73311921e+09, 1.73311848e+09, 1.73311834e+09,\n",
       "       1.73311792e+09, 1.73311745e+09, 1.73311701e+09, 1.73311668e+09,\n",
       "       1.73311647e+09, 1.73311589e+09, 1.73311507e+09, 1.73311481e+09,\n",
       "       1.73311424e+09, 1.73311402e+09, 1.73311310e+09, 1.73311282e+09,\n",
       "       1.73311172e+09, 1.73310974e+09, 1.73310972e+09, 1.73310948e+09,\n",
       "       1.73310926e+09, 1.73310866e+09, 1.73310865e+09, 1.73310787e+09,\n",
       "       1.73310782e+09, 1.73310706e+09, 1.73310665e+09, 1.73310658e+09,\n",
       "       1.73310642e+09, 1.73310512e+09, 1.73310510e+09, 1.73310475e+09,\n",
       "       1.73310472e+09, 1.73310343e+09, 1.73310324e+09, 1.73310260e+09,\n",
       "       1.73310126e+09, 1.73309973e+09, 1.73309972e+09, 1.73309851e+09,\n",
       "       1.73309644e+09, 1.73309584e+09, 1.73309456e+09, 1.73309374e+09,\n",
       "       1.73309196e+09, 1.73309108e+09, 1.73309099e+09, 1.73309056e+09,\n",
       "       1.73308983e+09, 1.73308898e+09, 1.73308857e+09, 1.73308848e+09,\n",
       "       1.73308810e+09, 1.73308806e+09, 1.73308804e+09, 1.73308792e+09,\n",
       "       1.73308759e+09, 1.73308687e+09, 1.73308646e+09, 1.73308626e+09,\n",
       "       1.73308624e+09, 1.73308608e+09, 1.73308584e+09, 1.73308454e+09,\n",
       "       1.73308541e+09, 1.73308512e+09, 1.73308401e+09, 1.73308368e+09,\n",
       "       1.73308367e+09, 1.73308353e+09, 1.73308351e+09, 1.73308341e+09,\n",
       "       1.73308215e+09, 1.73308201e+09, 1.73308173e+09, 1.73308163e+09,\n",
       "       1.73308151e+09, 1.73308117e+09, 1.73308091e+09, 1.73308089e+09,\n",
       "       1.73308081e+09, 1.73308068e+09, 1.73308045e+09, 1.73308002e+09,\n",
       "       1.73307949e+09, 1.73307837e+09, 1.73307906e+09, 1.73307846e+09,\n",
       "       1.73307818e+09, 1.73307802e+09, 1.73307780e+09, 1.73307707e+09,\n",
       "       1.73307697e+09, 1.73307671e+09, 1.73307662e+09, 1.73307625e+09,\n",
       "       1.73307574e+09, 1.73307571e+09, 1.73307560e+09, 1.73307509e+09,\n",
       "       1.73307482e+09, 1.73307475e+09, 1.73307439e+09, 1.73307396e+09,\n",
       "       1.73307380e+09, 1.73307380e+09, 1.73307268e+09, 1.73307255e+09,\n",
       "       1.73307233e+09, 1.73307231e+09, 1.73307134e+09, 1.73307115e+09,\n",
       "       1.73307114e+09, 1.73307079e+09, 1.73307070e+09, 1.73307059e+09,\n",
       "       1.73306988e+09, 1.73306976e+09, 1.73306916e+09, 1.73306909e+09,\n",
       "       1.73306897e+09, 1.73306865e+09, 1.73306864e+09, 1.73306839e+09,\n",
       "       1.73306831e+09, 1.73306828e+09, 1.73306819e+09, 1.73306546e+09,\n",
       "       1.73306535e+09, 1.73306467e+09, 1.73306413e+09, 1.73306410e+09,\n",
       "       1.73306344e+09, 1.73306334e+09, 1.73306315e+09, 1.73306247e+09,\n",
       "       1.73306230e+09, 1.73306225e+09, 1.73306125e+09, 1.73306112e+09,\n",
       "       1.73306035e+09, 1.73306019e+09, 1.73306011e+09, 1.73305982e+09,\n",
       "       1.73305928e+09, 1.73305919e+09, 1.73305772e+09, 1.73305766e+09,\n",
       "       1.73305740e+09, 1.73305694e+09, 1.73305667e+09, 1.73305625e+09,\n",
       "       1.73305572e+09, 1.73305552e+09, 1.73305420e+09, 1.73305402e+09,\n",
       "       1.73305396e+09, 1.73305367e+09, 1.73304908e+09, 1.73304765e+09,\n",
       "       1.73304746e+09, 1.73304714e+09, 1.73304592e+09, 1.73304538e+09,\n",
       "       1.73304503e+09, 1.73304454e+09, 1.73304423e+09, 1.73304405e+09,\n",
       "       1.73304311e+09, 1.73304292e+09, 1.73304240e+09, 1.73304158e+09,\n",
       "       1.73304148e+09, 1.73304088e+09, 1.73303935e+09, 1.73303869e+09,\n",
       "       1.73303845e+09, 1.73303670e+09, 1.73303653e+09, 1.73303642e+09,\n",
       "       1.73303278e+09, 1.73303214e+09, 1.73303214e+09, 1.73303186e+09,\n",
       "       1.73303105e+09, 1.73302959e+09, 1.73302955e+09, 1.73302871e+09,\n",
       "       1.73302638e+09, 1.73302545e+09, 1.73302534e+09, 1.73302471e+09,\n",
       "       1.73302398e+09, 1.73302310e+09, 1.73302236e+09, 1.73302190e+09,\n",
       "       1.73302142e+09, 1.73302130e+09, 1.73302104e+09, 1.73302093e+09,\n",
       "       1.73302063e+09, 1.73301983e+09, 1.73301977e+09, 1.73301804e+09,\n",
       "       1.73301750e+09, 1.73301745e+09, 1.73301722e+09, 1.73301697e+09,\n",
       "       1.73301649e+09, 1.73301434e+09, 1.73301374e+09, 1.73301318e+09,\n",
       "       1.73301242e+09, 1.73301184e+09, 1.73301082e+09, 1.73301025e+09,\n",
       "       1.73301000e+09, 1.73300975e+09, 1.73300948e+09, 1.73300663e+09,\n",
       "       1.73300655e+09, 1.73300601e+09, 1.73300581e+09, 1.73300568e+09,\n",
       "       1.73300553e+09, 1.73300551e+09, 1.73300524e+09, 1.73300440e+09,\n",
       "       1.73300358e+09, 1.73300254e+09, 1.73300087e+09, 1.73300027e+09,\n",
       "       1.73299684e+09, 1.73299608e+09, 1.73299562e+09, 1.73299551e+09,\n",
       "       1.73299528e+09, 1.73299438e+09, 1.73299404e+09, 1.73299374e+09,\n",
       "       1.73299369e+09, 1.73299350e+09, 1.73299283e+09, 1.73299258e+09,\n",
       "       1.73299184e+09, 1.73299172e+09, 1.73299161e+09, 1.73299061e+09,\n",
       "       1.73299040e+09, 1.73298980e+09, 1.73298839e+09, 1.73298826e+09,\n",
       "       1.73298777e+09, 1.73298774e+09, 1.73298739e+09, 1.73298720e+09,\n",
       "       1.73298653e+09, 1.73298632e+09, 1.73298620e+09, 1.73298610e+09,\n",
       "       1.73298565e+09, 1.73298464e+09, 1.73298428e+09, 1.73298396e+09,\n",
       "       1.73298354e+09, 1.73298333e+09, 1.73298330e+09, 1.73298282e+09,\n",
       "       1.73298220e+09, 1.73297972e+09, 1.73297896e+09, 1.73297874e+09,\n",
       "       1.73297746e+09, 1.73297587e+09, 1.73297545e+09, 1.73297545e+09,\n",
       "       1.73297536e+09, 1.73297394e+09, 1.73297317e+09, 1.73297290e+09,\n",
       "       1.73297249e+09, 1.73297038e+09, 1.73297036e+09, 1.73296802e+09,\n",
       "       1.73296794e+09, 1.73296680e+09, 1.73296655e+09, 1.73296601e+09,\n",
       "       1.73296582e+09, 1.73296553e+09, 1.73296525e+09, 1.73296490e+09,\n",
       "       1.73296433e+09, 1.73296355e+09, 1.73296343e+09, 1.73296303e+09,\n",
       "       1.73296223e+09, 1.73296105e+09, 1.73296104e+09, 1.73296075e+09,\n",
       "       1.73296045e+09, 1.73296012e+09, 1.73295980e+09, 1.73295887e+09,\n",
       "       1.73295851e+09, 1.73295844e+09, 1.73295731e+09, 1.73295659e+09,\n",
       "       1.73295552e+09, 1.73295547e+09, 1.73295527e+09, 1.73295376e+09,\n",
       "       1.73295337e+09, 1.73295325e+09, 1.73295109e+09, 1.73295083e+09,\n",
       "       1.73295068e+09, 1.73294982e+09, 1.73294974e+09, 1.73294647e+09,\n",
       "       1.73294640e+09, 1.73294585e+09, 1.73294479e+09, 1.73294436e+09,\n",
       "       1.73294428e+09, 1.73294383e+09, 1.73294333e+09, 1.73294246e+09,\n",
       "       1.73294246e+09, 1.73294145e+09, 1.73293916e+09, 1.73293844e+09,\n",
       "       1.73293773e+09, 1.73293728e+09, 1.73293630e+09, 1.73293574e+09,\n",
       "       1.73293441e+09, 1.73293378e+09, 1.73293363e+09, 1.73293360e+09,\n",
       "       1.73293234e+09, 1.73293198e+09, 1.73293155e+09, 1.73293153e+09,\n",
       "       1.73293150e+09, 1.73293030e+09, 1.73292966e+09, 1.73292936e+09,\n",
       "       1.73292900e+09, 1.73292894e+09, 1.73292884e+09, 1.73292859e+09,\n",
       "       1.73292832e+09, 1.73292831e+09, 1.73292803e+09, 1.73292764e+09,\n",
       "       1.73292746e+09, 1.73292732e+09, 1.73292730e+09, 1.73292718e+09,\n",
       "       1.73292700e+09, 1.73292686e+09, 1.73292630e+09, 1.73292409e+09,\n",
       "       1.73292296e+09, 1.73292270e+09, 1.73292266e+09, 1.73292222e+09,\n",
       "       1.73292109e+09, 1.73292061e+09, 1.73291953e+09, 1.73291751e+09,\n",
       "       1.73291596e+09, 1.73291572e+09, 1.73291509e+09, 1.73291441e+09,\n",
       "       1.73291362e+09, 1.73291325e+09, 1.73291167e+09, 1.73291149e+09,\n",
       "       1.73291073e+09, 1.73290978e+09, 1.73290944e+09, 1.73290875e+09,\n",
       "       1.73290742e+09, 1.73290740e+09, 1.73290612e+09, 1.73290580e+09,\n",
       "       1.73290539e+09, 1.73290524e+09, 1.73290467e+09, 1.73290435e+09,\n",
       "       1.73290317e+09, 1.73290247e+09, 1.73290227e+09, 1.73290209e+09,\n",
       "       1.73290191e+09, 1.73290180e+09, 1.73290174e+09, 1.73290016e+09,\n",
       "       1.73289966e+09, 1.73289871e+09, 1.73289846e+09, 1.73289818e+09,\n",
       "       1.73289697e+09, 1.73289695e+09, 1.73289687e+09, 1.73289682e+09,\n",
       "       1.73289672e+09, 1.73289648e+09, 1.73289636e+09, 1.73289531e+09,\n",
       "       1.73289449e+09, 1.73289402e+09, 1.73289394e+09, 1.73289286e+09,\n",
       "       1.73289213e+09, 1.73289062e+09, 1.73289007e+09, 1.73288977e+09,\n",
       "       1.73288926e+09, 1.73288838e+09, 1.73288778e+09, 1.73288681e+09,\n",
       "       1.73288637e+09, 1.73288628e+09, 1.73288564e+09, 1.73288540e+09,\n",
       "       1.73288525e+09, 1.73288444e+09, 1.73288371e+09, 1.73288311e+09,\n",
       "       1.73288184e+09, 1.73288144e+09, 1.73288055e+09, 1.73287968e+09,\n",
       "       1.73287612e+09, 1.73287579e+09, 1.73287562e+09, 1.73287515e+09,\n",
       "       1.73287494e+09, 1.73287324e+09, 1.73287269e+09, 1.73287256e+09,\n",
       "       1.73287201e+09, 1.73287097e+09, 1.73287002e+09, 1.73286995e+09,\n",
       "       1.73286918e+09, 1.73286916e+09, 1.73286758e+09, 1.73286704e+09,\n",
       "       1.73286698e+09, 1.73286394e+09, 1.73286159e+09, 1.73286104e+09,\n",
       "       1.73286096e+09, 1.73286034e+09, 1.73285963e+09, 1.73285955e+09,\n",
       "       1.73285754e+09, 1.73285654e+09, 1.73285532e+09, 1.73285316e+09,\n",
       "       1.73285263e+09, 1.73285185e+09, 1.73285121e+09, 1.73285106e+09,\n",
       "       1.73285091e+09, 1.73285059e+09, 1.73285052e+09, 1.73285006e+09,\n",
       "       1.73284760e+09, 1.73284676e+09, 1.73284622e+09, 1.73284552e+09,\n",
       "       1.73284486e+09, 1.73284434e+09, 1.73284397e+09, 1.73284392e+09,\n",
       "       1.73284095e+09, 1.73284037e+09, 1.73283995e+09, 1.73283983e+09,\n",
       "       1.73283881e+09, 1.73283866e+09, 1.73283723e+09, 1.73283706e+09,\n",
       "       1.73283620e+09, 1.73283565e+09, 1.73283565e+09, 1.73283538e+09,\n",
       "       1.73283525e+09, 1.73283482e+09, 1.73283477e+09, 1.73283290e+09,\n",
       "       1.73283269e+09, 1.73283258e+09, 1.73283245e+09, 1.73283210e+09,\n",
       "       1.73283146e+09, 1.73283120e+09, 1.73283056e+09, 1.73283008e+09,\n",
       "       1.73282997e+09, 1.73282977e+09, 1.73282900e+09, 1.73282811e+09,\n",
       "       1.73282694e+09, 1.73282685e+09, 1.73282633e+09, 1.73282455e+09,\n",
       "       1.73282427e+09, 1.73282368e+09, 1.73282238e+09, 1.73282120e+09,\n",
       "       1.73282069e+09, 1.73281975e+09, 1.73281905e+09, 1.73281857e+09,\n",
       "       1.73281747e+09, 1.73281712e+09, 1.73281666e+09, 1.73281570e+09,\n",
       "       1.73281562e+09, 1.73281555e+09, 1.73281547e+09, 1.73281534e+09,\n",
       "       1.73281421e+09, 1.73281377e+09, 1.73281371e+09, 1.73281370e+09,\n",
       "       1.73281369e+09, 1.73281368e+09, 1.73281257e+09, 1.73281245e+09,\n",
       "       1.73281215e+09, 1.73281147e+09, 1.73281133e+09, 1.73281089e+09,\n",
       "       1.73281071e+09, 1.73280994e+09, 1.73280905e+09, 1.73280859e+09,\n",
       "       1.73280851e+09, 1.73280795e+09, 1.73280768e+09, 1.73280722e+09,\n",
       "       1.73280679e+09, 1.73280624e+09, 1.73280611e+09, 1.73280607e+09,\n",
       "       1.73280535e+09, 1.73280431e+09, 1.73280402e+09, 1.73280234e+09,\n",
       "       1.73280175e+09, 1.73280107e+09, 1.73280088e+09, 1.73279987e+09,\n",
       "       1.73279766e+09, 1.73279676e+09, 1.73279565e+09, 1.73279545e+09,\n",
       "       1.73279526e+09, 1.73279452e+09, 1.73279433e+09, 1.73279420e+09,\n",
       "       1.73279358e+09, 1.73279309e+09, 1.73278949e+09, 1.73278928e+09,\n",
       "       1.73278884e+09, 1.73277948e+09, 1.73278794e+09, 1.73278732e+09,\n",
       "       1.73278648e+09, 1.73278613e+09, 1.73278574e+09, 1.73278498e+09,\n",
       "       1.73278462e+09, 1.73278452e+09, 1.73278354e+09, 1.73278300e+09,\n",
       "       1.73278256e+09, 1.73278207e+09, 1.73278188e+09, 1.73277804e+09,\n",
       "       1.73277794e+09, 1.73277756e+09, 1.73277702e+09, 1.73277700e+09,\n",
       "       1.73277648e+09, 1.73277566e+09, 1.73277562e+09, 1.73277476e+09,\n",
       "       1.73277319e+09, 1.73277203e+09, 1.73277186e+09, 1.73276973e+09,\n",
       "       1.73276924e+09, 1.73276880e+09, 1.73276840e+09, 1.73276831e+09,\n",
       "       1.73276811e+09, 1.73276679e+09, 1.73276661e+09, 1.73276638e+09,\n",
       "       1.73276633e+09, 1.73276615e+09, 1.73276566e+09, 1.73276486e+09,\n",
       "       1.73276383e+09, 1.73276379e+09, 1.73276189e+09, 1.73276132e+09,\n",
       "       1.73276100e+09, 1.73276100e+09, 1.73275937e+09, 1.73275869e+09,\n",
       "       1.73275821e+09, 1.73275790e+09, 1.73275760e+09, 1.73275551e+09,\n",
       "       1.73275531e+09, 1.73275505e+09, 1.73275447e+09, 1.73275359e+09,\n",
       "       1.73275337e+09, 1.73275332e+09, 1.73275279e+09, 1.73275246e+09,\n",
       "       1.73275221e+09, 1.73274992e+09, 1.73274946e+09, 1.73274882e+09,\n",
       "       1.73274856e+09, 1.73274852e+09, 1.73274839e+09, 1.73274817e+09,\n",
       "       1.73274778e+09, 1.73274663e+09, 1.73274557e+09, 1.73274541e+09,\n",
       "       1.73274513e+09, 1.73274506e+09, 1.73274473e+09, 1.73274439e+09,\n",
       "       1.73274394e+09, 1.73274274e+09, 1.73274217e+09, 1.73274208e+09,\n",
       "       1.73274207e+09, 1.73274186e+09, 1.73274034e+09, 1.73273974e+09,\n",
       "       1.73273909e+09, 1.73273894e+09, 1.73273875e+09, 1.73273847e+09,\n",
       "       1.73273824e+09, 1.73273703e+09, 1.73273646e+09, 1.73273616e+09,\n",
       "       1.73273593e+09, 1.73273580e+09, 1.73273502e+09, 1.73273368e+09,\n",
       "       1.73273340e+09, 1.73273155e+09, 1.73273145e+09, 1.73273122e+09,\n",
       "       1.73273037e+09, 1.73273006e+09, 1.73272962e+09, 1.73272939e+09,\n",
       "       1.73272832e+09, 1.73272794e+09, 1.73272728e+09, 1.73272676e+09,\n",
       "       1.73272617e+09, 1.73272597e+09, 1.73272585e+09, 1.73272579e+09,\n",
       "       1.73272574e+09, 1.73272528e+09, 1.73272485e+09, 1.73272413e+09,\n",
       "       1.73272410e+09, 1.73272403e+09, 1.73272399e+09, 1.73272367e+09,\n",
       "       1.73272367e+09, 1.73272364e+09, 1.73272334e+09, 1.73272303e+09,\n",
       "       1.73272198e+09, 1.73272164e+09, 1.73272147e+09, 1.73272144e+09,\n",
       "       1.73272142e+09, 1.73272090e+09, 1.73272048e+09, 1.73271780e+09,\n",
       "       1.73271770e+09, 1.73271643e+09, 1.73271612e+09, 1.73271604e+09,\n",
       "       1.73271490e+09, 1.73271347e+09, 1.73271195e+09, 1.73271159e+09,\n",
       "       1.73271008e+09, 1.73270983e+09, 1.73270952e+09, 1.73270838e+09,\n",
       "       1.73270719e+09, 1.73270710e+09, 1.73270696e+09, 1.73270609e+09,\n",
       "       1.73270510e+09, 1.73270453e+09, 1.73270434e+09, 1.73270417e+09,\n",
       "       1.73270409e+09, 1.73270328e+09, 1.73270299e+09, 1.73270249e+09,\n",
       "       1.73270211e+09, 1.73270187e+09, 1.73270176e+09, 1.73270032e+09,\n",
       "       1.73269983e+09, 1.73269896e+09, 1.73269690e+09, 1.73269685e+09,\n",
       "       1.73269640e+09, 1.73269448e+09, 1.73269434e+09, 1.73269339e+09,\n",
       "       1.73269242e+09, 1.73269207e+09, 1.73269080e+09, 1.73268949e+09,\n",
       "       1.73268840e+09, 1.73268563e+09, 1.73268398e+09, 1.73268267e+09,\n",
       "       1.73268211e+09, 1.73267959e+09, 1.73267901e+09, 1.73267896e+09,\n",
       "       1.73267648e+09, 1.73267523e+09, 1.73267397e+09, 1.73267371e+09,\n",
       "       1.73267303e+09, 1.73267266e+09, 1.73267221e+09, 1.73267172e+09,\n",
       "       1.73267166e+09, 1.73267158e+09, 1.73267140e+09, 1.73267075e+09,\n",
       "       1.73267047e+09, 1.73267046e+09, 1.73267016e+09, 1.73266986e+09,\n",
       "       1.73266950e+09, 1.73266902e+09, 1.73266846e+09, 1.73266838e+09,\n",
       "       1.73266834e+09, 1.73266685e+09, 1.73266603e+09, 1.73266561e+09,\n",
       "       1.73266516e+09, 1.73266516e+09, 1.73266503e+09, 1.73266462e+09,\n",
       "       1.73266417e+09, 1.73266375e+09, 1.73266194e+09, 1.73266155e+09,\n",
       "       1.73266014e+09, 1.73266011e+09, 1.73266000e+09, 1.73265917e+09,\n",
       "       1.73265857e+09, 1.73265830e+09, 1.73265762e+09, 1.73265757e+09,\n",
       "       1.73265752e+09, 1.73265725e+09, 1.73265714e+09])"
      ]
     },
     "execution_count": 45,
     "metadata": {},
     "output_type": "execute_result"
    }
   ],
   "source": [
    "iphone['Created'].unique()"
   ]
  },
  {
   "cell_type": "code",
   "execution_count": 46,
   "id": "d18df250-c6c7-4933-882c-45549576ca7b",
   "metadata": {},
   "outputs": [
    {
     "data": {
      "text/plain": [
       "0"
      ]
     },
     "execution_count": 46,
     "metadata": {},
     "output_type": "execute_result"
    }
   ],
   "source": [
    "iphone['Created'].isna().sum()"
   ]
  },
  {
   "cell_type": "code",
   "execution_count": 85,
   "id": "3137b67f-d51c-4c5e-833a-bc9f727da3ab",
   "metadata": {},
   "outputs": [],
   "source": [
    "iphone['Created'] = pd.to_datetime(iphone['Created'], errors='coerce')"
   ]
  },
  {
   "cell_type": "code",
   "execution_count": 48,
   "id": "71432c87-86f7-48e0-a4ae-96e333ac6fed",
   "metadata": {},
   "outputs": [
    {
     "data": {
      "text/html": [
       "<div>\n",
       "<style scoped>\n",
       "    .dataframe tbody tr th:only-of-type {\n",
       "        vertical-align: middle;\n",
       "    }\n",
       "\n",
       "    .dataframe tbody tr th {\n",
       "        vertical-align: top;\n",
       "    }\n",
       "\n",
       "    .dataframe thead th {\n",
       "        text-align: right;\n",
       "    }\n",
       "</style>\n",
       "<table border=\"1\" class=\"dataframe\">\n",
       "  <thead>\n",
       "    <tr style=\"text-align: right;\">\n",
       "      <th></th>\n",
       "      <th>Title</th>\n",
       "      <th>Upvotes</th>\n",
       "      <th>URL</th>\n",
       "      <th>Created</th>\n",
       "      <th>Text</th>\n",
       "      <th>Sentiment</th>\n",
       "      <th>Sentiment-Vader</th>\n",
       "    </tr>\n",
       "  </thead>\n",
       "  <tbody>\n",
       "    <tr>\n",
       "      <th>0</th>\n",
       "      <td>Should I do art on phone?</td>\n",
       "      <td>1</td>\n",
       "      <td>https://www.reddit.com/r/iphone/comments/1h5jf...</td>\n",
       "      <td>1970-01-01 00:00:01.733217014</td>\n",
       "      <td>I dont have ipad, is it stupid of me to use a ...</td>\n",
       "      <td>-0.800000</td>\n",
       "      <td>Negative</td>\n",
       "    </tr>\n",
       "    <tr>\n",
       "      <th>1</th>\n",
       "      <td>iPhone not charging.</td>\n",
       "      <td>1</td>\n",
       "      <td>https://www.reddit.com/r/iphone/comments/1h5jd...</td>\n",
       "      <td>1970-01-01 00:00:01.733216772</td>\n",
       "      <td>When I put the charger in, it doesn't do anyth...</td>\n",
       "      <td>0.143333</td>\n",
       "      <td>Positive</td>\n",
       "    </tr>\n",
       "    <tr>\n",
       "      <th>2</th>\n",
       "      <td>“Headphone accommodations” – music test</td>\n",
       "      <td>1</td>\n",
       "      <td>https://www.reddit.com/r/iphone/comments/1h5ja...</td>\n",
       "      <td>1970-01-01 00:00:01.733216471</td>\n",
       "      <td>I was just curious about the Headphone Accommo...</td>\n",
       "      <td>0.205833</td>\n",
       "      <td>Positive</td>\n",
       "    </tr>\n",
       "    <tr>\n",
       "      <th>3</th>\n",
       "      <td>How can I transfer all my stuff from a broken ...</td>\n",
       "      <td>2</td>\n",
       "      <td>https://www.reddit.com/r/iphone/comments/1h5ja...</td>\n",
       "      <td>1970-01-01 00:00:01.733216437</td>\n",
       "      <td>So earlier today I dropped my iphone 14 pro ma...</td>\n",
       "      <td>0.121591</td>\n",
       "      <td>Negative</td>\n",
       "    </tr>\n",
       "    <tr>\n",
       "      <th>4</th>\n",
       "      <td>My ex husband has an iPhone, but when I text h...</td>\n",
       "      <td>0</td>\n",
       "      <td>https://www.reddit.com/r/iphone/comments/1h5j7...</td>\n",
       "      <td>1970-01-01 00:00:01.733216010</td>\n",
       "      <td>Not sure if this is the right sub for this, bu...</td>\n",
       "      <td>0.017143</td>\n",
       "      <td>Negative</td>\n",
       "    </tr>\n",
       "  </tbody>\n",
       "</table>\n",
       "</div>"
      ],
      "text/plain": [
       "                                               Title  Upvotes  \\\n",
       "0                          Should I do art on phone?        1   \n",
       "1                              iPhone not charging.         1   \n",
       "2            “Headphone accommodations” – music test        1   \n",
       "3  How can I transfer all my stuff from a broken ...        2   \n",
       "4  My ex husband has an iPhone, but when I text h...        0   \n",
       "\n",
       "                                                 URL  \\\n",
       "0  https://www.reddit.com/r/iphone/comments/1h5jf...   \n",
       "1  https://www.reddit.com/r/iphone/comments/1h5jd...   \n",
       "2  https://www.reddit.com/r/iphone/comments/1h5ja...   \n",
       "3  https://www.reddit.com/r/iphone/comments/1h5ja...   \n",
       "4  https://www.reddit.com/r/iphone/comments/1h5j7...   \n",
       "\n",
       "                        Created  \\\n",
       "0 1970-01-01 00:00:01.733217014   \n",
       "1 1970-01-01 00:00:01.733216772   \n",
       "2 1970-01-01 00:00:01.733216471   \n",
       "3 1970-01-01 00:00:01.733216437   \n",
       "4 1970-01-01 00:00:01.733216010   \n",
       "\n",
       "                                                Text  Sentiment  \\\n",
       "0  I dont have ipad, is it stupid of me to use a ...  -0.800000   \n",
       "1  When I put the charger in, it doesn't do anyth...   0.143333   \n",
       "2  I was just curious about the Headphone Accommo...   0.205833   \n",
       "3  So earlier today I dropped my iphone 14 pro ma...   0.121591   \n",
       "4  Not sure if this is the right sub for this, bu...   0.017143   \n",
       "\n",
       "  Sentiment-Vader  \n",
       "0        Negative  \n",
       "1        Positive  \n",
       "2        Positive  \n",
       "3        Negative  \n",
       "4        Negative  "
      ]
     },
     "execution_count": 48,
     "metadata": {},
     "output_type": "execute_result"
    }
   ],
   "source": [
    "iphone.head()"
   ]
  },
  {
   "cell_type": "code",
   "execution_count": 49,
   "id": "01accba3-21e0-48cf-80af-4ea800ffb1ec",
   "metadata": {},
   "outputs": [],
   "source": [
    "iphone = iphone.dropna(subset=['Created'])"
   ]
  },
  {
   "cell_type": "code",
   "execution_count": 50,
   "id": "688e230e-963b-4c42-a9ce-12bb411ca015",
   "metadata": {},
   "outputs": [],
   "source": [
    "iphone['YearMonth'] = iphone['Created'].dt.to_period('M')"
   ]
  },
  {
   "cell_type": "code",
   "execution_count": 51,
   "id": "f9a10ca4-127c-4bd6-9c8a-45641904c8e5",
   "metadata": {},
   "outputs": [
    {
     "data": {
      "text/plain": [
       "<PeriodArray>\n",
       "['1970-01']\n",
       "Length: 1, dtype: period[M]"
      ]
     },
     "execution_count": 51,
     "metadata": {},
     "output_type": "execute_result"
    }
   ],
   "source": [
    "iphone['YearMonth'].unique()"
   ]
  },
  {
   "cell_type": "code",
   "execution_count": 52,
   "id": "8e49da60-f1ca-4701-9cad-ad6f34dd23be",
   "metadata": {},
   "outputs": [
    {
     "data": {
      "text/html": [
       "<div>\n",
       "<style scoped>\n",
       "    .dataframe tbody tr th:only-of-type {\n",
       "        vertical-align: middle;\n",
       "    }\n",
       "\n",
       "    .dataframe tbody tr th {\n",
       "        vertical-align: top;\n",
       "    }\n",
       "\n",
       "    .dataframe thead th {\n",
       "        text-align: right;\n",
       "    }\n",
       "</style>\n",
       "<table border=\"1\" class=\"dataframe\">\n",
       "  <thead>\n",
       "    <tr style=\"text-align: right;\">\n",
       "      <th></th>\n",
       "      <th>Title</th>\n",
       "      <th>Upvotes</th>\n",
       "      <th>URL</th>\n",
       "      <th>Created</th>\n",
       "      <th>Text</th>\n",
       "      <th>Sentiment</th>\n",
       "      <th>Sentiment-Vader</th>\n",
       "      <th>YearMonth</th>\n",
       "    </tr>\n",
       "  </thead>\n",
       "  <tbody>\n",
       "    <tr>\n",
       "      <th>0</th>\n",
       "      <td>Should I do art on phone?</td>\n",
       "      <td>1</td>\n",
       "      <td>https://www.reddit.com/r/iphone/comments/1h5jf...</td>\n",
       "      <td>1970-01-01 00:00:01.733217014</td>\n",
       "      <td>I dont have ipad, is it stupid of me to use a ...</td>\n",
       "      <td>-0.800000</td>\n",
       "      <td>Negative</td>\n",
       "      <td>1970-01</td>\n",
       "    </tr>\n",
       "    <tr>\n",
       "      <th>1</th>\n",
       "      <td>iPhone not charging.</td>\n",
       "      <td>1</td>\n",
       "      <td>https://www.reddit.com/r/iphone/comments/1h5jd...</td>\n",
       "      <td>1970-01-01 00:00:01.733216772</td>\n",
       "      <td>When I put the charger in, it doesn't do anyth...</td>\n",
       "      <td>0.143333</td>\n",
       "      <td>Positive</td>\n",
       "      <td>1970-01</td>\n",
       "    </tr>\n",
       "    <tr>\n",
       "      <th>2</th>\n",
       "      <td>“Headphone accommodations” – music test</td>\n",
       "      <td>1</td>\n",
       "      <td>https://www.reddit.com/r/iphone/comments/1h5ja...</td>\n",
       "      <td>1970-01-01 00:00:01.733216471</td>\n",
       "      <td>I was just curious about the Headphone Accommo...</td>\n",
       "      <td>0.205833</td>\n",
       "      <td>Positive</td>\n",
       "      <td>1970-01</td>\n",
       "    </tr>\n",
       "    <tr>\n",
       "      <th>3</th>\n",
       "      <td>How can I transfer all my stuff from a broken ...</td>\n",
       "      <td>2</td>\n",
       "      <td>https://www.reddit.com/r/iphone/comments/1h5ja...</td>\n",
       "      <td>1970-01-01 00:00:01.733216437</td>\n",
       "      <td>So earlier today I dropped my iphone 14 pro ma...</td>\n",
       "      <td>0.121591</td>\n",
       "      <td>Negative</td>\n",
       "      <td>1970-01</td>\n",
       "    </tr>\n",
       "    <tr>\n",
       "      <th>4</th>\n",
       "      <td>My ex husband has an iPhone, but when I text h...</td>\n",
       "      <td>0</td>\n",
       "      <td>https://www.reddit.com/r/iphone/comments/1h5j7...</td>\n",
       "      <td>1970-01-01 00:00:01.733216010</td>\n",
       "      <td>Not sure if this is the right sub for this, bu...</td>\n",
       "      <td>0.017143</td>\n",
       "      <td>Negative</td>\n",
       "      <td>1970-01</td>\n",
       "    </tr>\n",
       "  </tbody>\n",
       "</table>\n",
       "</div>"
      ],
      "text/plain": [
       "                                               Title  Upvotes  \\\n",
       "0                          Should I do art on phone?        1   \n",
       "1                              iPhone not charging.         1   \n",
       "2            “Headphone accommodations” – music test        1   \n",
       "3  How can I transfer all my stuff from a broken ...        2   \n",
       "4  My ex husband has an iPhone, but when I text h...        0   \n",
       "\n",
       "                                                 URL  \\\n",
       "0  https://www.reddit.com/r/iphone/comments/1h5jf...   \n",
       "1  https://www.reddit.com/r/iphone/comments/1h5jd...   \n",
       "2  https://www.reddit.com/r/iphone/comments/1h5ja...   \n",
       "3  https://www.reddit.com/r/iphone/comments/1h5ja...   \n",
       "4  https://www.reddit.com/r/iphone/comments/1h5j7...   \n",
       "\n",
       "                        Created  \\\n",
       "0 1970-01-01 00:00:01.733217014   \n",
       "1 1970-01-01 00:00:01.733216772   \n",
       "2 1970-01-01 00:00:01.733216471   \n",
       "3 1970-01-01 00:00:01.733216437   \n",
       "4 1970-01-01 00:00:01.733216010   \n",
       "\n",
       "                                                Text  Sentiment  \\\n",
       "0  I dont have ipad, is it stupid of me to use a ...  -0.800000   \n",
       "1  When I put the charger in, it doesn't do anyth...   0.143333   \n",
       "2  I was just curious about the Headphone Accommo...   0.205833   \n",
       "3  So earlier today I dropped my iphone 14 pro ma...   0.121591   \n",
       "4  Not sure if this is the right sub for this, bu...   0.017143   \n",
       "\n",
       "  Sentiment-Vader YearMonth  \n",
       "0        Negative   1970-01  \n",
       "1        Positive   1970-01  \n",
       "2        Positive   1970-01  \n",
       "3        Negative   1970-01  \n",
       "4        Negative   1970-01  "
      ]
     },
     "execution_count": 52,
     "metadata": {},
     "output_type": "execute_result"
    }
   ],
   "source": [
    "iphone.head()"
   ]
  },
  {
   "cell_type": "code",
   "execution_count": 53,
   "id": "53ec7763-1e44-4beb-a14c-0a8428f0eafa",
   "metadata": {},
   "outputs": [],
   "source": [
    "from wordcloud import WordCloud"
   ]
  },
  {
   "cell_type": "code",
   "execution_count": 54,
   "id": "277c9514-b0dd-437d-9b82-f78fcf2f4132",
   "metadata": {},
   "outputs": [],
   "source": [
    "wordcloud = WordCloud(width=800, height=400).generate(\" \".join(iphone['Text'])) # Most Frequent Words."
   ]
  },
  {
   "cell_type": "code",
   "execution_count": 55,
   "id": "db71531e-083a-464a-9b27-c2b382c1113a",
   "metadata": {},
   "outputs": [],
   "source": [
    "import matplotlib.pyplot as plt"
   ]
  },
  {
   "cell_type": "code",
   "execution_count": 56,
   "id": "8153bdfd-8572-4232-9379-167a781cd2d9",
   "metadata": {},
   "outputs": [
    {
     "data": {
      "image/png": "[encoded data removed]",
      "text/plain": [
       "<Figure size 640x480 with 1 Axes>"
      ]
     },
     "metadata": {},
     "output_type": "display_data"
    }
   ],
   "source": [
    "plt.imshow(wordcloud, interpolation='bilinear')\n",
    "plt.axis('off')\n",
    "plt.show()"
   ]
  },
  {
   "cell_type": "code",
   "execution_count": 57,
   "id": "c6431d1a-7f53-46d5-a67f-aabf91afbc72",
   "metadata": {},
   "outputs": [],
   "source": [
    "from textblob import TextBlob"
   ]
  },
  {
   "cell_type": "code",
   "execution_count": 58,
   "id": "ce86595a-0af6-4baf-8577-398ca13a4c49",
   "metadata": {},
   "outputs": [],
   "source": [
    "def get_sentiment(text):\n",
    "    blob = TextBlob(text)\n",
    "    # Get the polarity of the text (-1 is negative, 0 is neutral, 1 is positive)\n",
    "    polarity = blob.sentiment.polarity\n",
    "\n",
    "    if polarity > 0:\n",
    "        return 'Positive'\n",
    "    elif polarity < 0:\n",
    "        return 'Negative'\n",
    "    else:\n",
    "        return 'Neutral'"
   ]
  },
  {
   "cell_type": "code",
   "execution_count": 59,
   "id": "4d0e5a94-1e47-4f06-9460-62fe8f71b3fe",
   "metadata": {},
   "outputs": [],
   "source": [
    "iphone['Sentiment-TB'] = iphone['Text'].apply(lambda x: get_sentiment(x))"
   ]
  },
  {
   "cell_type": "code",
   "execution_count": 60,
   "id": "3d594abf-ff93-4eec-87c5-92b80424e8c5",
   "metadata": {},
   "outputs": [
    {
     "data": {
      "text/html": [
       "<div>\n",
       "<style scoped>\n",
       "    .dataframe tbody tr th:only-of-type {\n",
       "        vertical-align: middle;\n",
       "    }\n",
       "\n",
       "    .dataframe tbody tr th {\n",
       "        vertical-align: top;\n",
       "    }\n",
       "\n",
       "    .dataframe thead th {\n",
       "        text-align: right;\n",
       "    }\n",
       "</style>\n",
       "<table border=\"1\" class=\"dataframe\">\n",
       "  <thead>\n",
       "    <tr style=\"text-align: right;\">\n",
       "      <th></th>\n",
       "      <th>Title</th>\n",
       "      <th>Upvotes</th>\n",
       "      <th>URL</th>\n",
       "      <th>Created</th>\n",
       "      <th>Text</th>\n",
       "      <th>Sentiment</th>\n",
       "      <th>Sentiment-Vader</th>\n",
       "      <th>YearMonth</th>\n",
       "      <th>Sentiment-TB</th>\n",
       "    </tr>\n",
       "  </thead>\n",
       "  <tbody>\n",
       "    <tr>\n",
       "      <th>0</th>\n",
       "      <td>Should I do art on phone?</td>\n",
       "      <td>1</td>\n",
       "      <td>https://www.reddit.com/r/iphone/comments/1h5jf...</td>\n",
       "      <td>1970-01-01 00:00:01.733217014</td>\n",
       "      <td>I dont have ipad, is it stupid of me to use a ...</td>\n",
       "      <td>-0.800000</td>\n",
       "      <td>Negative</td>\n",
       "      <td>1970-01</td>\n",
       "      <td>Negative</td>\n",
       "    </tr>\n",
       "    <tr>\n",
       "      <th>1</th>\n",
       "      <td>iPhone not charging.</td>\n",
       "      <td>1</td>\n",
       "      <td>https://www.reddit.com/r/iphone/comments/1h5jd...</td>\n",
       "      <td>1970-01-01 00:00:01.733216772</td>\n",
       "      <td>When I put the charger in, it doesn't do anyth...</td>\n",
       "      <td>0.143333</td>\n",
       "      <td>Positive</td>\n",
       "      <td>1970-01</td>\n",
       "      <td>Positive</td>\n",
       "    </tr>\n",
       "    <tr>\n",
       "      <th>2</th>\n",
       "      <td>“Headphone accommodations” – music test</td>\n",
       "      <td>1</td>\n",
       "      <td>https://www.reddit.com/r/iphone/comments/1h5ja...</td>\n",
       "      <td>1970-01-01 00:00:01.733216471</td>\n",
       "      <td>I was just curious about the Headphone Accommo...</td>\n",
       "      <td>0.205833</td>\n",
       "      <td>Positive</td>\n",
       "      <td>1970-01</td>\n",
       "      <td>Positive</td>\n",
       "    </tr>\n",
       "    <tr>\n",
       "      <th>3</th>\n",
       "      <td>How can I transfer all my stuff from a broken ...</td>\n",
       "      <td>2</td>\n",
       "      <td>https://www.reddit.com/r/iphone/comments/1h5ja...</td>\n",
       "      <td>1970-01-01 00:00:01.733216437</td>\n",
       "      <td>So earlier today I dropped my iphone 14 pro ma...</td>\n",
       "      <td>0.121591</td>\n",
       "      <td>Negative</td>\n",
       "      <td>1970-01</td>\n",
       "      <td>Positive</td>\n",
       "    </tr>\n",
       "    <tr>\n",
       "      <th>4</th>\n",
       "      <td>My ex husband has an iPhone, but when I text h...</td>\n",
       "      <td>0</td>\n",
       "      <td>https://www.reddit.com/r/iphone/comments/1h5j7...</td>\n",
       "      <td>1970-01-01 00:00:01.733216010</td>\n",
       "      <td>Not sure if this is the right sub for this, bu...</td>\n",
       "      <td>0.017143</td>\n",
       "      <td>Negative</td>\n",
       "      <td>1970-01</td>\n",
       "      <td>Positive</td>\n",
       "    </tr>\n",
       "  </tbody>\n",
       "</table>\n",
       "</div>"
      ],
      "text/plain": [
       "                                               Title  Upvotes  \\\n",
       "0                          Should I do art on phone?        1   \n",
       "1                              iPhone not charging.         1   \n",
       "2            “Headphone accommodations” – music test        1   \n",
       "3  How can I transfer all my stuff from a broken ...        2   \n",
       "4  My ex husband has an iPhone, but when I text h...        0   \n",
       "\n",
       "                                                 URL  \\\n",
       "0  https://www.reddit.com/r/iphone/comments/1h5jf...   \n",
       "1  https://www.reddit.com/r/iphone/comments/1h5jd...   \n",
       "2  https://www.reddit.com/r/iphone/comments/1h5ja...   \n",
       "3  https://www.reddit.com/r/iphone/comments/1h5ja...   \n",
       "4  https://www.reddit.com/r/iphone/comments/1h5j7...   \n",
       "\n",
       "                        Created  \\\n",
       "0 1970-01-01 00:00:01.733217014   \n",
       "1 1970-01-01 00:00:01.733216772   \n",
       "2 1970-01-01 00:00:01.733216471   \n",
       "3 1970-01-01 00:00:01.733216437   \n",
       "4 1970-01-01 00:00:01.733216010   \n",
       "\n",
       "                                                Text  Sentiment  \\\n",
       "0  I dont have ipad, is it stupid of me to use a ...  -0.800000   \n",
       "1  When I put the charger in, it doesn't do anyth...   0.143333   \n",
       "2  I was just curious about the Headphone Accommo...   0.205833   \n",
       "3  So earlier today I dropped my iphone 14 pro ma...   0.121591   \n",
       "4  Not sure if this is the right sub for this, bu...   0.017143   \n",
       "\n",
       "  Sentiment-Vader YearMonth Sentiment-TB  \n",
       "0        Negative   1970-01     Negative  \n",
       "1        Positive   1970-01     Positive  \n",
       "2        Positive   1970-01     Positive  \n",
       "3        Negative   1970-01     Positive  \n",
       "4        Negative   1970-01     Positive  "
      ]
     },
     "execution_count": 60,
     "metadata": {},
     "output_type": "execute_result"
    }
   ],
   "source": [
    "iphone.head()"
   ]
  },
  {
   "cell_type": "code",
   "execution_count": 61,
   "id": "a77ef25c-6070-416c-8600-35439d03a0bc",
   "metadata": {},
   "outputs": [
    {
     "data": {
      "text/plain": [
       "Sentiment-TB\n",
       "Positive    757\n",
       "Negative    378\n",
       "Neutral     363\n",
       "Name: count, dtype: int64"
      ]
     },
     "execution_count": 61,
     "metadata": {},
     "output_type": "execute_result"
    }
   ],
   "source": [
    "iphone['Sentiment-TB'].value_counts()"
   ]
  },
  {
   "cell_type": "code",
   "execution_count": 62,
   "id": "e7b11a43-f03d-4c6d-8411-b93872c6453d",
   "metadata": {},
   "outputs": [
    {
     "data": {
      "text/html": [
       "<div>\n",
       "<style scoped>\n",
       "    .dataframe tbody tr th:only-of-type {\n",
       "        vertical-align: middle;\n",
       "    }\n",
       "\n",
       "    .dataframe tbody tr th {\n",
       "        vertical-align: top;\n",
       "    }\n",
       "\n",
       "    .dataframe thead th {\n",
       "        text-align: right;\n",
       "    }\n",
       "</style>\n",
       "<table border=\"1\" class=\"dataframe\">\n",
       "  <thead>\n",
       "    <tr style=\"text-align: right;\">\n",
       "      <th></th>\n",
       "      <th>Title</th>\n",
       "      <th>Upvotes</th>\n",
       "      <th>URL</th>\n",
       "      <th>Created</th>\n",
       "      <th>Text</th>\n",
       "      <th>Sentiment</th>\n",
       "      <th>Sentiment-Vader</th>\n",
       "      <th>YearMonth</th>\n",
       "      <th>Sentiment-TB</th>\n",
       "    </tr>\n",
       "  </thead>\n",
       "  <tbody>\n",
       "    <tr>\n",
       "      <th>0</th>\n",
       "      <td>Should I do art on phone?</td>\n",
       "      <td>1</td>\n",
       "      <td>https://www.reddit.com/r/iphone/comments/1h5jf...</td>\n",
       "      <td>1970-01-01 00:00:01.733217014</td>\n",
       "      <td>I dont have ipad, is it stupid of me to use a ...</td>\n",
       "      <td>-0.800000</td>\n",
       "      <td>Negative</td>\n",
       "      <td>1970-01</td>\n",
       "      <td>Negative</td>\n",
       "    </tr>\n",
       "    <tr>\n",
       "      <th>1</th>\n",
       "      <td>iPhone not charging.</td>\n",
       "      <td>1</td>\n",
       "      <td>https://www.reddit.com/r/iphone/comments/1h5jd...</td>\n",
       "      <td>1970-01-01 00:00:01.733216772</td>\n",
       "      <td>When I put the charger in, it doesn't do anyth...</td>\n",
       "      <td>0.143333</td>\n",
       "      <td>Positive</td>\n",
       "      <td>1970-01</td>\n",
       "      <td>Positive</td>\n",
       "    </tr>\n",
       "    <tr>\n",
       "      <th>2</th>\n",
       "      <td>“Headphone accommodations” – music test</td>\n",
       "      <td>1</td>\n",
       "      <td>https://www.reddit.com/r/iphone/comments/1h5ja...</td>\n",
       "      <td>1970-01-01 00:00:01.733216471</td>\n",
       "      <td>I was just curious about the Headphone Accommo...</td>\n",
       "      <td>0.205833</td>\n",
       "      <td>Positive</td>\n",
       "      <td>1970-01</td>\n",
       "      <td>Positive</td>\n",
       "    </tr>\n",
       "    <tr>\n",
       "      <th>3</th>\n",
       "      <td>How can I transfer all my stuff from a broken ...</td>\n",
       "      <td>2</td>\n",
       "      <td>https://www.reddit.com/r/iphone/comments/1h5ja...</td>\n",
       "      <td>1970-01-01 00:00:01.733216437</td>\n",
       "      <td>So earlier today I dropped my iphone 14 pro ma...</td>\n",
       "      <td>0.121591</td>\n",
       "      <td>Negative</td>\n",
       "      <td>1970-01</td>\n",
       "      <td>Positive</td>\n",
       "    </tr>\n",
       "    <tr>\n",
       "      <th>4</th>\n",
       "      <td>My ex husband has an iPhone, but when I text h...</td>\n",
       "      <td>0</td>\n",
       "      <td>https://www.reddit.com/r/iphone/comments/1h5j7...</td>\n",
       "      <td>1970-01-01 00:00:01.733216010</td>\n",
       "      <td>Not sure if this is the right sub for this, bu...</td>\n",
       "      <td>0.017143</td>\n",
       "      <td>Negative</td>\n",
       "      <td>1970-01</td>\n",
       "      <td>Positive</td>\n",
       "    </tr>\n",
       "  </tbody>\n",
       "</table>\n",
       "</div>"
      ],
      "text/plain": [
       "                                               Title  Upvotes  \\\n",
       "0                          Should I do art on phone?        1   \n",
       "1                              iPhone not charging.         1   \n",
       "2            “Headphone accommodations” – music test        1   \n",
       "3  How can I transfer all my stuff from a broken ...        2   \n",
       "4  My ex husband has an iPhone, but when I text h...        0   \n",
       "\n",
       "                                                 URL  \\\n",
       "0  https://www.reddit.com/r/iphone/comments/1h5jf...   \n",
       "1  https://www.reddit.com/r/iphone/comments/1h5jd...   \n",
       "2  https://www.reddit.com/r/iphone/comments/1h5ja...   \n",
       "3  https://www.reddit.com/r/iphone/comments/1h5ja...   \n",
       "4  https://www.reddit.com/r/iphone/comments/1h5j7...   \n",
       "\n",
       "                        Created  \\\n",
       "0 1970-01-01 00:00:01.733217014   \n",
       "1 1970-01-01 00:00:01.733216772   \n",
       "2 1970-01-01 00:00:01.733216471   \n",
       "3 1970-01-01 00:00:01.733216437   \n",
       "4 1970-01-01 00:00:01.733216010   \n",
       "\n",
       "                                                Text  Sentiment  \\\n",
       "0  I dont have ipad, is it stupid of me to use a ...  -0.800000   \n",
       "1  When I put the charger in, it doesn't do anyth...   0.143333   \n",
       "2  I was just curious about the Headphone Accommo...   0.205833   \n",
       "3  So earlier today I dropped my iphone 14 pro ma...   0.121591   \n",
       "4  Not sure if this is the right sub for this, bu...   0.017143   \n",
       "\n",
       "  Sentiment-Vader YearMonth Sentiment-TB  \n",
       "0        Negative   1970-01     Negative  \n",
       "1        Positive   1970-01     Positive  \n",
       "2        Positive   1970-01     Positive  \n",
       "3        Negative   1970-01     Positive  \n",
       "4        Negative   1970-01     Positive  "
      ]
     },
     "execution_count": 62,
     "metadata": {},
     "output_type": "execute_result"
    }
   ],
   "source": [
    "iphone.head()"
   ]
  },
  {
   "cell_type": "markdown",
   "id": "225d48ba-c693-4e4c-a230-8d5dbdc6cedc",
   "metadata": {},
   "source": [
    "we know that Both TextBlob and VADER (Valence Aware Dictionary and sEntiment Reasoner) are popular libraries for sentiment analysis, and they each offer different methods for determining sentiment below we can see an example."
   ]
  },
  {
   "cell_type": "code",
   "execution_count": 63,
   "id": "172d6f9b-4867-483d-96ab-ca575d5c042a",
   "metadata": {},
   "outputs": [],
   "source": [
    "data = {'Title': ['I love my iPhone!', 'This phone is awful.', 'The new iPhone is just okay.']}"
   ]
  },
  {
   "cell_type": "code",
   "execution_count": 64,
   "id": "7f969d46-328c-4950-9deb-67b0bb0cd488",
   "metadata": {},
   "outputs": [],
   "source": [
    "df = pd.DataFrame(data)\n",
    "df['TextBlob Sentiment'] = df['Title'].apply(get_sentiment)  # By textblob\n",
    "df['VADER Sentiment'] = df['Title'].apply(lambda x: assign_sentiment(iphone_ana.polarity_scores(x)['compound'])) # by vader."
   ]
  },
  {
   "cell_type": "code",
   "execution_count": 65,
   "id": "c3743a57-3c4a-405c-860a-03025cd1b074",
   "metadata": {},
   "outputs": [
    {
     "data": {
      "text/html": [
       "<div>\n",
       "<style scoped>\n",
       "    .dataframe tbody tr th:only-of-type {\n",
       "        vertical-align: middle;\n",
       "    }\n",
       "\n",
       "    .dataframe tbody tr th {\n",
       "        vertical-align: top;\n",
       "    }\n",
       "\n",
       "    .dataframe thead th {\n",
       "        text-align: right;\n",
       "    }\n",
       "</style>\n",
       "<table border=\"1\" class=\"dataframe\">\n",
       "  <thead>\n",
       "    <tr style=\"text-align: right;\">\n",
       "      <th></th>\n",
       "      <th>Title</th>\n",
       "      <th>TextBlob Sentiment</th>\n",
       "      <th>VADER Sentiment</th>\n",
       "    </tr>\n",
       "  </thead>\n",
       "  <tbody>\n",
       "    <tr>\n",
       "      <th>0</th>\n",
       "      <td>I love my iPhone!</td>\n",
       "      <td>Positive</td>\n",
       "      <td>Positive</td>\n",
       "    </tr>\n",
       "    <tr>\n",
       "      <th>1</th>\n",
       "      <td>This phone is awful.</td>\n",
       "      <td>Negative</td>\n",
       "      <td>Negative</td>\n",
       "    </tr>\n",
       "    <tr>\n",
       "      <th>2</th>\n",
       "      <td>The new iPhone is just okay.</td>\n",
       "      <td>Positive</td>\n",
       "      <td>Positive</td>\n",
       "    </tr>\n",
       "  </tbody>\n",
       "</table>\n",
       "</div>"
      ],
      "text/plain": [
       "                          Title TextBlob Sentiment VADER Sentiment\n",
       "0             I love my iPhone!           Positive        Positive\n",
       "1          This phone is awful.           Negative        Negative\n",
       "2  The new iPhone is just okay.           Positive        Positive"
      ]
     },
     "execution_count": 65,
     "metadata": {},
     "output_type": "execute_result"
    }
   ],
   "source": [
    "df"
   ]
  },
  {
   "cell_type": "code",
   "execution_count": 66,
   "id": "8a6f74cf-771d-49b5-96e6-2fa12008ad5a",
   "metadata": {},
   "outputs": [],
   "source": [
    "data = {'Title': [\n",
    "    \"I absolutely love my new iPhone!!!\",         # Very positive with emoji\n",
    "    \"I hate the new update... it's so awful\",     # Negative with emoji\n",
    "    \"The battery life is okay, I guess...\",          # Neutral with mixed feelings\n",
    "    \"I am so excited to try out the new features!!\",  # Positive with exclamation\n",
    "    \"The camera quality is terrible, but the phone is nice.\",  # Mixed sentiment\n",
    "    \"Worst purchase ever. Will never buy again.\",    # Strong negative\n",
    "    \"It’s alright, but not what I expected...\",      # Neutral with slight disappointment\n",
    "    \"OMG this is AMAZING!!!\",                     # Strong positive with exclamation and emoji\n",
    "    \"I don’t really like the new design, but it’s fine.\",  # Neutral with slight negative\n",
    "    \"Can’t believe I paid this much... It’s so overpriced.\",  # Negative with sarcasm\n",
    "]}"
   ]
  },
  {
   "cell_type": "code",
   "execution_count": 67,
   "id": "cd689dc7-17e7-4b17-8b48-e38b512912d7",
   "metadata": {},
   "outputs": [],
   "source": [
    "df = pd.DataFrame(data)\n",
    "df['TextBlob Sentiment'] = df['Title'].apply(get_sentiment)  # By textblob\n",
    "df['VADER Sentiment'] = df['Title'].apply(lambda x: assign_sentiment(iphone_ana.polarity_scores(x)['compound'])) # by vader."
   ]
  },
  {
   "cell_type": "code",
   "execution_count": 68,
   "id": "4abf8f4b-5734-4749-89eb-b934776b8f9c",
   "metadata": {},
   "outputs": [
    {
     "data": {
      "text/html": [
       "<div>\n",
       "<style scoped>\n",
       "    .dataframe tbody tr th:only-of-type {\n",
       "        vertical-align: middle;\n",
       "    }\n",
       "\n",
       "    .dataframe tbody tr th {\n",
       "        vertical-align: top;\n",
       "    }\n",
       "\n",
       "    .dataframe thead th {\n",
       "        text-align: right;\n",
       "    }\n",
       "</style>\n",
       "<table border=\"1\" class=\"dataframe\">\n",
       "  <thead>\n",
       "    <tr style=\"text-align: right;\">\n",
       "      <th></th>\n",
       "      <th>Title</th>\n",
       "      <th>TextBlob Sentiment</th>\n",
       "      <th>VADER Sentiment</th>\n",
       "    </tr>\n",
       "  </thead>\n",
       "  <tbody>\n",
       "    <tr>\n",
       "      <th>0</th>\n",
       "      <td>I absolutely love my new iPhone!!!</td>\n",
       "      <td>Positive</td>\n",
       "      <td>Positive</td>\n",
       "    </tr>\n",
       "    <tr>\n",
       "      <th>1</th>\n",
       "      <td>I hate the new update... it's so awful</td>\n",
       "      <td>Negative</td>\n",
       "      <td>Negative</td>\n",
       "    </tr>\n",
       "    <tr>\n",
       "      <th>2</th>\n",
       "      <td>The battery life is okay, I guess...</td>\n",
       "      <td>Positive</td>\n",
       "      <td>Positive</td>\n",
       "    </tr>\n",
       "    <tr>\n",
       "      <th>3</th>\n",
       "      <td>I am so excited to try out the new features!!</td>\n",
       "      <td>Positive</td>\n",
       "      <td>Positive</td>\n",
       "    </tr>\n",
       "    <tr>\n",
       "      <th>4</th>\n",
       "      <td>The camera quality is terrible, but the phone ...</td>\n",
       "      <td>Negative</td>\n",
       "      <td>Positive</td>\n",
       "    </tr>\n",
       "    <tr>\n",
       "      <th>5</th>\n",
       "      <td>Worst purchase ever. Will never buy again.</td>\n",
       "      <td>Negative</td>\n",
       "      <td>Negative</td>\n",
       "    </tr>\n",
       "    <tr>\n",
       "      <th>6</th>\n",
       "      <td>It’s alright, but not what I expected...</td>\n",
       "      <td>Negative</td>\n",
       "      <td>Positive</td>\n",
       "    </tr>\n",
       "    <tr>\n",
       "      <th>7</th>\n",
       "      <td>OMG this is AMAZING!!!</td>\n",
       "      <td>Positive</td>\n",
       "      <td>Positive</td>\n",
       "    </tr>\n",
       "    <tr>\n",
       "      <th>8</th>\n",
       "      <td>I don’t really like the new design, but it’s f...</td>\n",
       "      <td>Positive</td>\n",
       "      <td>Positive</td>\n",
       "    </tr>\n",
       "    <tr>\n",
       "      <th>9</th>\n",
       "      <td>Can’t believe I paid this much... It’s so over...</td>\n",
       "      <td>Positive</td>\n",
       "      <td>Neutral</td>\n",
       "    </tr>\n",
       "  </tbody>\n",
       "</table>\n",
       "</div>"
      ],
      "text/plain": [
       "                                               Title TextBlob Sentiment  \\\n",
       "0                 I absolutely love my new iPhone!!!           Positive   \n",
       "1             I hate the new update... it's so awful           Negative   \n",
       "2               The battery life is okay, I guess...           Positive   \n",
       "3      I am so excited to try out the new features!!           Positive   \n",
       "4  The camera quality is terrible, but the phone ...           Negative   \n",
       "5         Worst purchase ever. Will never buy again.           Negative   \n",
       "6           It’s alright, but not what I expected...           Negative   \n",
       "7                             OMG this is AMAZING!!!           Positive   \n",
       "8  I don’t really like the new design, but it’s f...           Positive   \n",
       "9  Can’t believe I paid this much... It’s so over...           Positive   \n",
       "\n",
       "  VADER Sentiment  \n",
       "0        Positive  \n",
       "1        Negative  \n",
       "2        Positive  \n",
       "3        Positive  \n",
       "4        Positive  \n",
       "5        Negative  \n",
       "6        Positive  \n",
       "7        Positive  \n",
       "8        Positive  \n",
       "9         Neutral  "
      ]
     },
     "execution_count": 68,
     "metadata": {},
     "output_type": "execute_result"
    }
   ],
   "source": [
    "df"
   ]
  },
  {
   "cell_type": "markdown",
   "id": "444bb038-7a0f-4750-8aad-eaccc730c944",
   "metadata": {},
   "source": [
    "## Now to check which is more effective over Iphone data."
   ]
  },
  {
   "cell_type": "markdown",
   "id": "d771afd5-2861-46a0-a9ee-592efd84002a",
   "metadata": {},
   "source": [
    "As we don't know about ground truth,so we won't be able to directly compute metrics like accuracy, precision, recall, or F1-score to evaluate the performance of both sentiment analysis models."
   ]
  },
  {
   "cell_type": "code",
   "execution_count": 69,
   "id": "fb16be1c-e785-45d0-95c2-90a52420b3dc",
   "metadata": {},
   "outputs": [
    {
     "data": {
      "text/html": [
       "<div>\n",
       "<style scoped>\n",
       "    .dataframe tbody tr th:only-of-type {\n",
       "        vertical-align: middle;\n",
       "    }\n",
       "\n",
       "    .dataframe tbody tr th {\n",
       "        vertical-align: top;\n",
       "    }\n",
       "\n",
       "    .dataframe thead th {\n",
       "        text-align: right;\n",
       "    }\n",
       "</style>\n",
       "<table border=\"1\" class=\"dataframe\">\n",
       "  <thead>\n",
       "    <tr style=\"text-align: right;\">\n",
       "      <th></th>\n",
       "      <th>Title</th>\n",
       "      <th>Upvotes</th>\n",
       "      <th>URL</th>\n",
       "      <th>Created</th>\n",
       "      <th>Text</th>\n",
       "      <th>Sentiment</th>\n",
       "      <th>Sentiment-Vader</th>\n",
       "      <th>YearMonth</th>\n",
       "      <th>Sentiment-TB</th>\n",
       "    </tr>\n",
       "  </thead>\n",
       "  <tbody>\n",
       "    <tr>\n",
       "      <th>0</th>\n",
       "      <td>Should I do art on phone?</td>\n",
       "      <td>1</td>\n",
       "      <td>https://www.reddit.com/r/iphone/comments/1h5jf...</td>\n",
       "      <td>1970-01-01 00:00:01.733217014</td>\n",
       "      <td>I dont have ipad, is it stupid of me to use a ...</td>\n",
       "      <td>-0.800000</td>\n",
       "      <td>Negative</td>\n",
       "      <td>1970-01</td>\n",
       "      <td>Negative</td>\n",
       "    </tr>\n",
       "    <tr>\n",
       "      <th>1</th>\n",
       "      <td>iPhone not charging.</td>\n",
       "      <td>1</td>\n",
       "      <td>https://www.reddit.com/r/iphone/comments/1h5jd...</td>\n",
       "      <td>1970-01-01 00:00:01.733216772</td>\n",
       "      <td>When I put the charger in, it doesn't do anyth...</td>\n",
       "      <td>0.143333</td>\n",
       "      <td>Positive</td>\n",
       "      <td>1970-01</td>\n",
       "      <td>Positive</td>\n",
       "    </tr>\n",
       "    <tr>\n",
       "      <th>2</th>\n",
       "      <td>“Headphone accommodations” – music test</td>\n",
       "      <td>1</td>\n",
       "      <td>https://www.reddit.com/r/iphone/comments/1h5ja...</td>\n",
       "      <td>1970-01-01 00:00:01.733216471</td>\n",
       "      <td>I was just curious about the Headphone Accommo...</td>\n",
       "      <td>0.205833</td>\n",
       "      <td>Positive</td>\n",
       "      <td>1970-01</td>\n",
       "      <td>Positive</td>\n",
       "    </tr>\n",
       "    <tr>\n",
       "      <th>3</th>\n",
       "      <td>How can I transfer all my stuff from a broken ...</td>\n",
       "      <td>2</td>\n",
       "      <td>https://www.reddit.com/r/iphone/comments/1h5ja...</td>\n",
       "      <td>1970-01-01 00:00:01.733216437</td>\n",
       "      <td>So earlier today I dropped my iphone 14 pro ma...</td>\n",
       "      <td>0.121591</td>\n",
       "      <td>Negative</td>\n",
       "      <td>1970-01</td>\n",
       "      <td>Positive</td>\n",
       "    </tr>\n",
       "    <tr>\n",
       "      <th>4</th>\n",
       "      <td>My ex husband has an iPhone, but when I text h...</td>\n",
       "      <td>0</td>\n",
       "      <td>https://www.reddit.com/r/iphone/comments/1h5j7...</td>\n",
       "      <td>1970-01-01 00:00:01.733216010</td>\n",
       "      <td>Not sure if this is the right sub for this, bu...</td>\n",
       "      <td>0.017143</td>\n",
       "      <td>Negative</td>\n",
       "      <td>1970-01</td>\n",
       "      <td>Positive</td>\n",
       "    </tr>\n",
       "  </tbody>\n",
       "</table>\n",
       "</div>"
      ],
      "text/plain": [
       "                                               Title  Upvotes  \\\n",
       "0                          Should I do art on phone?        1   \n",
       "1                              iPhone not charging.         1   \n",
       "2            “Headphone accommodations” – music test        1   \n",
       "3  How can I transfer all my stuff from a broken ...        2   \n",
       "4  My ex husband has an iPhone, but when I text h...        0   \n",
       "\n",
       "                                                 URL  \\\n",
       "0  https://www.reddit.com/r/iphone/comments/1h5jf...   \n",
       "1  https://www.reddit.com/r/iphone/comments/1h5jd...   \n",
       "2  https://www.reddit.com/r/iphone/comments/1h5ja...   \n",
       "3  https://www.reddit.com/r/iphone/comments/1h5ja...   \n",
       "4  https://www.reddit.com/r/iphone/comments/1h5j7...   \n",
       "\n",
       "                        Created  \\\n",
       "0 1970-01-01 00:00:01.733217014   \n",
       "1 1970-01-01 00:00:01.733216772   \n",
       "2 1970-01-01 00:00:01.733216471   \n",
       "3 1970-01-01 00:00:01.733216437   \n",
       "4 1970-01-01 00:00:01.733216010   \n",
       "\n",
       "                                                Text  Sentiment  \\\n",
       "0  I dont have ipad, is it stupid of me to use a ...  -0.800000   \n",
       "1  When I put the charger in, it doesn't do anyth...   0.143333   \n",
       "2  I was just curious about the Headphone Accommo...   0.205833   \n",
       "3  So earlier today I dropped my iphone 14 pro ma...   0.121591   \n",
       "4  Not sure if this is the right sub for this, bu...   0.017143   \n",
       "\n",
       "  Sentiment-Vader YearMonth Sentiment-TB  \n",
       "0        Negative   1970-01     Negative  \n",
       "1        Positive   1970-01     Positive  \n",
       "2        Positive   1970-01     Positive  \n",
       "3        Negative   1970-01     Positive  \n",
       "4        Negative   1970-01     Positive  "
      ]
     },
     "execution_count": 69,
     "metadata": {},
     "output_type": "execute_result"
    }
   ],
   "source": [
    "iphone.head()"
   ]
  },
  {
   "cell_type": "code",
   "execution_count": 70,
   "id": "a75c55b5-9534-47bc-a353-7bc2aaba054b",
   "metadata": {},
   "outputs": [],
   "source": [
    "## Now Compare the Predictions of both VADER and TextBlob"
   ]
  },
  {
   "cell_type": "code",
   "execution_count": 71,
   "id": "1c1d2764-ed71-4ecc-aaeb-952c0f7a539f",
   "metadata": {},
   "outputs": [],
   "source": [
    "iphone['comparison'] = iphone['Sentiment-Vader'] == iphone['Sentiment-TB']"
   ]
  },
  {
   "cell_type": "code",
   "execution_count": 72,
   "id": "2686a59e-1ace-4f35-8c6a-c7a03a6142aa",
   "metadata": {},
   "outputs": [],
   "source": [
    "comparison_percentage = iphone['comparison'].mean() * 100"
   ]
  },
  {
   "cell_type": "code",
   "execution_count": 73,
   "id": "a170952b-be52-4763-ab18-b4f4f9016ac7",
   "metadata": {},
   "outputs": [
    {
     "data": {
      "text/plain": [
       "52.336448598130836"
      ]
     },
     "execution_count": 73,
     "metadata": {},
     "output_type": "execute_result"
    }
   ],
   "source": [
    "comparison_percentage"
   ]
  },
  {
   "cell_type": "code",
   "execution_count": 74,
   "id": "7dc7b662-d859-403e-be24-eb2f46ba0d28",
   "metadata": {},
   "outputs": [],
   "source": [
    "## we see that prediction of VADER and TextBlob match only for 53.7 % rows."
   ]
  },
  {
   "cell_type": "code",
   "execution_count": 75,
   "id": "f53aa614-ab0a-43d9-b2a8-f29d3732a909",
   "metadata": {},
   "outputs": [
    {
     "data": {
      "image/png": "[encoded data removed]",
      "text/plain": [
       "<Figure size 1000x500 with 2 Axes>"
      ]
     },
     "metadata": {},
     "output_type": "display_data"
    }
   ],
   "source": [
    "plt.figure(figsize=(10, 5))\n",
    "\n",
    "# for VADER Sentiment Distribution\n",
    "plt.subplot(1, 2, 1)\n",
    "iphone['Sentiment-Vader'].value_counts().plot(kind='bar', color='skyblue')\n",
    "plt.title('VADER Sentiment Distribution')\n",
    "plt.xlabel('Sentiments')\n",
    "plt.ylabel('Count')\n",
    "\n",
    "# for TextBlob Sentiment Distribution\n",
    "plt.subplot(1, 2, 2)\n",
    "iphone['Sentiment-TB'].value_counts().plot(kind='bar', color='salmon')\n",
    "plt.title('TextBlob Sentiment Distribution')\n",
    "plt.xlabel('Sentiments')\n",
    "plt.ylabel('Count')\n",
    "plt.tight_layout()\n",
    "plt.show()"
   ]
  },
  {
   "cell_type": "code",
   "execution_count": 76,
   "id": "304ead68-3b09-423d-ab0a-a0be127292c7",
   "metadata": {},
   "outputs": [],
   "source": [
    "# Apply sentiment score extraction (for both models)\n",
    "iphone['TextBlob_Score'] = iphone['Text'].apply(lambda x: TextBlob(x).sentiment.polarity)\n",
    "iphone['VADER_Score'] = iphone['Text'].apply(lambda x: iphone_ana.polarity_scores(x)['compound'])"
   ]
  },
  {
   "cell_type": "code",
   "execution_count": 77,
   "id": "ffde27a1-a44b-4ba5-b74a-c93fb123ac33",
   "metadata": {},
   "outputs": [
    {
     "data": {
      "text/html": [
       "<div>\n",
       "<style scoped>\n",
       "    .dataframe tbody tr th:only-of-type {\n",
       "        vertical-align: middle;\n",
       "    }\n",
       "\n",
       "    .dataframe tbody tr th {\n",
       "        vertical-align: top;\n",
       "    }\n",
       "\n",
       "    .dataframe thead th {\n",
       "        text-align: right;\n",
       "    }\n",
       "</style>\n",
       "<table border=\"1\" class=\"dataframe\">\n",
       "  <thead>\n",
       "    <tr style=\"text-align: right;\">\n",
       "      <th></th>\n",
       "      <th>Title</th>\n",
       "      <th>Upvotes</th>\n",
       "      <th>URL</th>\n",
       "      <th>Created</th>\n",
       "      <th>Text</th>\n",
       "      <th>Sentiment</th>\n",
       "      <th>Sentiment-Vader</th>\n",
       "      <th>YearMonth</th>\n",
       "      <th>Sentiment-TB</th>\n",
       "      <th>comparison</th>\n",
       "      <th>TextBlob_Score</th>\n",
       "      <th>VADER_Score</th>\n",
       "    </tr>\n",
       "  </thead>\n",
       "  <tbody>\n",
       "    <tr>\n",
       "      <th>0</th>\n",
       "      <td>Should I do art on phone?</td>\n",
       "      <td>1</td>\n",
       "      <td>https://www.reddit.com/r/iphone/comments/1h5jf...</td>\n",
       "      <td>1970-01-01 00:00:01.733217014</td>\n",
       "      <td>I dont have ipad, is it stupid of me to use a ...</td>\n",
       "      <td>-0.800000</td>\n",
       "      <td>Negative</td>\n",
       "      <td>1970-01</td>\n",
       "      <td>Negative</td>\n",
       "      <td>True</td>\n",
       "      <td>-0.800000</td>\n",
       "      <td>-0.5267</td>\n",
       "    </tr>\n",
       "    <tr>\n",
       "      <th>1</th>\n",
       "      <td>iPhone not charging.</td>\n",
       "      <td>1</td>\n",
       "      <td>https://www.reddit.com/r/iphone/comments/1h5jd...</td>\n",
       "      <td>1970-01-01 00:00:01.733216772</td>\n",
       "      <td>When I put the charger in, it doesn't do anyth...</td>\n",
       "      <td>0.143333</td>\n",
       "      <td>Positive</td>\n",
       "      <td>1970-01</td>\n",
       "      <td>Positive</td>\n",
       "      <td>True</td>\n",
       "      <td>0.143333</td>\n",
       "      <td>0.7096</td>\n",
       "    </tr>\n",
       "    <tr>\n",
       "      <th>2</th>\n",
       "      <td>“Headphone accommodations” – music test</td>\n",
       "      <td>1</td>\n",
       "      <td>https://www.reddit.com/r/iphone/comments/1h5ja...</td>\n",
       "      <td>1970-01-01 00:00:01.733216471</td>\n",
       "      <td>I was just curious about the Headphone Accommo...</td>\n",
       "      <td>0.205833</td>\n",
       "      <td>Positive</td>\n",
       "      <td>1970-01</td>\n",
       "      <td>Positive</td>\n",
       "      <td>True</td>\n",
       "      <td>0.205833</td>\n",
       "      <td>0.2627</td>\n",
       "    </tr>\n",
       "    <tr>\n",
       "      <th>3</th>\n",
       "      <td>How can I transfer all my stuff from a broken ...</td>\n",
       "      <td>2</td>\n",
       "      <td>https://www.reddit.com/r/iphone/comments/1h5ja...</td>\n",
       "      <td>1970-01-01 00:00:01.733216437</td>\n",
       "      <td>So earlier today I dropped my iphone 14 pro ma...</td>\n",
       "      <td>0.121591</td>\n",
       "      <td>Negative</td>\n",
       "      <td>1970-01</td>\n",
       "      <td>Positive</td>\n",
       "      <td>False</td>\n",
       "      <td>0.121591</td>\n",
       "      <td>-0.1449</td>\n",
       "    </tr>\n",
       "    <tr>\n",
       "      <th>4</th>\n",
       "      <td>My ex husband has an iPhone, but when I text h...</td>\n",
       "      <td>0</td>\n",
       "      <td>https://www.reddit.com/r/iphone/comments/1h5j7...</td>\n",
       "      <td>1970-01-01 00:00:01.733216010</td>\n",
       "      <td>Not sure if this is the right sub for this, bu...</td>\n",
       "      <td>0.017143</td>\n",
       "      <td>Negative</td>\n",
       "      <td>1970-01</td>\n",
       "      <td>Positive</td>\n",
       "      <td>False</td>\n",
       "      <td>0.017143</td>\n",
       "      <td>-0.1232</td>\n",
       "    </tr>\n",
       "  </tbody>\n",
       "</table>\n",
       "</div>"
      ],
      "text/plain": [
       "                                               Title  Upvotes  \\\n",
       "0                          Should I do art on phone?        1   \n",
       "1                              iPhone not charging.         1   \n",
       "2            “Headphone accommodations” – music test        1   \n",
       "3  How can I transfer all my stuff from a broken ...        2   \n",
       "4  My ex husband has an iPhone, but when I text h...        0   \n",
       "\n",
       "                                                 URL  \\\n",
       "0  https://www.reddit.com/r/iphone/comments/1h5jf...   \n",
       "1  https://www.reddit.com/r/iphone/comments/1h5jd...   \n",
       "2  https://www.reddit.com/r/iphone/comments/1h5ja...   \n",
       "3  https://www.reddit.com/r/iphone/comments/1h5ja...   \n",
       "4  https://www.reddit.com/r/iphone/comments/1h5j7...   \n",
       "\n",
       "                        Created  \\\n",
       "0 1970-01-01 00:00:01.733217014   \n",
       "1 1970-01-01 00:00:01.733216772   \n",
       "2 1970-01-01 00:00:01.733216471   \n",
       "3 1970-01-01 00:00:01.733216437   \n",
       "4 1970-01-01 00:00:01.733216010   \n",
       "\n",
       "                                                Text  Sentiment  \\\n",
       "0  I dont have ipad, is it stupid of me to use a ...  -0.800000   \n",
       "1  When I put the charger in, it doesn't do anyth...   0.143333   \n",
       "2  I was just curious about the Headphone Accommo...   0.205833   \n",
       "3  So earlier today I dropped my iphone 14 pro ma...   0.121591   \n",
       "4  Not sure if this is the right sub for this, bu...   0.017143   \n",
       "\n",
       "  Sentiment-Vader YearMonth Sentiment-TB  comparison  TextBlob_Score  \\\n",
       "0        Negative   1970-01     Negative        True       -0.800000   \n",
       "1        Positive   1970-01     Positive        True        0.143333   \n",
       "2        Positive   1970-01     Positive        True        0.205833   \n",
       "3        Negative   1970-01     Positive       False        0.121591   \n",
       "4        Negative   1970-01     Positive       False        0.017143   \n",
       "\n",
       "   VADER_Score  \n",
       "0      -0.5267  \n",
       "1       0.7096  \n",
       "2       0.2627  \n",
       "3      -0.1449  \n",
       "4      -0.1232  "
      ]
     },
     "execution_count": 77,
     "metadata": {},
     "output_type": "execute_result"
    }
   ],
   "source": [
    "iphone.head()"
   ]
  },
  {
   "cell_type": "code",
   "execution_count": 78,
   "id": "d499bac3-24c4-4fec-bcc2-64db1e9751a8",
   "metadata": {},
   "outputs": [
    {
     "data": {
      "image/png": "[encoded data removed]",
      "text/plain": [
       "<Figure size 1000x600 with 1 Axes>"
      ]
     },
     "metadata": {},
     "output_type": "display_data"
    }
   ],
   "source": [
    "# Comparing TextBlob and VADER sentiment scores\n",
    "plt.figure(figsize=(10, 6))\n",
    "plt.scatter(iphone['TextBlob_Score'], iphone['VADER_Score'], alpha=0.6)\n",
    "plt.title('Comparison of Sentiment Scores (TextBlob vs. VADER)')\n",
    "plt.xlabel('TextBlob Sentiment Score')\n",
    "plt.ylabel('VADER Sentiment Score')\n",
    "plt.grid(True)\n",
    "plt.show()"
   ]
  },
  {
   "cell_type": "code",
   "execution_count": 79,
   "id": "e4da4443-612c-4c35-9cb7-3f52b0a28e1a",
   "metadata": {},
   "outputs": [],
   "source": [
    "## Now I'm building my own dataframe where  know the true sentiments and going to compare it with both the sentiment analysis \n",
    "# and find which one predict the true sentiments more accurately"
   ]
  },
  {
   "cell_type": "code",
   "execution_count": 80,
   "id": "ae69280d-7fbe-42a1-b2ab-241a4c0e65b4",
   "metadata": {},
   "outputs": [],
   "source": [
    "from sklearn.metrics import accuracy_score"
   ]
  },
  {
   "cell_type": "code",
   "execution_count": 81,
   "id": "970bd6ed-f433-42a9-a8da-b255f36a6f28",
   "metadata": {},
   "outputs": [],
   "source": [
    "data = {\n",
    "    'Text': [\n",
    "        \"I love my new iPhone! The camera is amazing.\",\n",
    "        \"The battery life is terrible.\",\n",
    "        \"I just got the iPhone 15, and it's okay.\",\n",
    "        \"iPhone 14 is the best phone I’ve ever had.\",\n",
    "        \"The new iPhone is so slow!\",\n",
    "        \"I am very disappointed with my new iPhone.\",\n",
    "        \"iPhone is perfect, I can’t wait to get it!\",\n",
    "        \"This phone is awful. Never buying an iPhone again.\",\n",
    "        \"I am neutral about the new iPhone.\",\n",
    "        \"Love the design, but the price is too high.\",\n",
    "        \"The camera is fantastic, but the phone is fragile.\",\n",
    "        \"I'm not a fan of iPhone anymore.\",\n",
    "        \"This is a decent iPhone, but nothing groundbreaking.\",\n",
    "        \"I have mixed feelings about the iPhone 13.\",\n",
    "        \"I love the iPhone, but the battery could be better.\",\n",
    "        \"iPhones are overrated, and I don’t get the hype.\",\n",
    "        \"The iPhone's build quality is amazing.\",\n",
    "        \"I’m excited to get the new iPhone next month.\",\n",
    "        \"The new iPhone is good, but it’s not worth the price.\",\n",
    "        \"I dislike the new iPhone update.\",\n",
    "        \"This iPhone is incredible!\",\n",
    "        \"Just got my iPhone and I’m loving it.\",\n",
    "        \"The camera quality is awesome, but the phone is fragile.\",\n",
    "        \"I hate the new iPhone features.\",\n",
    "        \"I’ve always been a fan of iPhones, and this is no exception.\",\n",
    "        \"The screen on the iPhone is amazing.\",\n",
    "        \"iPhone 13 Pro Max is the best phone out there.\",\n",
    "        \"I’m not happy with the iPhone I purchased.\",\n",
    "        \"I love the new iPhone design, but the performance is bad.\",\n",
    "        \"Very satisfied with my new iPhone!\",\n",
    "        \"The new iPhone is a disappointment.\",\n",
    "        \"Not impressed with iPhone 14.\",\n",
    "        \"iPhone is so much better than other phones.\",\n",
    "        \"The new iPhone is way too heavy.\",\n",
    "        \"I prefer other phones over iPhone.\",\n",
    "        \"iPhone is overpriced, but I love the ecosystem.\",\n",
    "        \"I don't think iPhones are worth the price.\",\n",
    "        \"I’m in love with the new iPhone’s speed.\",\n",
    "        \"The iPhone feels outdated compared to other phones.\",\n",
    "        \"The latest iPhone has an excellent camera.\",\n",
    "        \"I think the iPhone is a bit overrated.\",\n",
    "        \"iPhone is a great phone, but the battery is poor.\",\n",
    "        \"The latest iPhone is really fast!\",\n",
    "        \"I would never recommend the iPhone 13 to anyone.\",\n",
    "        \"The iPhone’s battery life is just awful.\",\n",
    "        \"I think the new iPhone is overpriced.\",\n",
    "        \"I love everything about the iPhone, except the camera.\",\n",
    "        \"The iPhone has such a sleek design.\",\n",
    "        \"iPhone’s operating system is the best.\",\n",
    "        \"I can’t get enough of my iPhone.\",\n",
    "        \"iPhone’s camera quality is the best in the market.\",\n",
    "    ],\n",
    "    'True Sentiment': [\n",
    "        'Positive', 'Negative', 'Neutral', 'Positive', 'Negative', 'Negative', 'Positive', 'Negative', 'Neutral', \n",
    "        'Neutral', 'Neutral', 'Negative', 'Neutral', 'Neutral', 'Negative', 'Negative', 'Positive', 'Neutral', \n",
    "        'Negative', 'Positive', 'Positive', 'Negative', 'Negative', 'Negative', 'Positive', 'Positive', 'Positive', \n",
    "        'Neutral', 'Negative', 'Positive', 'Negative', 'Neutral', 'Positive', 'Negative', 'Negative', 'Neutral', \n",
    "        'Negative', 'Positive', 'Negative', 'Positive', 'Negative', 'Negative', 'Neutral', 'Negative', 'Negative', \n",
    "        'Positive', 'Negative', 'Neutral', 'Neutral', 'Positive', 'Neutral'\n",
    "    ]\n",
    "}"
   ]
  },
  {
   "cell_type": "code",
   "execution_count": 82,
   "id": "0560eea7-5226-46ab-ba0e-8c9b0b3ff211",
   "metadata": {},
   "outputs": [],
   "source": [
    "df = pd.DataFrame(data)\n",
    "df['Sentiment-TB'] = df['Text'].apply(get_sentiment)  # By textblob\n",
    "df['Sentiment-Vader'] = df['Text'].apply(lambda x: assign_sentiment(iphone_ana.polarity_scores(x)['compound'])) # by vader."
   ]
  },
  {
   "cell_type": "code",
   "execution_count": 83,
   "id": "13f0d5af-4834-4d7e-acbb-a8d9bc6917ff",
   "metadata": {},
   "outputs": [
    {
     "name": "stdout",
     "output_type": "stream",
     "text": [
      "VADER Accuracy: 0.49\n",
      "TextBlob Accuracy: 0.51\n"
     ]
    }
   ],
   "source": [
    "vader_accuracy = accuracy_score(df['True Sentiment'], df['Sentiment-Vader'])\n",
    "print(f\"VADER Accuracy: {vader_accuracy:.2f}\")\n",
    "\n",
    "textblob_accuracy = accuracy_score(df['True Sentiment'], df['Sentiment-TB'])\n",
    "print(f\"TextBlob Accuracy: {textblob_accuracy:.2f}\")"
   ]
  }
 ],
 "metadata": {
  "kernelspec": {
   "display_name": "Python 3 (ipykernel)",
   "language": "python",
   "name": "python3"
  },
  "language_info": {
   "codemirror_mode": {
    "name": "ipython",
    "version": 3
   },
   "file_extension": ".py",
   "mimetype": "text/x-python",
   "name": "python",
   "nbconvert_exporter": "python",
   "pygments_lexer": "ipython3",
   "version": "3.11.7"
  }
 },
 "nbformat": 4,
 "nbformat_minor": 5
}
