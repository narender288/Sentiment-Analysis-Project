{
 "cells": [
  {
   "cell_type": "code",
   "execution_count": 3,
   "id": "5f627906-3a94-4987-b335-a109a71b56b6",
   "metadata": {},
   "outputs": [],
   "source": [
    "import pandas as pd\n",
    "import numpy as np\n",
    "import matplotlib.pyplot as plt\n",
    "import seaborn as sns"
   ]
  },
  {
   "cell_type": "code",
   "execution_count": 24,
   "id": "2fecea3f-6af9-4f8d-a73a-09eb33889572",
   "metadata": {},
   "outputs": [],
   "source": [
    "import nltk"
   ]
  },
  {
   "cell_type": "code",
   "execution_count": 91,
   "id": "65f765c3-5f53-48c4-8c06-7bbfb5e227a9",
   "metadata": {},
   "outputs": [],
   "source": [
    "df = pd.read_csv('iphone.csv')"
   ]
  },
  {
   "cell_type": "code",
   "execution_count": 5,
   "id": "f2118044-690c-4b27-9487-dbfc9008af22",
   "metadata": {},
   "outputs": [
    {
     "data": {
      "text/html": [
       "<div>\n",
       "<style scoped>\n",
       "    .dataframe tbody tr th:only-of-type {\n",
       "        vertical-align: middle;\n",
       "    }\n",
       "\n",
       "    .dataframe tbody tr th {\n",
       "        vertical-align: top;\n",
       "    }\n",
       "\n",
       "    .dataframe thead th {\n",
       "        text-align: right;\n",
       "    }\n",
       "</style>\n",
       "<table border=\"1\" class=\"dataframe\">\n",
       "  <thead>\n",
       "    <tr style=\"text-align: right;\">\n",
       "      <th></th>\n",
       "      <th>productAsin</th>\n",
       "      <th>country</th>\n",
       "      <th>date</th>\n",
       "      <th>isVerified</th>\n",
       "      <th>ratingScore</th>\n",
       "      <th>reviewTitle</th>\n",
       "      <th>reviewDescription</th>\n",
       "      <th>reviewUrl</th>\n",
       "      <th>reviewedIn</th>\n",
       "      <th>variant</th>\n",
       "      <th>variantAsin</th>\n",
       "    </tr>\n",
       "  </thead>\n",
       "  <tbody>\n",
       "    <tr>\n",
       "      <th>0</th>\n",
       "      <td>B09G9BL5CP</td>\n",
       "      <td>India</td>\n",
       "      <td>11-08-2024</td>\n",
       "      <td>True</td>\n",
       "      <td>4</td>\n",
       "      <td>No charger</td>\n",
       "      <td>Every thing is good about iPhones, there's not...</td>\n",
       "      <td>https://www.amazon.in/gp/customer-reviews/R345...</td>\n",
       "      <td>Reviewed in India on 11 August 2024</td>\n",
       "      <td>Colour: MidnightSize: 256 GB</td>\n",
       "      <td>B09G9BQS98</td>\n",
       "    </tr>\n",
       "    <tr>\n",
       "      <th>1</th>\n",
       "      <td>B09G9BL5CP</td>\n",
       "      <td>India</td>\n",
       "      <td>16-08-2024</td>\n",
       "      <td>True</td>\n",
       "      <td>5</td>\n",
       "      <td>iPhone 13 256GB</td>\n",
       "      <td>It look so fabulous, I am android user switche...</td>\n",
       "      <td>https://www.amazon.in/gp/customer-reviews/R2HJ...</td>\n",
       "      <td>Reviewed in India on 16 August 2024</td>\n",
       "      <td>Colour: MidnightSize: 256 GB</td>\n",
       "      <td>B09G9BQS98</td>\n",
       "    </tr>\n",
       "    <tr>\n",
       "      <th>2</th>\n",
       "      <td>B09G9BL5CP</td>\n",
       "      <td>India</td>\n",
       "      <td>14-05-2024</td>\n",
       "      <td>True</td>\n",
       "      <td>4</td>\n",
       "      <td>Flip camera option nill</td>\n",
       "      <td>I tried to flip camera while recording but no ...</td>\n",
       "      <td>https://www.amazon.in/gp/customer-reviews/R3Y7...</td>\n",
       "      <td>Reviewed in India on 14 May 2024</td>\n",
       "      <td>Colour: MidnightSize: 256 GB</td>\n",
       "      <td>B09G9BQS98</td>\n",
       "    </tr>\n",
       "    <tr>\n",
       "      <th>3</th>\n",
       "      <td>B09G9BL5CP</td>\n",
       "      <td>India</td>\n",
       "      <td>24-06-2024</td>\n",
       "      <td>True</td>\n",
       "      <td>5</td>\n",
       "      <td>Product</td>\n",
       "      <td>100% genuine</td>\n",
       "      <td>https://www.amazon.in/gp/customer-reviews/R1P9...</td>\n",
       "      <td>Reviewed in India on 24 June 2024</td>\n",
       "      <td>Colour: MidnightSize: 256 GB</td>\n",
       "      <td>B09G9BQS98</td>\n",
       "    </tr>\n",
       "    <tr>\n",
       "      <th>4</th>\n",
       "      <td>B09G9BL5CP</td>\n",
       "      <td>India</td>\n",
       "      <td>18-05-2024</td>\n",
       "      <td>True</td>\n",
       "      <td>5</td>\n",
       "      <td>Good product</td>\n",
       "      <td>Happy to get the iPhone 13 in Amazon offer</td>\n",
       "      <td>https://www.amazon.in/gp/customer-reviews/R1XI...</td>\n",
       "      <td>Reviewed in India on 18 May 2024</td>\n",
       "      <td>Colour: MidnightSize: 256 GB</td>\n",
       "      <td>B09G9BQS98</td>\n",
       "    </tr>\n",
       "  </tbody>\n",
       "</table>\n",
       "</div>"
      ],
      "text/plain": [
       "  productAsin country        date  isVerified  ratingScore  \\\n",
       "0  B09G9BL5CP   India  11-08-2024        True            4   \n",
       "1  B09G9BL5CP   India  16-08-2024        True            5   \n",
       "2  B09G9BL5CP   India  14-05-2024        True            4   \n",
       "3  B09G9BL5CP   India  24-06-2024        True            5   \n",
       "4  B09G9BL5CP   India  18-05-2024        True            5   \n",
       "\n",
       "               reviewTitle                                  reviewDescription  \\\n",
       "0               No charger  Every thing is good about iPhones, there's not...   \n",
       "1          iPhone 13 256GB  It look so fabulous, I am android user switche...   \n",
       "2  Flip camera option nill  I tried to flip camera while recording but no ...   \n",
       "3                  Product                                       100% genuine   \n",
       "4             Good product         Happy to get the iPhone 13 in Amazon offer   \n",
       "\n",
       "                                           reviewUrl  \\\n",
       "0  https://www.amazon.in/gp/customer-reviews/R345...   \n",
       "1  https://www.amazon.in/gp/customer-reviews/R2HJ...   \n",
       "2  https://www.amazon.in/gp/customer-reviews/R3Y7...   \n",
       "3  https://www.amazon.in/gp/customer-reviews/R1P9...   \n",
       "4  https://www.amazon.in/gp/customer-reviews/R1XI...   \n",
       "\n",
       "                            reviewedIn                       variant  \\\n",
       "0  Reviewed in India on 11 August 2024  Colour: MidnightSize: 256 GB   \n",
       "1  Reviewed in India on 16 August 2024  Colour: MidnightSize: 256 GB   \n",
       "2     Reviewed in India on 14 May 2024  Colour: MidnightSize: 256 GB   \n",
       "3    Reviewed in India on 24 June 2024  Colour: MidnightSize: 256 GB   \n",
       "4     Reviewed in India on 18 May 2024  Colour: MidnightSize: 256 GB   \n",
       "\n",
       "  variantAsin  \n",
       "0  B09G9BQS98  \n",
       "1  B09G9BQS98  \n",
       "2  B09G9BQS98  \n",
       "3  B09G9BQS98  \n",
       "4  B09G9BQS98  "
      ]
     },
     "execution_count": 5,
     "metadata": {},
     "output_type": "execute_result"
    }
   ],
   "source": [
    "df.head()"
   ]
  },
  {
   "cell_type": "code",
   "execution_count": 6,
   "id": "12128138-dde9-49be-bd47-afba60877df3",
   "metadata": {},
   "outputs": [
    {
     "data": {
      "text/plain": [
       "Index(['productAsin', 'country', 'date', 'isVerified', 'ratingScore',\n",
       "       'reviewTitle', 'reviewDescription', 'reviewUrl', 'reviewedIn',\n",
       "       'variant', 'variantAsin'],\n",
       "      dtype='object')"
      ]
     },
     "execution_count": 6,
     "metadata": {},
     "output_type": "execute_result"
    }
   ],
   "source": [
    "df.columns"
   ]
  },
  {
   "cell_type": "code",
   "execution_count": 7,
   "id": "02525ff4-cdc6-4cbb-a852-06a2ef5c1056",
   "metadata": {},
   "outputs": [
    {
     "data": {
      "text/plain": [
       "<bound method DataFrame.info of      productAsin country        date  isVerified  ratingScore  \\\n",
       "0     B09G9BL5CP   India  11-08-2024        True            4   \n",
       "1     B09G9BL5CP   India  16-08-2024        True            5   \n",
       "2     B09G9BL5CP   India  14-05-2024        True            4   \n",
       "3     B09G9BL5CP   India  24-06-2024        True            5   \n",
       "4     B09G9BL5CP   India  18-05-2024        True            5   \n",
       "...          ...     ...         ...         ...          ...   \n",
       "3057  B09G9D8KRQ   India  11-10-2023        True            1   \n",
       "3058  B09G9D8KRQ   India  14-10-2022        True            2   \n",
       "3059  B09G9D8KRQ   India  24-02-2022        True            3   \n",
       "3060  B09G9D8KRQ   India  16-10-2023        True            1   \n",
       "3061  B09G9D8KRQ   India  11-11-2023        True            1   \n",
       "\n",
       "                              reviewTitle  \\\n",
       "0                              No charger   \n",
       "1                         iPhone 13 256GB   \n",
       "2                 Flip camera option nill   \n",
       "3                                 Product   \n",
       "4                            Good product   \n",
       "...                                   ...   \n",
       "3057  Very bad experience with i phone 13   \n",
       "3058    not happy with this apple product   \n",
       "3059                           Good phone   \n",
       "3060                    Battery discharge   \n",
       "3061    Batter power needs to be improved   \n",
       "\n",
       "                                      reviewDescription  \\\n",
       "0     Every thing is good about iPhones, there's not...   \n",
       "1     It look so fabulous, I am android user switche...   \n",
       "2     I tried to flip camera while recording but no ...   \n",
       "3                                          100% genuine   \n",
       "4            Happy to get the iPhone 13 in Amazon offer   \n",
       "...                                                 ...   \n",
       "3057  Useless phon never buy this heat n useless cam...   \n",
       "3058  iam not happy with this product why because ch...   \n",
       "3059                                         Good phone   \n",
       "3060  While charging mobile it's getting so hot even...   \n",
       "3061  Battery power is be very bad need to chat on d...   \n",
       "\n",
       "                                              reviewUrl  \\\n",
       "0     https://www.amazon.in/gp/customer-reviews/R345...   \n",
       "1     https://www.amazon.in/gp/customer-reviews/R2HJ...   \n",
       "2     https://www.amazon.in/gp/customer-reviews/R3Y7...   \n",
       "3     https://www.amazon.in/gp/customer-reviews/R1P9...   \n",
       "4     https://www.amazon.in/gp/customer-reviews/R1XI...   \n",
       "...                                                 ...   \n",
       "3057  https://www.amazon.in/gp/customer-reviews/R10O...   \n",
       "3058  https://www.amazon.in/gp/customer-reviews/R2FW...   \n",
       "3059  https://www.amazon.in/gp/customer-reviews/R2C7...   \n",
       "3060  https://www.amazon.in/gp/customer-reviews/R3K0...   \n",
       "3061  https://www.amazon.in/gp/customer-reviews/R2QO...   \n",
       "\n",
       "                                 reviewedIn  \\\n",
       "0       Reviewed in India on 11 August 2024   \n",
       "1       Reviewed in India on 16 August 2024   \n",
       "2          Reviewed in India on 14 May 2024   \n",
       "3         Reviewed in India on 24 June 2024   \n",
       "4          Reviewed in India on 18 May 2024   \n",
       "...                                     ...   \n",
       "3057   Reviewed in India on 11 October 2023   \n",
       "3058   Reviewed in India on 14 October 2022   \n",
       "3059  Reviewed in India on 24 February 2022   \n",
       "3060   Reviewed in India on 16 October 2023   \n",
       "3061  Reviewed in India on 11 November 2023   \n",
       "\n",
       "                                variant variantAsin  \n",
       "0          Colour: MidnightSize: 256 GB  B09G9BQS98  \n",
       "1          Colour: MidnightSize: 256 GB  B09G9BQS98  \n",
       "2          Colour: MidnightSize: 256 GB  B09G9BQS98  \n",
       "3          Colour: MidnightSize: 256 GB  B09G9BQS98  \n",
       "4          Colour: MidnightSize: 256 GB  B09G9BQS98  \n",
       "...                                 ...         ...  \n",
       "3057  Colour: (PRODUCT) REDSize: 128 GB  B09G99CW2N  \n",
       "3058  Colour: (PRODUCT) REDSize: 128 GB  B09G99CW2N  \n",
       "3059  Colour: (PRODUCT) REDSize: 128 GB  B09G99CW2N  \n",
       "3060  Colour: (PRODUCT) REDSize: 128 GB  B09G99CW2N  \n",
       "3061  Colour: (PRODUCT) REDSize: 128 GB  B09G99CW2N  \n",
       "\n",
       "[3062 rows x 11 columns]>"
      ]
     },
     "execution_count": 7,
     "metadata": {},
     "output_type": "execute_result"
    }
   ],
   "source": [
    "df.info"
   ]
  },
  {
   "cell_type": "code",
   "execution_count": 8,
   "id": "77b3f9f3-e5b8-45d4-8404-8216aefe34d4",
   "metadata": {},
   "outputs": [],
   "source": [
    "## data is large for me to proceed as beginer so im going to decrease it down."
   ]
  },
  {
   "cell_type": "code",
   "execution_count": 92,
   "id": "f17f2459-fec7-444e-8089-15e3de3a2fcc",
   "metadata": {},
   "outputs": [],
   "source": [
    "df = df.head(500)"
   ]
  },
  {
   "cell_type": "code",
   "execution_count": 12,
   "id": "ca05c79a-4150-416f-9274-03f14f33c70c",
   "metadata": {},
   "outputs": [
    {
     "data": {
      "text/plain": [
       "(500, 11)"
      ]
     },
     "execution_count": 12,
     "metadata": {},
     "output_type": "execute_result"
    }
   ],
   "source": [
    "df.shape  ## now we have 500 rows and 11 columns."
   ]
  },
  {
   "cell_type": "code",
   "execution_count": 13,
   "id": "40ab24ba-9f76-48af-bdff-0a2e66be3b3b",
   "metadata": {},
   "outputs": [],
   "source": [
    "## EDA our data, to get better analysis."
   ]
  },
  {
   "cell_type": "code",
   "execution_count": 14,
   "id": "de58166f-b2e1-49e8-a143-b6e3ccd0ee4d",
   "metadata": {},
   "outputs": [
    {
     "data": {
      "text/plain": [
       "ratingScore\n",
       "5    327\n",
       "4    110\n",
       "3     26\n",
       "1     19\n",
       "2     18\n",
       "Name: count, dtype: int64"
      ]
     },
     "execution_count": 14,
     "metadata": {},
     "output_type": "execute_result"
    }
   ],
   "source": [
    "df['ratingScore'].value_counts()"
   ]
  },
  {
   "cell_type": "code",
   "execution_count": 17,
   "id": "4f5506ce-c421-446c-9126-391cd416b16c",
   "metadata": {},
   "outputs": [
    {
     "data": {
      "image/png": "[encoded data removed]",
      "text/plain": [
       "<Figure size 1000x500 with 1 Axes>"
      ]
     },
     "metadata": {},
     "output_type": "display_data"
    }
   ],
   "source": [
    "df['ratingScore'].value_counts().plot(kind = 'bar', title = 'Count of reviews',figsize = (10,5))"
   ]
  },
  {
   "cell_type": "code",
   "execution_count": 18,
   "id": "4e4d75d7-3e0b-4291-9c2b-d3605e1b876f",
   "metadata": {},
   "outputs": [],
   "source": [
    "## Basic NLTK"
   ]
  },
  {
   "cell_type": "code",
   "execution_count": 20,
   "id": "36cd8c6e-cae3-42c8-9341-b6bdff57cf32",
   "metadata": {},
   "outputs": [],
   "source": [
    "Like = df['reviewDescription'][300]  ## here i assign value of Like as 300 index value of reviewDescription."
   ]
  },
  {
   "cell_type": "code",
   "execution_count": 21,
   "id": "4a25eb67-ecc0-4436-8a08-71e73bc803f2",
   "metadata": {},
   "outputs": [
    {
     "data": {
      "text/plain": [
       "'Best phone to buy during sale..'"
      ]
     },
     "execution_count": 21,
     "metadata": {},
     "output_type": "execute_result"
    }
   ],
   "source": [
    "Like"
   ]
  },
  {
   "cell_type": "code",
   "execution_count": 22,
   "id": "0e0d6f6e-a98a-4977-9cad-bb58bc0ece0a",
   "metadata": {},
   "outputs": [],
   "source": [
    "## WE CAN CLEARLY SEE THAT BUYER IS HAPPY."
   ]
  },
  {
   "cell_type": "code",
   "execution_count": 28,
   "id": "bb1fd30d-49e2-4c80-a5e2-cd3fb143080c",
   "metadata": {},
   "outputs": [],
   "source": [
    "tokens = nltk.word_tokenize(Like)   ## split the review into word."
   ]
  },
  {
   "cell_type": "code",
   "execution_count": 29,
   "id": "ac876ee2-aafa-4f73-86c6-beaa3d138a12",
   "metadata": {},
   "outputs": [],
   "source": [
    "## why use tokenization, in NLP we have to convert the text in format that computer will get that and tokenization is one way."
   ]
  },
  {
   "cell_type": "code",
   "execution_count": 39,
   "id": "640552e8-6b5b-404c-9efc-d4b56cf733c9",
   "metadata": {},
   "outputs": [
    {
     "name": "stderr",
     "output_type": "stream",
     "text": [
      "[nltk_data] Downloading package averaged_perceptron_tagger to\n",
      "[nltk_data]     C:\\Users\\DELL\\AppData\\Roaming\\nltk_data...\n",
      "[nltk_data]   Package averaged_perceptron_tagger is already up-to-\n",
      "[nltk_data]       date!\n"
     ]
    },
    {
     "data": {
      "text/plain": [
       "True"
      ]
     },
     "execution_count": 39,
     "metadata": {},
     "output_type": "execute_result"
    }
   ],
   "source": [
    "import nltk\n",
    "nltk.download('averaged_perceptron_tagger')"
   ]
  },
  {
   "cell_type": "code",
   "execution_count": 37,
   "id": "d7d11d76-894d-4c83-bca5-a267abde4c46",
   "metadata": {},
   "outputs": [],
   "source": [
    "tags = nltk.pos_tag(tokens)  ## to run this we need to download 'averaged_perceptron_tagger'."
   ]
  },
  {
   "cell_type": "code",
   "execution_count": 38,
   "id": "d381b9b6-e6fb-475f-9b05-45f69d3f9df0",
   "metadata": {},
   "outputs": [
    {
     "data": {
      "text/plain": [
       "[('Best', 'RBS'),\n",
       " ('phone', 'NN'),\n",
       " ('to', 'TO'),\n",
       " ('buy', 'VB'),\n",
       " ('during', 'IN'),\n",
       " ('sale', 'NN'),\n",
       " ('..', 'NN')]"
      ]
     },
     "execution_count": 38,
     "metadata": {},
     "output_type": "execute_result"
    }
   ],
   "source": [
    "tags"
   ]
  },
  {
   "cell_type": "code",
   "execution_count": 40,
   "id": "352d0acb-fee9-4ca7-a29d-074afbc2f3eb",
   "metadata": {},
   "outputs": [
    {
     "ename": "LookupError",
     "evalue": "\n**********************************************************************\n  Resource \u001b[93mmaxent_ne_chunker\u001b[0m not found.\n  Please use the NLTK Downloader to obtain the resource:\n\n  \u001b[31m>>> import nltk\n  >>> nltk.download('maxent_ne_chunker')\n  \u001b[0m\n  For more information see: https://www.nltk.org/data.html\n\n  Attempted to load \u001b[93mchunkers/maxent_ne_chunker/english_ace_multiclass.pickle\u001b[0m\n\n  Searched in:\n    - 'C:\\\\Users\\\\DELL/nltk_data'\n    - 'C:\\\\Users\\\\DELL\\\\anaconda3.1\\\\nltk_data'\n    - 'C:\\\\Users\\\\DELL\\\\anaconda3.1\\\\share\\\\nltk_data'\n    - 'C:\\\\Users\\\\DELL\\\\anaconda3.1\\\\lib\\\\nltk_data'\n    - 'C:\\\\Users\\\\DELL\\\\AppData\\\\Roaming\\\\nltk_data'\n    - 'C:\\\\nltk_data'\n    - 'D:\\\\nltk_data'\n    - 'E:\\\\nltk_data'\n    - ''\n**********************************************************************\n",
     "output_type": "error",
     "traceback": [
      "\u001b[1;31m---------------------------------------------------------------------------\u001b[0m",
      "\u001b[1;31mLookupError\u001b[0m                               Traceback (most recent call last)",
      "Cell \u001b[1;32mIn[40], line 1\u001b[0m\n\u001b[1;32m----> 1\u001b[0m nltk\u001b[38;5;241m.\u001b[39mchunk\u001b[38;5;241m.\u001b[39mne_chunk(tags)\n",
      "File \u001b[1;32m~\\anaconda3.1\\Lib\\site-packages\\nltk\\chunk\\__init__.py:183\u001b[0m, in \u001b[0;36mne_chunk\u001b[1;34m(tagged_tokens, binary)\u001b[0m\n\u001b[0;32m    181\u001b[0m \u001b[38;5;28;01melse\u001b[39;00m:\n\u001b[0;32m    182\u001b[0m     chunker_pickle \u001b[38;5;241m=\u001b[39m _MULTICLASS_NE_CHUNKER\n\u001b[1;32m--> 183\u001b[0m chunker \u001b[38;5;241m=\u001b[39m load(chunker_pickle)\n\u001b[0;32m    184\u001b[0m \u001b[38;5;28;01mreturn\u001b[39;00m chunker\u001b[38;5;241m.\u001b[39mparse(tagged_tokens)\n",
      "File \u001b[1;32m~\\anaconda3.1\\Lib\\site-packages\\nltk\\data.py:750\u001b[0m, in \u001b[0;36mload\u001b[1;34m(resource_url, format, cache, verbose, logic_parser, fstruct_reader, encoding)\u001b[0m\n\u001b[0;32m    747\u001b[0m     \u001b[38;5;28mprint\u001b[39m(\u001b[38;5;124mf\u001b[39m\u001b[38;5;124m\"\u001b[39m\u001b[38;5;124m<<Loading \u001b[39m\u001b[38;5;132;01m{\u001b[39;00mresource_url\u001b[38;5;132;01m}\u001b[39;00m\u001b[38;5;124m>>\u001b[39m\u001b[38;5;124m\"\u001b[39m)\n\u001b[0;32m    749\u001b[0m \u001b[38;5;66;03m# Load the resource.\u001b[39;00m\n\u001b[1;32m--> 750\u001b[0m opened_resource \u001b[38;5;241m=\u001b[39m _open(resource_url)\n\u001b[0;32m    752\u001b[0m \u001b[38;5;28;01mif\u001b[39;00m \u001b[38;5;28mformat\u001b[39m \u001b[38;5;241m==\u001b[39m \u001b[38;5;124m\"\u001b[39m\u001b[38;5;124mraw\u001b[39m\u001b[38;5;124m\"\u001b[39m:\n\u001b[0;32m    753\u001b[0m     resource_val \u001b[38;5;241m=\u001b[39m opened_resource\u001b[38;5;241m.\u001b[39mread()\n",
      "File \u001b[1;32m~\\anaconda3.1\\Lib\\site-packages\\nltk\\data.py:876\u001b[0m, in \u001b[0;36m_open\u001b[1;34m(resource_url)\u001b[0m\n\u001b[0;32m    873\u001b[0m protocol, path_ \u001b[38;5;241m=\u001b[39m split_resource_url(resource_url)\n\u001b[0;32m    875\u001b[0m \u001b[38;5;28;01mif\u001b[39;00m protocol \u001b[38;5;129;01mis\u001b[39;00m \u001b[38;5;28;01mNone\u001b[39;00m \u001b[38;5;129;01mor\u001b[39;00m protocol\u001b[38;5;241m.\u001b[39mlower() \u001b[38;5;241m==\u001b[39m \u001b[38;5;124m\"\u001b[39m\u001b[38;5;124mnltk\u001b[39m\u001b[38;5;124m\"\u001b[39m:\n\u001b[1;32m--> 876\u001b[0m     \u001b[38;5;28;01mreturn\u001b[39;00m find(path_, path \u001b[38;5;241m+\u001b[39m [\u001b[38;5;124m\"\u001b[39m\u001b[38;5;124m\"\u001b[39m])\u001b[38;5;241m.\u001b[39mopen()\n\u001b[0;32m    877\u001b[0m \u001b[38;5;28;01melif\u001b[39;00m protocol\u001b[38;5;241m.\u001b[39mlower() \u001b[38;5;241m==\u001b[39m \u001b[38;5;124m\"\u001b[39m\u001b[38;5;124mfile\u001b[39m\u001b[38;5;124m\"\u001b[39m:\n\u001b[0;32m    878\u001b[0m     \u001b[38;5;66;03m# urllib might not use mode='rb', so handle this one ourselves:\u001b[39;00m\n\u001b[0;32m    879\u001b[0m     \u001b[38;5;28;01mreturn\u001b[39;00m find(path_, [\u001b[38;5;124m\"\u001b[39m\u001b[38;5;124m\"\u001b[39m])\u001b[38;5;241m.\u001b[39mopen()\n",
      "File \u001b[1;32m~\\anaconda3.1\\Lib\\site-packages\\nltk\\data.py:583\u001b[0m, in \u001b[0;36mfind\u001b[1;34m(resource_name, paths)\u001b[0m\n\u001b[0;32m    581\u001b[0m sep \u001b[38;5;241m=\u001b[39m \u001b[38;5;124m\"\u001b[39m\u001b[38;5;124m*\u001b[39m\u001b[38;5;124m\"\u001b[39m \u001b[38;5;241m*\u001b[39m \u001b[38;5;241m70\u001b[39m\n\u001b[0;32m    582\u001b[0m resource_not_found \u001b[38;5;241m=\u001b[39m \u001b[38;5;124mf\u001b[39m\u001b[38;5;124m\"\u001b[39m\u001b[38;5;130;01m\\n\u001b[39;00m\u001b[38;5;132;01m{\u001b[39;00msep\u001b[38;5;132;01m}\u001b[39;00m\u001b[38;5;130;01m\\n\u001b[39;00m\u001b[38;5;132;01m{\u001b[39;00mmsg\u001b[38;5;132;01m}\u001b[39;00m\u001b[38;5;130;01m\\n\u001b[39;00m\u001b[38;5;132;01m{\u001b[39;00msep\u001b[38;5;132;01m}\u001b[39;00m\u001b[38;5;130;01m\\n\u001b[39;00m\u001b[38;5;124m\"\u001b[39m\n\u001b[1;32m--> 583\u001b[0m \u001b[38;5;28;01mraise\u001b[39;00m \u001b[38;5;167;01mLookupError\u001b[39;00m(resource_not_found)\n",
      "\u001b[1;31mLookupError\u001b[0m: \n**********************************************************************\n  Resource \u001b[93mmaxent_ne_chunker\u001b[0m not found.\n  Please use the NLTK Downloader to obtain the resource:\n\n  \u001b[31m>>> import nltk\n  >>> nltk.download('maxent_ne_chunker')\n  \u001b[0m\n  For more information see: https://www.nltk.org/data.html\n\n  Attempted to load \u001b[93mchunkers/maxent_ne_chunker/english_ace_multiclass.pickle\u001b[0m\n\n  Searched in:\n    - 'C:\\\\Users\\\\DELL/nltk_data'\n    - 'C:\\\\Users\\\\DELL\\\\anaconda3.1\\\\nltk_data'\n    - 'C:\\\\Users\\\\DELL\\\\anaconda3.1\\\\share\\\\nltk_data'\n    - 'C:\\\\Users\\\\DELL\\\\anaconda3.1\\\\lib\\\\nltk_data'\n    - 'C:\\\\Users\\\\DELL\\\\AppData\\\\Roaming\\\\nltk_data'\n    - 'C:\\\\nltk_data'\n    - 'D:\\\\nltk_data'\n    - 'E:\\\\nltk_data'\n    - ''\n**********************************************************************\n"
     ]
    }
   ],
   "source": [
    "nltk.chunk.ne_chunk(tags)"
   ]
  },
  {
   "cell_type": "code",
   "execution_count": 41,
   "id": "b6afa4a5-9ec3-406e-9bab-1bb6f5427e15",
   "metadata": {},
   "outputs": [],
   "source": [
    "## now again we fail because of lack of data so we download all important file first."
   ]
  },
  {
   "cell_type": "code",
   "execution_count": 42,
   "id": "42a92cae-de12-465b-a6fb-e53b4aa55eb1",
   "metadata": {},
   "outputs": [
    {
     "name": "stderr",
     "output_type": "stream",
     "text": [
      "[nltk_data] Downloading package punkt to\n",
      "[nltk_data]     C:\\Users\\DELL\\AppData\\Roaming\\nltk_data...\n",
      "[nltk_data]   Package punkt is already up-to-date!\n",
      "[nltk_data] Downloading package averaged_perceptron_tagger to\n",
      "[nltk_data]     C:\\Users\\DELL\\AppData\\Roaming\\nltk_data...\n",
      "[nltk_data]   Package averaged_perceptron_tagger is already up-to-\n",
      "[nltk_data]       date!\n",
      "[nltk_data] Downloading package maxent_ne_chunker to\n",
      "[nltk_data]     C:\\Users\\DELL\\AppData\\Roaming\\nltk_data...\n",
      "[nltk_data]   Unzipping chunkers\\maxent_ne_chunker.zip.\n",
      "[nltk_data] Downloading package words to\n",
      "[nltk_data]     C:\\Users\\DELL\\AppData\\Roaming\\nltk_data...\n",
      "[nltk_data]   Unzipping corpora\\words.zip.\n"
     ]
    },
    {
     "data": {
      "text/plain": [
       "True"
      ]
     },
     "execution_count": 42,
     "metadata": {},
     "output_type": "execute_result"
    }
   ],
   "source": [
    "import nltk\n",
    "nltk.download('punkt')  # for tokenization\n",
    "nltk.download('averaged_perceptron_tagger')  # for POS tagging\n",
    "nltk.download('maxent_ne_chunker')  # for NER chunking\n",
    "nltk.download('words')  # for word list used by NER chunker"
   ]
  },
  {
   "cell_type": "code",
   "execution_count": 44,
   "id": "3f499e03-31e7-4430-8d0b-c188372ab662",
   "metadata": {},
   "outputs": [],
   "source": [
    "chunks = nltk.chunk.ne_chunk(tags)"
   ]
  },
  {
   "cell_type": "markdown",
   "id": "5e0a02b6-9ddd-42f8-b8a4-4f06ea6ad4eb",
   "metadata": {},
   "source": [
    "chunks"
   ]
  },
  {
   "cell_type": "code",
   "execution_count": 46,
   "id": "bf1ce303-592e-4926-a431-252d54b3702e",
   "metadata": {},
   "outputs": [],
   "source": [
    "## you can see unnecesaay text later we see it why?"
   ]
  },
  {
   "cell_type": "code",
   "execution_count": 49,
   "id": "73b7dd7f-c9a4-4901-addf-68043196cc16",
   "metadata": {},
   "outputs": [
    {
     "name": "stdout",
     "output_type": "stream",
     "text": [
      "(S Best/RBS phone/NN to/TO buy/VB during/IN sale/NN ../NN)\n"
     ]
    }
   ],
   "source": [
    "chunks.pprint()"
   ]
  },
  {
   "cell_type": "code",
   "execution_count": 50,
   "id": "15f1caa8-2639-4e39-aeb5-aed2d4a04e24",
   "metadata": {},
   "outputs": [
    {
     "name": "stdout",
     "output_type": "stream",
     "text": [
      "(S Best/RBS phone/NN to/TO buy/VB during/IN sale/NN ../NN)\n"
     ]
    }
   ],
   "source": [
    "print(chunks)  #or"
   ]
  },
  {
   "cell_type": "markdown",
   "id": "a530a265-230d-41ec-b0e1-49a0d98c4abe",
   "metadata": {},
   "source": [
    "## Category 1 i.e VADER"
   ]
  },
  {
   "cell_type": "markdown",
   "id": "db760766-7a6c-4557-bf5a-b64a5e0ada08",
   "metadata": {},
   "source": [
    "VADER uses a \"BAG OF WORDS\" approch:\n",
    "\n",
    "1) Stop Words are removed  like and , the simply words that dont have positive or negative feeling \n",
    "3) Each word is scored and combined to a total score."
   ]
  },
  {
   "cell_type": "code",
   "execution_count": 52,
   "id": "dda549c1-c67a-47b7-9861-c933b9c77fbe",
   "metadata": {},
   "outputs": [],
   "source": [
    "from nltk.sentiment import SentimentIntensityAnalyzer\n",
    "\n",
    "## to get the negative , neutral and positive score of text"
   ]
  },
  {
   "cell_type": "code",
   "execution_count": 53,
   "id": "27010339-c9eb-45de-acf7-6ce7406de2a4",
   "metadata": {},
   "outputs": [],
   "source": [
    "from tqdm.notebook import tqdm"
   ]
  },
  {
   "cell_type": "code",
   "execution_count": 54,
   "id": "0f521166-ea44-4941-950f-3acc7977107d",
   "metadata": {},
   "outputs": [
    {
     "ename": "LookupError",
     "evalue": "\n**********************************************************************\n  Resource \u001b[93mvader_lexicon\u001b[0m not found.\n  Please use the NLTK Downloader to obtain the resource:\n\n  \u001b[31m>>> import nltk\n  >>> nltk.download('vader_lexicon')\n  \u001b[0m\n  For more information see: https://www.nltk.org/data.html\n\n  Attempted to load \u001b[93msentiment/vader_lexicon.zip/vader_lexicon/vader_lexicon.txt\u001b[0m\n\n  Searched in:\n    - 'C:\\\\Users\\\\DELL/nltk_data'\n    - 'C:\\\\Users\\\\DELL\\\\anaconda3.1\\\\nltk_data'\n    - 'C:\\\\Users\\\\DELL\\\\anaconda3.1\\\\share\\\\nltk_data'\n    - 'C:\\\\Users\\\\DELL\\\\anaconda3.1\\\\lib\\\\nltk_data'\n    - 'C:\\\\Users\\\\DELL\\\\AppData\\\\Roaming\\\\nltk_data'\n    - 'C:\\\\nltk_data'\n    - 'D:\\\\nltk_data'\n    - 'E:\\\\nltk_data'\n    - ''\n**********************************************************************\n",
     "output_type": "error",
     "traceback": [
      "\u001b[1;31m---------------------------------------------------------------------------\u001b[0m",
      "\u001b[1;31mLookupError\u001b[0m                               Traceback (most recent call last)",
      "Cell \u001b[1;32mIn[54], line 1\u001b[0m\n\u001b[1;32m----> 1\u001b[0m sia \u001b[38;5;241m=\u001b[39m SentimentIntensityAnalyzer()\n",
      "File \u001b[1;32m~\\anaconda3.1\\Lib\\site-packages\\nltk\\sentiment\\vader.py:340\u001b[0m, in \u001b[0;36mSentimentIntensityAnalyzer.__init__\u001b[1;34m(self, lexicon_file)\u001b[0m\n\u001b[0;32m    336\u001b[0m \u001b[38;5;28;01mdef\u001b[39;00m \u001b[38;5;21m__init__\u001b[39m(\n\u001b[0;32m    337\u001b[0m     \u001b[38;5;28mself\u001b[39m,\n\u001b[0;32m    338\u001b[0m     lexicon_file\u001b[38;5;241m=\u001b[39m\u001b[38;5;124m\"\u001b[39m\u001b[38;5;124msentiment/vader_lexicon.zip/vader_lexicon/vader_lexicon.txt\u001b[39m\u001b[38;5;124m\"\u001b[39m,\n\u001b[0;32m    339\u001b[0m ):\n\u001b[1;32m--> 340\u001b[0m     \u001b[38;5;28mself\u001b[39m\u001b[38;5;241m.\u001b[39mlexicon_file \u001b[38;5;241m=\u001b[39m nltk\u001b[38;5;241m.\u001b[39mdata\u001b[38;5;241m.\u001b[39mload(lexicon_file)\n\u001b[0;32m    341\u001b[0m     \u001b[38;5;28mself\u001b[39m\u001b[38;5;241m.\u001b[39mlexicon \u001b[38;5;241m=\u001b[39m \u001b[38;5;28mself\u001b[39m\u001b[38;5;241m.\u001b[39mmake_lex_dict()\n\u001b[0;32m    342\u001b[0m     \u001b[38;5;28mself\u001b[39m\u001b[38;5;241m.\u001b[39mconstants \u001b[38;5;241m=\u001b[39m VaderConstants()\n",
      "File \u001b[1;32m~\\anaconda3.1\\Lib\\site-packages\\nltk\\data.py:750\u001b[0m, in \u001b[0;36mload\u001b[1;34m(resource_url, format, cache, verbose, logic_parser, fstruct_reader, encoding)\u001b[0m\n\u001b[0;32m    747\u001b[0m     \u001b[38;5;28mprint\u001b[39m(\u001b[38;5;124mf\u001b[39m\u001b[38;5;124m\"\u001b[39m\u001b[38;5;124m<<Loading \u001b[39m\u001b[38;5;132;01m{\u001b[39;00mresource_url\u001b[38;5;132;01m}\u001b[39;00m\u001b[38;5;124m>>\u001b[39m\u001b[38;5;124m\"\u001b[39m)\n\u001b[0;32m    749\u001b[0m \u001b[38;5;66;03m# Load the resource.\u001b[39;00m\n\u001b[1;32m--> 750\u001b[0m opened_resource \u001b[38;5;241m=\u001b[39m _open(resource_url)\n\u001b[0;32m    752\u001b[0m \u001b[38;5;28;01mif\u001b[39;00m \u001b[38;5;28mformat\u001b[39m \u001b[38;5;241m==\u001b[39m \u001b[38;5;124m\"\u001b[39m\u001b[38;5;124mraw\u001b[39m\u001b[38;5;124m\"\u001b[39m:\n\u001b[0;32m    753\u001b[0m     resource_val \u001b[38;5;241m=\u001b[39m opened_resource\u001b[38;5;241m.\u001b[39mread()\n",
      "File \u001b[1;32m~\\anaconda3.1\\Lib\\site-packages\\nltk\\data.py:876\u001b[0m, in \u001b[0;36m_open\u001b[1;34m(resource_url)\u001b[0m\n\u001b[0;32m    873\u001b[0m protocol, path_ \u001b[38;5;241m=\u001b[39m split_resource_url(resource_url)\n\u001b[0;32m    875\u001b[0m \u001b[38;5;28;01mif\u001b[39;00m protocol \u001b[38;5;129;01mis\u001b[39;00m \u001b[38;5;28;01mNone\u001b[39;00m \u001b[38;5;129;01mor\u001b[39;00m protocol\u001b[38;5;241m.\u001b[39mlower() \u001b[38;5;241m==\u001b[39m \u001b[38;5;124m\"\u001b[39m\u001b[38;5;124mnltk\u001b[39m\u001b[38;5;124m\"\u001b[39m:\n\u001b[1;32m--> 876\u001b[0m     \u001b[38;5;28;01mreturn\u001b[39;00m find(path_, path \u001b[38;5;241m+\u001b[39m [\u001b[38;5;124m\"\u001b[39m\u001b[38;5;124m\"\u001b[39m])\u001b[38;5;241m.\u001b[39mopen()\n\u001b[0;32m    877\u001b[0m \u001b[38;5;28;01melif\u001b[39;00m protocol\u001b[38;5;241m.\u001b[39mlower() \u001b[38;5;241m==\u001b[39m \u001b[38;5;124m\"\u001b[39m\u001b[38;5;124mfile\u001b[39m\u001b[38;5;124m\"\u001b[39m:\n\u001b[0;32m    878\u001b[0m     \u001b[38;5;66;03m# urllib might not use mode='rb', so handle this one ourselves:\u001b[39;00m\n\u001b[0;32m    879\u001b[0m     \u001b[38;5;28;01mreturn\u001b[39;00m find(path_, [\u001b[38;5;124m\"\u001b[39m\u001b[38;5;124m\"\u001b[39m])\u001b[38;5;241m.\u001b[39mopen()\n",
      "File \u001b[1;32m~\\anaconda3.1\\Lib\\site-packages\\nltk\\data.py:583\u001b[0m, in \u001b[0;36mfind\u001b[1;34m(resource_name, paths)\u001b[0m\n\u001b[0;32m    581\u001b[0m sep \u001b[38;5;241m=\u001b[39m \u001b[38;5;124m\"\u001b[39m\u001b[38;5;124m*\u001b[39m\u001b[38;5;124m\"\u001b[39m \u001b[38;5;241m*\u001b[39m \u001b[38;5;241m70\u001b[39m\n\u001b[0;32m    582\u001b[0m resource_not_found \u001b[38;5;241m=\u001b[39m \u001b[38;5;124mf\u001b[39m\u001b[38;5;124m\"\u001b[39m\u001b[38;5;130;01m\\n\u001b[39;00m\u001b[38;5;132;01m{\u001b[39;00msep\u001b[38;5;132;01m}\u001b[39;00m\u001b[38;5;130;01m\\n\u001b[39;00m\u001b[38;5;132;01m{\u001b[39;00mmsg\u001b[38;5;132;01m}\u001b[39;00m\u001b[38;5;130;01m\\n\u001b[39;00m\u001b[38;5;132;01m{\u001b[39;00msep\u001b[38;5;132;01m}\u001b[39;00m\u001b[38;5;130;01m\\n\u001b[39;00m\u001b[38;5;124m\"\u001b[39m\n\u001b[1;32m--> 583\u001b[0m \u001b[38;5;28;01mraise\u001b[39;00m \u001b[38;5;167;01mLookupError\u001b[39;00m(resource_not_found)\n",
      "\u001b[1;31mLookupError\u001b[0m: \n**********************************************************************\n  Resource \u001b[93mvader_lexicon\u001b[0m not found.\n  Please use the NLTK Downloader to obtain the resource:\n\n  \u001b[31m>>> import nltk\n  >>> nltk.download('vader_lexicon')\n  \u001b[0m\n  For more information see: https://www.nltk.org/data.html\n\n  Attempted to load \u001b[93msentiment/vader_lexicon.zip/vader_lexicon/vader_lexicon.txt\u001b[0m\n\n  Searched in:\n    - 'C:\\\\Users\\\\DELL/nltk_data'\n    - 'C:\\\\Users\\\\DELL\\\\anaconda3.1\\\\nltk_data'\n    - 'C:\\\\Users\\\\DELL\\\\anaconda3.1\\\\share\\\\nltk_data'\n    - 'C:\\\\Users\\\\DELL\\\\anaconda3.1\\\\lib\\\\nltk_data'\n    - 'C:\\\\Users\\\\DELL\\\\AppData\\\\Roaming\\\\nltk_data'\n    - 'C:\\\\nltk_data'\n    - 'D:\\\\nltk_data'\n    - 'E:\\\\nltk_data'\n    - ''\n**********************************************************************\n"
     ]
    }
   ],
   "source": [
    "sia = SentimentIntensityAnalyzer()"
   ]
  },
  {
   "cell_type": "code",
   "execution_count": 55,
   "id": "230de771-8983-4c51-86fe-e332428c2c24",
   "metadata": {},
   "outputs": [
    {
     "name": "stderr",
     "output_type": "stream",
     "text": [
      "[nltk_data] Downloading package vader_lexicon to\n",
      "[nltk_data]     C:\\Users\\DELL\\AppData\\Roaming\\nltk_data...\n"
     ]
    },
    {
     "data": {
      "text/plain": [
       "True"
      ]
     },
     "execution_count": 55,
     "metadata": {},
     "output_type": "execute_result"
    }
   ],
   "source": [
    "nltk.download('vader_lexicon')"
   ]
  },
  {
   "cell_type": "code",
   "execution_count": 56,
   "id": "1e13c4e1-4874-4402-a323-b0ef97e9e8fd",
   "metadata": {},
   "outputs": [],
   "source": [
    "sia = SentimentIntensityAnalyzer()"
   ]
  },
  {
   "cell_type": "code",
   "execution_count": 57,
   "id": "2541eab6-9e38-43df-a78d-8b7c29d5bbf5",
   "metadata": {},
   "outputs": [
    {
     "data": {
      "text/plain": [
       "<nltk.sentiment.vader.SentimentIntensityAnalyzer at 0x1a1cb15d050>"
      ]
     },
     "execution_count": 57,
     "metadata": {},
     "output_type": "execute_result"
    }
   ],
   "source": [
    "sia"
   ]
  },
  {
   "cell_type": "code",
   "execution_count": 58,
   "id": "c3509f41-c512-4a32-be3a-19fa3204a1e7",
   "metadata": {},
   "outputs": [
    {
     "data": {
      "text/plain": [
       "{'neg': 0.0, 'neu': 0.334, 'pos': 0.666, 'compound': 0.6115}"
      ]
     },
     "execution_count": 58,
     "metadata": {},
     "output_type": "execute_result"
    }
   ],
   "source": [
    "sia.polarity_scores('I am so Happy')"
   ]
  },
  {
   "cell_type": "code",
   "execution_count": 59,
   "id": "6552de31-2788-4088-8de1-32f11bbb18b4",
   "metadata": {},
   "outputs": [],
   "source": [
    "## we can see mostly positive "
   ]
  },
  {
   "cell_type": "code",
   "execution_count": 61,
   "id": "2b83f9b5-71a6-41e6-bbb2-21047400f2a7",
   "metadata": {},
   "outputs": [],
   "source": [
    "## here we have compound -> aggregation of negative , neutral and positive show how the text is from negative to positive ."
   ]
  },
  {
   "cell_type": "code",
   "execution_count": 62,
   "id": "3cfa7e72-9675-4dcf-994f-29a115e742a0",
   "metadata": {},
   "outputs": [
    {
     "data": {
      "text/plain": [
       "{'neg': 0.451, 'neu': 0.549, 'pos': 0.0, 'compound': -0.6249}"
      ]
     },
     "execution_count": 62,
     "metadata": {},
     "output_type": "execute_result"
    }
   ],
   "source": [
    "sia.polarity_scores('This is the worst thing ever')"
   ]
  },
  {
   "cell_type": "code",
   "execution_count": 63,
   "id": "a466bb73-506c-493f-a3da-5f55c8111558",
   "metadata": {},
   "outputs": [],
   "source": [
    "## here compound score is negative represent the text is moving from positive t negative."
   ]
  },
  {
   "cell_type": "code",
   "execution_count": 64,
   "id": "f08335a1-b421-43ff-86da-a7f7f907dcce",
   "metadata": {},
   "outputs": [
    {
     "data": {
      "text/plain": [
       "'Best phone to buy during sale..'"
      ]
     },
     "execution_count": 64,
     "metadata": {},
     "output_type": "execute_result"
    }
   ],
   "source": [
    "Like"
   ]
  },
  {
   "cell_type": "code",
   "execution_count": 65,
   "id": "d5013c63-4275-4740-b6f0-276ff8d05a15",
   "metadata": {},
   "outputs": [
    {
     "data": {
      "text/plain": [
       "{'neg': 0.0, 'neu': 0.543, 'pos': 0.457, 'compound': 0.6369}"
      ]
     },
     "execution_count": 65,
     "metadata": {},
     "output_type": "execute_result"
    }
   ],
   "source": [
    "sia.polarity_scores(Like)"
   ]
  },
  {
   "cell_type": "code",
   "execution_count": 66,
   "id": "bf9fc287-d2b7-421f-96c4-128bc8a89e49",
   "metadata": {},
   "outputs": [],
   "source": [
    "## and we get the polarity score for my text named as Like."
   ]
  },
  {
   "cell_type": "code",
   "execution_count": 67,
   "id": "a516faff-a734-466e-a43b-cf66fadf4272",
   "metadata": {},
   "outputs": [],
   "source": [
    "#### NOW LETS DO IT OVER COMPLETE SHORT DATA (500,11)"
   ]
  },
  {
   "cell_type": "code",
   "execution_count": 76,
   "id": "d0e47dc9-ba6e-457a-a02f-45467babdcef",
   "metadata": {},
   "outputs": [
    {
     "data": {
      "text/html": [
       "<div>\n",
       "<style scoped>\n",
       "    .dataframe tbody tr th:only-of-type {\n",
       "        vertical-align: middle;\n",
       "    }\n",
       "\n",
       "    .dataframe tbody tr th {\n",
       "        vertical-align: top;\n",
       "    }\n",
       "\n",
       "    .dataframe thead th {\n",
       "        text-align: right;\n",
       "    }\n",
       "</style>\n",
       "<table border=\"1\" class=\"dataframe\">\n",
       "  <thead>\n",
       "    <tr style=\"text-align: right;\">\n",
       "      <th></th>\n",
       "      <th>productAsin</th>\n",
       "      <th>country</th>\n",
       "      <th>date</th>\n",
       "      <th>isVerified</th>\n",
       "      <th>ratingScore</th>\n",
       "      <th>reviewTitle</th>\n",
       "      <th>reviewDescription</th>\n",
       "      <th>reviewUrl</th>\n",
       "      <th>reviewedIn</th>\n",
       "      <th>variant</th>\n",
       "      <th>variantAsin</th>\n",
       "    </tr>\n",
       "  </thead>\n",
       "  <tbody>\n",
       "    <tr>\n",
       "      <th>0</th>\n",
       "      <td>B09G9BL5CP</td>\n",
       "      <td>India</td>\n",
       "      <td>11-08-2024</td>\n",
       "      <td>True</td>\n",
       "      <td>4</td>\n",
       "      <td>No charger</td>\n",
       "      <td>Every thing is good about iPhones, there's not...</td>\n",
       "      <td>https://www.amazon.in/gp/customer-reviews/R345...</td>\n",
       "      <td>Reviewed in India on 11 August 2024</td>\n",
       "      <td>Colour: MidnightSize: 256 GB</td>\n",
       "      <td>B09G9BQS98</td>\n",
       "    </tr>\n",
       "    <tr>\n",
       "      <th>1</th>\n",
       "      <td>B09G9BL5CP</td>\n",
       "      <td>India</td>\n",
       "      <td>16-08-2024</td>\n",
       "      <td>True</td>\n",
       "      <td>5</td>\n",
       "      <td>iPhone 13 256GB</td>\n",
       "      <td>It look so fabulous, I am android user switche...</td>\n",
       "      <td>https://www.amazon.in/gp/customer-reviews/R2HJ...</td>\n",
       "      <td>Reviewed in India on 16 August 2024</td>\n",
       "      <td>Colour: MidnightSize: 256 GB</td>\n",
       "      <td>B09G9BQS98</td>\n",
       "    </tr>\n",
       "    <tr>\n",
       "      <th>2</th>\n",
       "      <td>B09G9BL5CP</td>\n",
       "      <td>India</td>\n",
       "      <td>14-05-2024</td>\n",
       "      <td>True</td>\n",
       "      <td>4</td>\n",
       "      <td>Flip camera option nill</td>\n",
       "      <td>I tried to flip camera while recording but no ...</td>\n",
       "      <td>https://www.amazon.in/gp/customer-reviews/R3Y7...</td>\n",
       "      <td>Reviewed in India on 14 May 2024</td>\n",
       "      <td>Colour: MidnightSize: 256 GB</td>\n",
       "      <td>B09G9BQS98</td>\n",
       "    </tr>\n",
       "    <tr>\n",
       "      <th>3</th>\n",
       "      <td>B09G9BL5CP</td>\n",
       "      <td>India</td>\n",
       "      <td>24-06-2024</td>\n",
       "      <td>True</td>\n",
       "      <td>5</td>\n",
       "      <td>Product</td>\n",
       "      <td>100% genuine</td>\n",
       "      <td>https://www.amazon.in/gp/customer-reviews/R1P9...</td>\n",
       "      <td>Reviewed in India on 24 June 2024</td>\n",
       "      <td>Colour: MidnightSize: 256 GB</td>\n",
       "      <td>B09G9BQS98</td>\n",
       "    </tr>\n",
       "    <tr>\n",
       "      <th>4</th>\n",
       "      <td>B09G9BL5CP</td>\n",
       "      <td>India</td>\n",
       "      <td>18-05-2024</td>\n",
       "      <td>True</td>\n",
       "      <td>5</td>\n",
       "      <td>Good product</td>\n",
       "      <td>Happy to get the iPhone 13 in Amazon offer</td>\n",
       "      <td>https://www.amazon.in/gp/customer-reviews/R1XI...</td>\n",
       "      <td>Reviewed in India on 18 May 2024</td>\n",
       "      <td>Colour: MidnightSize: 256 GB</td>\n",
       "      <td>B09G9BQS98</td>\n",
       "    </tr>\n",
       "  </tbody>\n",
       "</table>\n",
       "</div>"
      ],
      "text/plain": [
       "  productAsin country        date  isVerified  ratingScore  \\\n",
       "0  B09G9BL5CP   India  11-08-2024        True            4   \n",
       "1  B09G9BL5CP   India  16-08-2024        True            5   \n",
       "2  B09G9BL5CP   India  14-05-2024        True            4   \n",
       "3  B09G9BL5CP   India  24-06-2024        True            5   \n",
       "4  B09G9BL5CP   India  18-05-2024        True            5   \n",
       "\n",
       "               reviewTitle                                  reviewDescription  \\\n",
       "0               No charger  Every thing is good about iPhones, there's not...   \n",
       "1          iPhone 13 256GB  It look so fabulous, I am android user switche...   \n",
       "2  Flip camera option nill  I tried to flip camera while recording but no ...   \n",
       "3                  Product                                       100% genuine   \n",
       "4             Good product         Happy to get the iPhone 13 in Amazon offer   \n",
       "\n",
       "                                           reviewUrl  \\\n",
       "0  https://www.amazon.in/gp/customer-reviews/R345...   \n",
       "1  https://www.amazon.in/gp/customer-reviews/R2HJ...   \n",
       "2  https://www.amazon.in/gp/customer-reviews/R3Y7...   \n",
       "3  https://www.amazon.in/gp/customer-reviews/R1P9...   \n",
       "4  https://www.amazon.in/gp/customer-reviews/R1XI...   \n",
       "\n",
       "                            reviewedIn                       variant  \\\n",
       "0  Reviewed in India on 11 August 2024  Colour: MidnightSize: 256 GB   \n",
       "1  Reviewed in India on 16 August 2024  Colour: MidnightSize: 256 GB   \n",
       "2     Reviewed in India on 14 May 2024  Colour: MidnightSize: 256 GB   \n",
       "3    Reviewed in India on 24 June 2024  Colour: MidnightSize: 256 GB   \n",
       "4     Reviewed in India on 18 May 2024  Colour: MidnightSize: 256 GB   \n",
       "\n",
       "  variantAsin  \n",
       "0  B09G9BQS98  \n",
       "1  B09G9BQS98  \n",
       "2  B09G9BQS98  \n",
       "3  B09G9BQS98  \n",
       "4  B09G9BQS98  "
      ]
     },
     "execution_count": 76,
     "metadata": {},
     "output_type": "execute_result"
    }
   ],
   "source": [
    "df.head()"
   ]
  },
  {
   "cell_type": "code",
   "execution_count": 93,
   "id": "9bbdb90c-c226-41a6-bbef-2e24e4791c37",
   "metadata": {},
   "outputs": [
    {
     "name": "stdout",
     "output_type": "stream",
     "text": [
      "<class 'pandas.core.frame.DataFrame'>\n",
      "RangeIndex: 500 entries, 0 to 499\n",
      "Data columns (total 11 columns):\n",
      " #   Column             Non-Null Count  Dtype \n",
      "---  ------             --------------  ----- \n",
      " 0   productAsin        500 non-null    object\n",
      " 1   country            500 non-null    object\n",
      " 2   date               500 non-null    object\n",
      " 3   isVerified         500 non-null    bool  \n",
      " 4   ratingScore        500 non-null    int64 \n",
      " 5   reviewTitle        500 non-null    object\n",
      " 6   reviewDescription  480 non-null    object\n",
      " 7   reviewUrl          500 non-null    object\n",
      " 8   reviewedIn         500 non-null    object\n",
      " 9   variant            500 non-null    object\n",
      " 10  variantAsin        500 non-null    object\n",
      "dtypes: bool(1), int64(1), object(9)\n",
      "memory usage: 39.7+ KB\n"
     ]
    }
   ],
   "source": [
    "df.info()"
   ]
  },
  {
   "cell_type": "code",
   "execution_count": 94,
   "id": "59cdb095-1f43-4890-a383-07921b6dd765",
   "metadata": {},
   "outputs": [
    {
     "data": {
      "text/plain": [
       "<generator object DataFrame.iterrows at 0x000001A1CE792CE0>"
      ]
     },
     "execution_count": 94,
     "metadata": {},
     "output_type": "execute_result"
    }
   ],
   "source": [
    "df.iterrows()"
   ]
  },
  {
   "cell_type": "code",
   "execution_count": 95,
   "id": "7c86af0e-9e8c-43a4-9d45-cee0718eefa1",
   "metadata": {},
   "outputs": [
    {
     "data": {
      "text/plain": [
       "500"
      ]
     },
     "execution_count": 95,
     "metadata": {},
     "output_type": "execute_result"
    }
   ],
   "source": [
    "len(df)"
   ]
  },
  {
   "cell_type": "code",
   "execution_count": 124,
   "id": "95cfb79e-54a7-41e5-a01e-6d67e47a49eb",
   "metadata": {},
   "outputs": [
    {
     "name": "stdout",
     "output_type": "stream",
     "text": [
      "    productAsin country        date  isVerified  ratingScore  \\\n",
      "0    B09G9BL5CP   India  11-08-2024        True            4   \n",
      "1    B09G9BL5CP   India  16-08-2024        True            5   \n",
      "2    B09G9BL5CP   India  14-05-2024        True            4   \n",
      "3    B09G9BL5CP   India  24-06-2024        True            5   \n",
      "4    B09G9BL5CP   India  18-05-2024        True            5   \n",
      "..          ...     ...         ...         ...          ...   \n",
      "495  B09G9BL5CP   India  17-11-2023        True            5   \n",
      "496  B09G9BL5CP   India  07-03-2024        True            2   \n",
      "497  B09G9BL5CP   India  07-11-2023        True            5   \n",
      "498  B09G9BL5CP   India  15-10-2023        True            5   \n",
      "499  B09G9BL5CP   India  28-10-2023        True            5   \n",
      "\n",
      "                                           reviewTitle  \\\n",
      "0                                           No charger   \n",
      "1                                      iPhone 13 256GB   \n",
      "2                              Flip camera option nill   \n",
      "3                                              Product   \n",
      "4                                         Good product   \n",
      "..                                                 ...   \n",
      "495                                      Awesome phone   \n",
      "496                                    Stuck on 1 page   \n",
      "497                                       Working good   \n",
      "498  I GOT THIS AT 53000 256GB VARIENT AFTER EXCHAN...   \n",
      "499                          Definitely a good product   \n",
      "\n",
      "                                     reviewDescription  \\\n",
      "0    Every thing is good about iPhones, there's not...   \n",
      "1    It look so fabulous, I am android user switche...   \n",
      "2    I tried to flip camera while recording but no ...   \n",
      "3                                         100% genuine   \n",
      "4           Happy to get the iPhone 13 in Amazon offer   \n",
      "..                                                 ...   \n",
      "495    So beautiful so elegant just looking like a wow   \n",
      "496  There is the option for update of software, af...   \n",
      "497                               Battery life is good   \n",
      "498  I GOT THIS AT 53000 256GB VARIENT AFTER EXCHAN...   \n",
      "499  More than the quality of the product it is imp...   \n",
      "\n",
      "                                             reviewUrl  \\\n",
      "0    https://www.amazon.in/gp/customer-reviews/R345...   \n",
      "1    https://www.amazon.in/gp/customer-reviews/R2HJ...   \n",
      "2    https://www.amazon.in/gp/customer-reviews/R3Y7...   \n",
      "3    https://www.amazon.in/gp/customer-reviews/R1P9...   \n",
      "4    https://www.amazon.in/gp/customer-reviews/R1XI...   \n",
      "..                                                 ...   \n",
      "495  https://www.amazon.in/gp/customer-reviews/R10O...   \n",
      "496  https://www.amazon.in/gp/customer-reviews/R28U...   \n",
      "497  https://www.amazon.in/gp/customer-reviews/R1SB...   \n",
      "498  https://www.amazon.in/gp/customer-reviews/R967...   \n",
      "499  https://www.amazon.in/gp/customer-reviews/RNK0...   \n",
      "\n",
      "                                reviewedIn                       variant  \\\n",
      "0      Reviewed in India on 11 August 2024  Colour: MidnightSize: 256 GB   \n",
      "1      Reviewed in India on 16 August 2024  Colour: MidnightSize: 256 GB   \n",
      "2         Reviewed in India on 14 May 2024  Colour: MidnightSize: 256 GB   \n",
      "3        Reviewed in India on 24 June 2024  Colour: MidnightSize: 256 GB   \n",
      "4         Reviewed in India on 18 May 2024  Colour: MidnightSize: 256 GB   \n",
      "..                                     ...                           ...   \n",
      "495  Reviewed in India on 17 November 2023     Colour: GreenSize: 256 GB   \n",
      "496      Reviewed in India on 7 March 2024     Colour: GreenSize: 256 GB   \n",
      "497   Reviewed in India on 7 November 2023     Colour: GreenSize: 256 GB   \n",
      "498   Reviewed in India on 15 October 2023     Colour: GreenSize: 256 GB   \n",
      "499   Reviewed in India on 28 October 2023     Colour: GreenSize: 256 GB   \n",
      "\n",
      "    variantAsin   id  \n",
      "0    B09G9BQS98    0  \n",
      "1    B09G9BQS98    1  \n",
      "2    B09G9BQS98    2  \n",
      "3    B09G9BQS98    3  \n",
      "4    B09G9BQS98    4  \n",
      "..          ...  ...  \n",
      "495  B09V4MXBSN  495  \n",
      "496  B09V4MXBSN  496  \n",
      "497  B09V4MXBSN  497  \n",
      "498  B09V4MXBSN  498  \n",
      "499  B09V4MXBSN  499  \n",
      "\n",
      "[500 rows x 12 columns]\n"
     ]
    }
   ],
   "source": [
    "\n",
    "df['id'] = range(0, len(df))\n",
    "\n",
    "# Show the DataFrame\n",
    "print(df)\n"
   ]
  },
  {
   "cell_type": "code",
   "execution_count": 125,
   "id": "3b23a518-650e-42c5-bae4-09da1d0d9153",
   "metadata": {},
   "outputs": [
    {
     "name": "stderr",
     "output_type": "stream",
     "text": [
      "100%|██████████████████████████████████| 500/500 [00:00<00:00, 1660.93it/s]\n"
     ]
    }
   ],
   "source": [
    "res = {}\n",
    "for i , row in tqdm(df.iterrows() , total = len(df)):\n",
    "    text = row['reviewDescription']\n",
    "    myid = row['id']\n",
    "    res[myid] = sia.polarity_scores(text)\n",
    "\n",
    "## firstly it is creating issue beacsue we have some empty reviews."
   ]
  },
  {
   "cell_type": "code",
   "execution_count": 126,
   "id": "b6154c01-fc23-4aac-9920-66b8fbdd4674",
   "metadata": {},
   "outputs": [
    {
     "name": "stderr",
     "output_type": "stream",
     "text": [
      "100%|██████████████████████████████████| 500/500 [00:00<00:00, 1892.51it/s]"
     ]
    },
    {
     "name": "stdout",
     "output_type": "stream",
     "text": [
      "{0: {'neg': 0.121, 'neu': 0.816, 'pos': 0.063, 'compound': -0.6954}, 1: {'neg': 0.0, 'neu': 0.596, 'pos': 0.404, 'compound': 0.9621}, 2: {'neg': 0.061, 'neu': 0.939, 'pos': 0.0, 'compound': -0.6632}, 3: {'neg': 0.0, 'neu': 1.0, 'pos': 0.0, 'compound': 0.0}, 4: {'neg': 0.0, 'neu': 0.565, 'pos': 0.435, 'compound': 0.6597}, 5: {'neg': 0.0, 'neu': 1.0, 'pos': 0.0, 'compound': 0.0}, 6: {'neg': 0.064, 'neu': 0.756, 'pos': 0.18, 'compound': 0.6124}, 7: {'neg': 0.0, 'neu': 0.408, 'pos': 0.592, 'compound': 0.4404}, 8: {'neg': 0.0, 'neu': 0.263, 'pos': 0.737, 'compound': 0.4215}, 9: {'neg': 0.0, 'neu': 0.213, 'pos': 0.787, 'compound': 0.5719}, 10: {'neg': 0.064, 'neu': 0.739, 'pos': 0.197, 'compound': 0.9972}, 11: {'neg': 0.0, 'neu': 0.0, 'pos': 1.0, 'compound': 0.4215}, 12: {'neg': 0.0, 'neu': 0.471, 'pos': 0.529, 'compound': 0.9259}, 13: {'neg': 0.0, 'neu': 0.685, 'pos': 0.315, 'compound': 0.8297}, 14: {'neg': 0.0, 'neu': 1.0, 'pos': 0.0, 'compound': 0.0}, 15: {'neg': 0.04, 'neu': 0.748, 'pos': 0.212, 'compound': 0.9865}, 16: {'neg': 0.071, 'neu': 0.823, 'pos': 0.106, 'compound': 0.286}, 17: {'neg': 0.0, 'neu': 0.204, 'pos': 0.796, 'compound': 0.5994}, 18: {'neg': 0.037, 'neu': 0.835, 'pos': 0.128, 'compound': 0.6486}, 19: {'neg': 0.0, 'neu': 1.0, 'pos': 0.0, 'compound': 0.0}, 20: {'neg': 0.0, 'neu': 0.0, 'pos': 1.0, 'compound': 0.6369}, 21: {'neg': 0.625, 'neu': 0.375, 'pos': 0.0, 'compound': -0.1695}, 22: {'neg': 0.0, 'neu': 1.0, 'pos': 0.0, 'compound': 0.0}, 23: {'neg': 0.0, 'neu': 1.0, 'pos': 0.0, 'compound': 0.0}, 24: {'neg': 0.0, 'neu': 0.744, 'pos': 0.256, 'compound': 0.9638}, 25: {'neg': 0.301, 'neu': 0.285, 'pos': 0.414, 'compound': 0.1999}, 26: {'neg': 0.0, 'neu': 0.0, 'pos': 0.0, 'compound': 0.0}, 27: {'neg': 0.0, 'neu': 0.256, 'pos': 0.744, 'compound': 0.4404}, 28: {'neg': 0.075, 'neu': 0.67, 'pos': 0.254, 'compound': 0.9622}, 29: {'neg': 0.0, 'neu': 0.218, 'pos': 0.782, 'compound': 0.7996}, 30: {'neg': 0.0, 'neu': 0.357, 'pos': 0.643, 'compound': 0.2023}, 31: {'neg': 0.0, 'neu': 0.0, 'pos': 1.0, 'compound': 0.3182}, 32: {'neg': 0.0, 'neu': 1.0, 'pos': 0.0, 'compound': 0.0}, 33: {'neg': 0.0, 'neu': 0.821, 'pos': 0.179, 'compound': 0.5413}, 34: {'neg': 0.0, 'neu': 0.0, 'pos': 1.0, 'compound': 0.2023}, 35: {'neg': 0.017, 'neu': 0.853, 'pos': 0.13, 'compound': 0.7876}, 36: {'neg': 0.092, 'neu': 0.794, 'pos': 0.114, 'compound': 0.2746}, 37: {'neg': 0.0, 'neu': 0.0, 'pos': 0.0, 'compound': 0.0}, 38: {'neg': 0.0, 'neu': 0.565, 'pos': 0.435, 'compound': 0.9451}, 39: {'neg': 0.063, 'neu': 0.842, 'pos': 0.095, 'compound': 0.2946}, 40: {'neg': 0.025, 'neu': 0.771, 'pos': 0.205, 'compound': 0.9856}, 41: {'neg': 0.041, 'neu': 0.6, 'pos': 0.359, 'compound': 0.974}, 42: {'neg': 0.056, 'neu': 0.797, 'pos': 0.147, 'compound': 0.9642}, 43: {'neg': 0.0, 'neu': 1.0, 'pos': 0.0, 'compound': 0.0}, 44: {'neg': 0.0, 'neu': 0.641, 'pos': 0.359, 'compound': 0.4215}, 45: {'neg': 0.075, 'neu': 0.774, 'pos': 0.15, 'compound': 0.9934}, 46: {'neg': 0.049, 'neu': 0.739, 'pos': 0.212, 'compound': 0.8107}, 47: {'neg': 0.0, 'neu': 0.811, 'pos': 0.189, 'compound': 0.1027}, 48: {'neg': 0.043, 'neu': 0.801, 'pos': 0.156, 'compound': 0.9589}, 49: {'neg': 0.0, 'neu': 0.192, 'pos': 0.808, 'compound': 0.6369}, 50: {'neg': 0.0, 'neu': 0.263, 'pos': 0.737, 'compound': 0.4215}, 51: {'neg': 0.049, 'neu': 0.485, 'pos': 0.466, 'compound': 0.9753}, 52: {'neg': 0.0, 'neu': 0.943, 'pos': 0.057, 'compound': 0.1779}, 53: {'neg': 0.017, 'neu': 0.79, 'pos': 0.194, 'compound': 0.9974}, 54: {'neg': 0.293, 'neu': 0.707, 'pos': 0.0, 'compound': -0.4404}, 55: {'neg': 0.0, 'neu': 0.0, 'pos': 1.0, 'compound': 0.4404}, 56: {'neg': 0.072, 'neu': 0.719, 'pos': 0.209, 'compound': 0.6187}, 57: {'neg': 0.0, 'neu': 0.213, 'pos': 0.787, 'compound': 0.5719}, 58: {'neg': 0.039, 'neu': 0.849, 'pos': 0.112, 'compound': 0.9322}, 59: {'neg': 0.0, 'neu': 0.58, 'pos': 0.42, 'compound': 0.4404}, 60: {'neg': 0.0, 'neu': 0.0, 'pos': 1.0, 'compound': 0.4215}, 61: {'neg': 0.231, 'neu': 0.628, 'pos': 0.141, 'compound': -0.7721}, 62: {'neg': 0.0, 'neu': 0.455, 'pos': 0.545, 'compound': 0.34}, 63: {'neg': 0.524, 'neu': 0.476, 'pos': 0.0, 'compound': -0.296}, 64: {'neg': 0.0, 'neu': 0.764, 'pos': 0.236, 'compound': 0.6443}, 65: {'neg': 0.0, 'neu': 0.0, 'pos': 1.0, 'compound': 0.6369}, 66: {'neg': 0.0, 'neu': 0.885, 'pos': 0.115, 'compound': 0.4404}, 67: {'neg': 0.0, 'neu': 0.344, 'pos': 0.656, 'compound': 0.9237}, 68: {'neg': 0.0, 'neu': 1.0, 'pos': 0.0, 'compound': 0.0}, 69: {'neg': 0.0, 'neu': 1.0, 'pos': 0.0, 'compound': 0.0}, 70: {'neg': 0.0, 'neu': 0.761, 'pos': 0.239, 'compound': 0.9097}, 71: {'neg': 0.0, 'neu': 1.0, 'pos': 0.0, 'compound': 0.0}, 72: {'neg': 0.0, 'neu': 0.0, 'pos': 0.0, 'compound': 0.0}, 73: {'neg': 0.0, 'neu': 0.0, 'pos': 0.0, 'compound': 0.0}, 74: {'neg': 0.0, 'neu': 0.0, 'pos': 1.0, 'compound': 0.5719}, 75: {'neg': 0.0, 'neu': 0.393, 'pos': 0.607, 'compound': 0.4754}, 76: {'neg': 0.0, 'neu': 0.0, 'pos': 0.0, 'compound': 0.0}, 77: {'neg': 0.0, 'neu': 0.579, 'pos': 0.421, 'compound': 0.8402}, 78: {'neg': 0.013, 'neu': 0.73, 'pos': 0.256, 'compound': 0.999}, 79: {'neg': 0.0, 'neu': 0.769, 'pos': 0.231, 'compound': 0.8402}, 80: {'neg': 0.062, 'neu': 0.704, 'pos': 0.234, 'compound': 0.9946}, 81: {'neg': 0.03, 'neu': 0.741, 'pos': 0.229, 'compound': 0.9864}, 82: {'neg': 0.0, 'neu': 0.694, 'pos': 0.306, 'compound': 0.8316}, 83: {'neg': 0.0, 'neu': 0.189, 'pos': 0.811, 'compound': 0.8225}, 84: {'neg': 0.0, 'neu': 1.0, 'pos': 0.0, 'compound': 0.0}, 85: {'neg': 0.0, 'neu': 0.0, 'pos': 1.0, 'compound': 0.6369}, 86: {'neg': 0.0, 'neu': 0.488, 'pos': 0.512, 'compound': 0.2732}, 87: {'neg': 0.0, 'neu': 1.0, 'pos': 0.0, 'compound': 0.0}, 88: {'neg': 0.0, 'neu': 0.0, 'pos': 1.0, 'compound': 0.6369}, 89: {'neg': 0.0, 'neu': 0.709, 'pos': 0.291, 'compound': 0.7506}, 90: {'neg': 0.0, 'neu': 0.667, 'pos': 0.333, 'compound': 0.3612}, 91: {'neg': 0.0, 'neu': 0.196, 'pos': 0.804, 'compound': 0.6249}, 92: {'neg': 0.618, 'neu': 0.123, 'pos': 0.259, 'compound': -0.4449}, 93: {'neg': 0.0, 'neu': 0.247, 'pos': 0.753, 'compound': 0.7269}, 94: {'neg': 0.0, 'neu': 0.461, 'pos': 0.539, 'compound': 0.8469}, 95: {'neg': 0.0, 'neu': 0.196, 'pos': 0.804, 'compound': 0.6249}, 96: {'neg': 0.0, 'neu': 0.196, 'pos': 0.804, 'compound': 0.6249}, 97: {'neg': 0.0, 'neu': 0.495, 'pos': 0.505, 'compound': 0.8481}, 98: {'neg': 0.0, 'neu': 0.559, 'pos': 0.441, 'compound': 0.836}, 99: {'neg': 0.0, 'neu': 0.444, 'pos': 0.556, 'compound': 0.3612}, 100: {'neg': 0.192, 'neu': 0.45, 'pos': 0.358, 'compound': 0.6211}, 101: {'neg': 0.177, 'neu': 0.484, 'pos': 0.339, 'compound': 0.4588}, 102: {'neg': 0.0, 'neu': 0.0, 'pos': 1.0, 'compound': 0.4404}, 103: {'neg': 0.0, 'neu': 0.662, 'pos': 0.338, 'compound': 0.5574}, 104: {'neg': 0.0, 'neu': 1.0, 'pos': 0.0, 'compound': 0.0}, 105: {'neg': 0.0, 'neu': 0.256, 'pos': 0.744, 'compound': 0.4404}, 106: {'neg': 0.0, 'neu': 0.479, 'pos': 0.521, 'compound': 0.8685}, 107: {'neg': 0.0, 'neu': 0.408, 'pos': 0.592, 'compound': 0.4404}, 108: {'neg': 0.0, 'neu': 0.707, 'pos': 0.293, 'compound': 0.4404}, 109: {'neg': 0.0, 'neu': 0.685, 'pos': 0.315, 'compound': 0.484}, 110: {'neg': 0.0, 'neu': 0.366, 'pos': 0.634, 'compound': 0.6369}, 111: {'neg': 0.05, 'neu': 0.827, 'pos': 0.123, 'compound': 0.9943}, 112: {'neg': 0.0, 'neu': 0.598, 'pos': 0.402, 'compound': 0.902}, 113: {'neg': 0.0, 'neu': 0.516, 'pos': 0.484, 'compound': 0.8176}, 114: {'neg': 0.0, 'neu': 0.775, 'pos': 0.225, 'compound': 0.4404}, 115: {'neg': 0.175, 'neu': 0.397, 'pos': 0.429, 'compound': 0.4939}, 116: {'neg': 0.0, 'neu': 0.263, 'pos': 0.737, 'compound': 0.4215}, 117: {'neg': 0.0, 'neu': 0.256, 'pos': 0.744, 'compound': 0.4404}, 118: {'neg': 0.0, 'neu': 1.0, 'pos': 0.0, 'compound': 0.0}, 119: {'neg': 0.0, 'neu': 0.328, 'pos': 0.672, 'compound': 0.6249}, 120: {'neg': 0.029, 'neu': 0.868, 'pos': 0.103, 'compound': 0.9913}, 121: {'neg': 0.013, 'neu': 0.716, 'pos': 0.271, 'compound': 0.9937}, 122: {'neg': 0.037, 'neu': 0.62, 'pos': 0.343, 'compound': 0.9949}, 123: {'neg': 0.029, 'neu': 0.868, 'pos': 0.103, 'compound': 0.9913}, 124: {'neg': 0.011, 'neu': 0.73, 'pos': 0.259, 'compound': 0.9984}, 125: {'neg': 0.0, 'neu': 0.256, 'pos': 0.744, 'compound': 0.4404}, 126: {'neg': 0.042, 'neu': 0.684, 'pos': 0.274, 'compound': 0.8885}, 127: {'neg': 0.0, 'neu': 0.682, 'pos': 0.318, 'compound': 0.4215}, 128: {'neg': 0.0, 'neu': 0.339, 'pos': 0.661, 'compound': 0.5994}, 129: {'neg': 0.0, 'neu': 0.588, 'pos': 0.412, 'compound': 0.2732}, 130: {'neg': 0.186, 'neu': 0.705, 'pos': 0.109, 'compound': -0.5267}, 131: {'neg': 0.0, 'neu': 1.0, 'pos': 0.0, 'compound': 0.0}, 132: {'neg': 0.405, 'neu': 0.595, 'pos': 0.0, 'compound': -0.5265}, 133: {'neg': 0.0, 'neu': 0.818, 'pos': 0.182, 'compound': 0.9979}, 134: {'neg': 0.0, 'neu': 0.737, 'pos': 0.263, 'compound': 0.7774}, 135: {'neg': 0.0, 'neu': 0.675, 'pos': 0.325, 'compound': 0.891}, 136: {'neg': 0.0, 'neu': 1.0, 'pos': 0.0, 'compound': 0.0}, 137: {'neg': 0.0, 'neu': 0.627, 'pos': 0.373, 'compound': 0.8591}, 138: {'neg': 0.0, 'neu': 0.56, 'pos': 0.44, 'compound': 0.8402}, 139: {'neg': 0.0, 'neu': 0.525, 'pos': 0.475, 'compound': 0.8945}, 140: {'neg': 0.0, 'neu': 0.494, 'pos': 0.506, 'compound': 0.6249}, 141: {'neg': 0.0, 'neu': 0.0, 'pos': 0.0, 'compound': 0.0}, 142: {'neg': 0.0, 'neu': 0.498, 'pos': 0.502, 'compound': 0.9022}, 143: {'neg': 0.0, 'neu': 0.631, 'pos': 0.369, 'compound': 0.868}, 144: {'neg': 0.0, 'neu': 0.543, 'pos': 0.457, 'compound': 0.6369}, 145: {'neg': 0.0, 'neu': 0.0, 'pos': 0.0, 'compound': 0.0}, 146: {'neg': 0.0, 'neu': 0.847, 'pos': 0.153, 'compound': 0.2023}, 147: {'neg': 0.0, 'neu': 1.0, 'pos': 0.0, 'compound': 0.0}, 148: {'neg': 0.0, 'neu': 0.465, 'pos': 0.535, 'compound': 0.7845}, 149: {'neg': 0.0, 'neu': 0.345, 'pos': 0.655, 'compound': 0.5859}, 150: {'neg': 0.0, 'neu': 0.813, 'pos': 0.187, 'compound': 0.5574}, 151: {'neg': 0.064, 'neu': 0.546, 'pos': 0.391, 'compound': 0.9243}, 152: {'neg': 0.0, 'neu': 0.918, 'pos': 0.082, 'compound': 0.4005}, 153: {'neg': 0.0, 'neu': 0.811, 'pos': 0.189, 'compound': 0.6643}, 154: {'neg': 0.0, 'neu': 0.0, 'pos': 1.0, 'compound': 0.6249}, 155: {'neg': 0.0, 'neu': 0.883, 'pos': 0.117, 'compound': 0.3919}, 156: {'neg': 0.0, 'neu': 0.778, 'pos': 0.222, 'compound': 0.5719}, 157: {'neg': 0.0, 'neu': 0.456, 'pos': 0.544, 'compound': 0.7146}, 158: {'neg': 0.0, 'neu': 0.0, 'pos': 1.0, 'compound': 0.5574}, 159: {'neg': 0.0, 'neu': 0.213, 'pos': 0.787, 'compound': 0.5719}, 160: {'neg': 0.0, 'neu': 0.348, 'pos': 0.652, 'compound': 0.8176}, 161: {'neg': 0.0, 'neu': 0.0, 'pos': 1.0, 'compound': 0.5994}, 162: {'neg': 0.0, 'neu': 0.0, 'pos': 0.0, 'compound': 0.0}, 163: {'neg': 0.0, 'neu': 0.0, 'pos': 1.0, 'compound': 0.5994}, 164: {'neg': 0.101, 'neu': 0.753, 'pos': 0.146, 'compound': 0.2919}, 165: {'neg': 0.0, 'neu': 0.196, 'pos': 0.804, 'compound': 0.6249}, 166: {'neg': 0.0, 'neu': 1.0, 'pos': 0.0, 'compound': 0.0}, 167: {'neg': 0.0, 'neu': 0.196, 'pos': 0.804, 'compound': 0.6249}, 168: {'neg': 0.0, 'neu': 1.0, 'pos': 0.0, 'compound': 0.0}, 169: {'neg': 0.0, 'neu': 0.883, 'pos': 0.117, 'compound': 0.6107}, 170: {'neg': 0.0, 'neu': 0.22, 'pos': 0.78, 'compound': 0.7964}, 171: {'neg': 0.035, 'neu': 0.735, 'pos': 0.23, 'compound': 0.8687}, 172: {'neg': 0.0, 'neu': 0.324, 'pos': 0.676, 'compound': 0.7408}, 173: {'neg': 0.045, 'neu': 0.858, 'pos': 0.097, 'compound': 0.4215}, 174: {'neg': 0.0, 'neu': 0.788, 'pos': 0.212, 'compound': 0.7348}, 175: {'neg': 0.115, 'neu': 0.679, 'pos': 0.206, 'compound': 0.5423}, 176: {'neg': 0.0, 'neu': 0.238, 'pos': 0.762, 'compound': 0.4939}, 177: {'neg': 0.0, 'neu': 0.547, 'pos': 0.453, 'compound': 0.9118}, 178: {'neg': 0.0, 'neu': 0.797, 'pos': 0.203, 'compound': 0.6523}, 179: {'neg': 0.0, 'neu': 1.0, 'pos': 0.0, 'compound': 0.0}, 180: {'neg': 0.0, 'neu': 0.204, 'pos': 0.796, 'compound': 0.5994}, 181: {'neg': 0.0, 'neu': 0.583, 'pos': 0.417, 'compound': 0.9569}, 182: {'neg': 0.0, 'neu': 0.752, 'pos': 0.248, 'compound': 0.9166}, 183: {'neg': 0.0, 'neu': 0.755, 'pos': 0.245, 'compound': 0.7579}, 184: {'neg': 0.0, 'neu': 0.776, 'pos': 0.224, 'compound': 0.3804}, 185: {'neg': 0.099, 'neu': 0.814, 'pos': 0.087, 'compound': 0.3071}, 186: {'neg': 0.0, 'neu': 1.0, 'pos': 0.0, 'compound': 0.0}, 187: {'neg': 0.0, 'neu': 0.426, 'pos': 0.574, 'compound': 0.8442}, 188: {'neg': 0.0, 'neu': 1.0, 'pos': 0.0, 'compound': 0.0}, 189: {'neg': 0.0, 'neu': 0.533, 'pos': 0.467, 'compound': 0.886}, 190: {'neg': 0.211, 'neu': 0.476, 'pos': 0.313, 'compound': 0.128}, 191: {'neg': 0.0, 'neu': 0.814, 'pos': 0.186, 'compound': 0.9791}, 192: {'neg': 0.0, 'neu': 0.825, 'pos': 0.175, 'compound': 0.9156}, 193: {'neg': 0.129, 'neu': 0.807, 'pos': 0.063, 'compound': -0.9151}, 194: {'neg': 0.0, 'neu': 0.408, 'pos': 0.592, 'compound': 0.4404}, 195: {'neg': 0.0, 'neu': 1.0, 'pos': 0.0, 'compound': 0.0}, 196: {'neg': 0.0, 'neu': 0.328, 'pos': 0.672, 'compound': 0.6249}, 197: {'neg': 0.0, 'neu': 0.58, 'pos': 0.42, 'compound': 0.4404}, 198: {'neg': 0.0, 'neu': 0.728, 'pos': 0.272, 'compound': 0.8227}, 199: {'neg': 0.025, 'neu': 0.852, 'pos': 0.123, 'compound': 0.8511}, 200: {'neg': 0.0, 'neu': 0.0, 'pos': 1.0, 'compound': 0.4404}, 201: {'neg': 0.063, 'neu': 0.575, 'pos': 0.362, 'compound': 0.9081}, 202: {'neg': 0.0, 'neu': 0.0, 'pos': 1.0, 'compound': 0.6249}, 203: {'neg': 0.0, 'neu': 0.517, 'pos': 0.483, 'compound': 0.4215}, 204: {'neg': 0.0, 'neu': 0.513, 'pos': 0.487, 'compound': 0.5859}, 205: {'neg': 0.046, 'neu': 0.745, 'pos': 0.21, 'compound': 0.8658}, 206: {'neg': 0.0, 'neu': 0.408, 'pos': 0.592, 'compound': 0.4404}, 207: {'neg': 0.0, 'neu': 0.839, 'pos': 0.161, 'compound': 0.6369}, 208: {'neg': 0.115, 'neu': 0.885, 'pos': 0.0, 'compound': -0.765}, 209: {'neg': 0.222, 'neu': 0.778, 'pos': 0.0, 'compound': -0.6908}, 210: {'neg': 0.0, 'neu': 0.595, 'pos': 0.405, 'compound': 0.872}, 211: {'neg': 0.135, 'neu': 0.865, 'pos': 0.0, 'compound': -0.5334}, 212: {'neg': 0.0, 'neu': 0.625, 'pos': 0.375, 'compound': 0.34}, 213: {'neg': 0.105, 'neu': 0.833, 'pos': 0.061, 'compound': -0.25}, 214: {'neg': 0.0, 'neu': 0.489, 'pos': 0.511, 'compound': 0.8873}, 215: {'neg': 0.0, 'neu': 0.874, 'pos': 0.126, 'compound': 0.0772}, 216: {'neg': 0.13, 'neu': 0.448, 'pos': 0.422, 'compound': 0.7099}, 217: {'neg': 0.0, 'neu': 0.0, 'pos': 1.0, 'compound': 0.4215}, 218: {'neg': 0.0, 'neu': 0.0, 'pos': 1.0, 'compound': 0.6249}, 219: {'neg': 0.059, 'neu': 0.941, 'pos': 0.0, 'compound': -0.3865}, 220: {'neg': 0.0, 'neu': 0.828, 'pos': 0.172, 'compound': 0.4404}, 221: {'neg': 0.0, 'neu': 0.0, 'pos': 1.0, 'compound': 0.4404}, 222: {'neg': 0.0, 'neu': 0.665, 'pos': 0.335, 'compound': 0.6738}, 223: {'neg': 0.0, 'neu': 0.556, 'pos': 0.444, 'compound': 0.6114}, 224: {'neg': 0.062, 'neu': 0.715, 'pos': 0.223, 'compound': 0.9147}, 225: {'neg': 0.0, 'neu': 0.53, 'pos': 0.47, 'compound': 0.9059}, 226: {'neg': 0.321, 'neu': 0.679, 'pos': 0.0, 'compound': -0.8966}, 227: {'neg': 0.054, 'neu': 0.781, 'pos': 0.165, 'compound': 0.9824}, 228: {'neg': 0.049, 'neu': 0.839, 'pos': 0.112, 'compound': 0.9457}, 229: {'neg': 0.0, 'neu': 0.874, 'pos': 0.126, 'compound': 0.0772}, 230: {'neg': 0.0, 'neu': 0.0, 'pos': 1.0, 'compound': 0.5719}, 231: {'neg': 0.251, 'neu': 0.749, 'pos': 0.0, 'compound': -0.6908}, 232: {'neg': 0.0, 'neu': 0.324, 'pos': 0.676, 'compound': 0.9628}, 233: {'neg': 0.0, 'neu': 0.263, 'pos': 0.737, 'compound': 0.4215}, 234: {'neg': 0.0, 'neu': 0.0, 'pos': 0.0, 'compound': 0.0}, 235: {'neg': 0.0, 'neu': 0.552, 'pos': 0.448, 'compound': 0.8442}, 236: {'neg': 0.0, 'neu': 1.0, 'pos': 0.0, 'compound': 0.0}, 237: {'neg': 0.0, 'neu': 0.0, 'pos': 1.0, 'compound': 0.4404}, 238: {'neg': 0.404, 'neu': 0.596, 'pos': 0.0, 'compound': -0.2584}, 239: {'neg': 0.036, 'neu': 0.877, 'pos': 0.088, 'compound': 0.4927}, 240: {'neg': 0.0, 'neu': 0.523, 'pos': 0.477, 'compound': 0.8455}, 241: {'neg': 0.039, 'neu': 0.792, 'pos': 0.169, 'compound': 0.9615}, 242: {'neg': 0.0, 'neu': 0.739, 'pos': 0.261, 'compound': 0.6038}, 243: {'neg': 0.0, 'neu': 0.641, 'pos': 0.359, 'compound': 0.9323}, 244: {'neg': 0.0, 'neu': 0.72, 'pos': 0.28, 'compound': 0.765}, 245: {'neg': 0.0, 'neu': 0.667, 'pos': 0.333, 'compound': 0.9612}, 246: {'neg': 0.0, 'neu': 0.798, 'pos': 0.202, 'compound': 0.6808}, 247: {'neg': 0.0, 'neu': 0.0, 'pos': 1.0, 'compound': 0.4404}, 248: {'neg': 0.0, 'neu': 1.0, 'pos': 0.0, 'compound': 0.0}, 249: {'neg': 0.031, 'neu': 0.78, 'pos': 0.189, 'compound': 0.8186}, 250: {'neg': 0.0, 'neu': 0.561, 'pos': 0.439, 'compound': 0.5719}, 251: {'neg': 0.0, 'neu': 0.481, 'pos': 0.519, 'compound': 0.6597}, 252: {'neg': 0.0, 'neu': 0.244, 'pos': 0.756, 'compound': 0.4754}, 253: {'neg': 0.0, 'neu': 0.379, 'pos': 0.621, 'compound': 0.5059}, 254: {'neg': 0.0, 'neu': 0.0, 'pos': 1.0, 'compound': 0.4215}, 255: {'neg': 0.0, 'neu': 0.7, 'pos': 0.3, 'compound': 0.9678}, 256: {'neg': 0.102, 'neu': 0.799, 'pos': 0.098, 'compound': 0.5719}, 257: {'neg': 0.06, 'neu': 0.784, 'pos': 0.155, 'compound': 0.9859}, 258: {'neg': 0.0, 'neu': 0.963, 'pos': 0.037, 'compound': 0.2235}, 259: {'neg': 0.118, 'neu': 0.585, 'pos': 0.297, 'compound': 0.5688}, 260: {'neg': 0.096, 'neu': 0.778, 'pos': 0.126, 'compound': 0.0}, 261: {'neg': 0.367, 'neu': 0.633, 'pos': 0.0, 'compound': -0.4404}, 262: {'neg': 0.083, 'neu': 0.73, 'pos': 0.187, 'compound': 0.312}, 263: {'neg': 0.347, 'neu': 0.546, 'pos': 0.107, 'compound': -0.6597}, 264: {'neg': 0.0, 'neu': 0.898, 'pos': 0.102, 'compound': 0.8271}, 265: {'neg': 0.326, 'neu': 0.674, 'pos': 0.0, 'compound': -0.4404}, 266: {'neg': 0.199, 'neu': 0.801, 'pos': 0.0, 'compound': -0.6936}, 267: {'neg': 0.038, 'neu': 0.854, 'pos': 0.108, 'compound': 0.5828}, 268: {'neg': 0.0, 'neu': 1.0, 'pos': 0.0, 'compound': 0.0}, 269: {'neg': 0.0, 'neu': 0.862, 'pos': 0.138, 'compound': 0.4927}, 270: {'neg': 0.083, 'neu': 0.793, 'pos': 0.124, 'compound': 0.6619}, 271: {'neg': 0.03, 'neu': 0.895, 'pos': 0.076, 'compound': 0.6164}, 272: {'neg': 0.064, 'neu': 0.747, 'pos': 0.189, 'compound': 0.836}, 273: {'neg': 0.0, 'neu': 0.608, 'pos': 0.392, 'compound': 0.9528}, 274: {'neg': 0.158, 'neu': 0.676, 'pos': 0.166, 'compound': -0.1346}, 275: {'neg': 0.051, 'neu': 0.548, 'pos': 0.401, 'compound': 0.9246}, 276: {'neg': 0.047, 'neu': 0.679, 'pos': 0.274, 'compound': 0.9793}, 277: {'neg': 0.054, 'neu': 0.614, 'pos': 0.332, 'compound': 0.8424}, 278: {'neg': 0.0, 'neu': 0.645, 'pos': 0.355, 'compound': 0.872}, 279: {'neg': 0.0, 'neu': 0.457, 'pos': 0.543, 'compound': 0.9703}, 280: {'neg': 0.0, 'neu': 0.644, 'pos': 0.356, 'compound': 0.9239}, 281: {'neg': 0.0, 'neu': 0.0, 'pos': 0.0, 'compound': 0.0}, 282: {'neg': 0.038, 'neu': 0.71, 'pos': 0.252, 'compound': 0.8762}, 283: {'neg': 0.0, 'neu': 0.631, 'pos': 0.369, 'compound': 0.6249}, 284: {'neg': 0.0, 'neu': 0.213, 'pos': 0.787, 'compound': 0.9414}, 285: {'neg': 0.078, 'neu': 0.788, 'pos': 0.134, 'compound': 0.6573}, 286: {'neg': 0.243, 'neu': 0.757, 'pos': 0.0, 'compound': -0.5927}, 287: {'neg': 0.0, 'neu': 0.842, 'pos': 0.158, 'compound': 0.765}, 288: {'neg': 0.013, 'neu': 0.857, 'pos': 0.131, 'compound': 0.9492}, 289: {'neg': 0.0, 'neu': 0.337, 'pos': 0.663, 'compound': 0.93}, 290: {'neg': 0.0, 'neu': 0.826, 'pos': 0.174, 'compound': 0.5859}, 291: {'neg': 0.0, 'neu': 0.408, 'pos': 0.592, 'compound': 0.4404}, 292: {'neg': 0.0, 'neu': 0.0, 'pos': 0.0, 'compound': 0.0}, 293: {'neg': 0.0, 'neu': 1.0, 'pos': 0.0, 'compound': 0.0}, 294: {'neg': 0.0, 'neu': 1.0, 'pos': 0.0, 'compound': 0.0}, 295: {'neg': 0.0, 'neu': 0.256, 'pos': 0.744, 'compound': 0.4404}, 296: {'neg': 0.0, 'neu': 0.0, 'pos': 1.0, 'compound': 0.4404}, 297: {'neg': 0.0, 'neu': 0.923, 'pos': 0.077, 'compound': 0.2724}, 298: {'neg': 0.0, 'neu': 0.656, 'pos': 0.344, 'compound': 0.6369}, 299: {'neg': 0.0, 'neu': 0.0, 'pos': 1.0, 'compound': 0.4404}, 300: {'neg': 0.0, 'neu': 0.543, 'pos': 0.457, 'compound': 0.6369}, 301: {'neg': 0.0, 'neu': 0.769, 'pos': 0.231, 'compound': 0.2732}, 302: {'neg': 0.0, 'neu': 0.309, 'pos': 0.691, 'compound': 0.7717}, 303: {'neg': 0.0, 'neu': 0.715, 'pos': 0.285, 'compound': 0.4927}, 304: {'neg': 0.0, 'neu': 0.538, 'pos': 0.462, 'compound': 0.6318}, 305: {'neg': 0.0, 'neu': 0.545, 'pos': 0.455, 'compound': 0.8176}, 306: {'neg': 0.0, 'neu': 0.0, 'pos': 0.0, 'compound': 0.0}, 307: {'neg': 0.057, 'neu': 0.871, 'pos': 0.072, 'compound': 0.1531}, 308: {'neg': 0.0, 'neu': 0.672, 'pos': 0.328, 'compound': 0.9349}, 309: {'neg': 0.052, 'neu': 0.87, 'pos': 0.078, 'compound': 0.643}, 310: {'neg': 0.024, 'neu': 0.82, 'pos': 0.156, 'compound': 0.7846}, 311: {'neg': 0.0, 'neu': 0.511, 'pos': 0.489, 'compound': 0.7717}, 312: {'neg': 0.0, 'neu': 0.682, 'pos': 0.318, 'compound': 0.9118}, 313: {'neg': 0.0, 'neu': 1.0, 'pos': 0.0, 'compound': 0.0}, 314: {'neg': 0.0, 'neu': 0.0, 'pos': 1.0, 'compound': 0.4215}, 315: {'neg': 0.0, 'neu': 0.513, 'pos': 0.487, 'compound': 0.5859}, 316: {'neg': 0.014, 'neu': 0.773, 'pos': 0.214, 'compound': 0.9946}, 317: {'neg': 0.154, 'neu': 0.769, 'pos': 0.077, 'compound': -0.3182}, 318: {'neg': 0.0, 'neu': 0.417, 'pos': 0.583, 'compound': 0.6369}, 319: {'neg': 0.0, 'neu': 0.798, 'pos': 0.202, 'compound': 0.9081}, 320: {'neg': 0.0, 'neu': 0.241, 'pos': 0.759, 'compound': 0.9115}, 321: {'neg': 0.0, 'neu': 0.682, 'pos': 0.318, 'compound': 0.4215}, 322: {'neg': 0.0, 'neu': 0.752, 'pos': 0.248, 'compound': 0.765}, 323: {'neg': 0.0, 'neu': 0.459, 'pos': 0.541, 'compound': 0.7089}, 324: {'neg': 0.183, 'neu': 0.689, 'pos': 0.127, 'compound': -0.0146}, 325: {'neg': 0.0, 'neu': 0.444, 'pos': 0.556, 'compound': 0.3612}, 326: {'neg': 0.174, 'neu': 0.826, 'pos': 0.0, 'compound': -0.2732}, 327: {'neg': 0.123, 'neu': 0.639, 'pos': 0.237, 'compound': 0.128}, 328: {'neg': 0.08, 'neu': 0.727, 'pos': 0.193, 'compound': 0.4767}, 329: {'neg': 0.0, 'neu': 0.678, 'pos': 0.322, 'compound': 0.2263}, 330: {'neg': 0.0, 'neu': 1.0, 'pos': 0.0, 'compound': 0.0}, 331: {'neg': 0.0, 'neu': 0.818, 'pos': 0.182, 'compound': 0.4404}, 332: {'neg': 0.278, 'neu': 0.722, 'pos': 0.0, 'compound': -0.4019}, 333: {'neg': 0.0, 'neu': 0.785, 'pos': 0.215, 'compound': 0.6249}, 334: {'neg': 0.0, 'neu': 0.256, 'pos': 0.744, 'compound': 0.4404}, 335: {'neg': 0.03, 'neu': 0.74, 'pos': 0.23, 'compound': 0.9479}, 336: {'neg': 0.0, 'neu': 1.0, 'pos': 0.0, 'compound': 0.0}, 337: {'neg': 0.0, 'neu': 1.0, 'pos': 0.0, 'compound': 0.0}, 338: {'neg': 0.0, 'neu': 0.792, 'pos': 0.208, 'compound': 0.6369}, 339: {'neg': 0.106, 'neu': 0.894, 'pos': 0.0, 'compound': -0.3612}, 340: {'neg': 0.0, 'neu': 0.488, 'pos': 0.512, 'compound': 0.4939}, 341: {'neg': 0.0, 'neu': 0.0, 'pos': 0.0, 'compound': 0.0}, 342: {'neg': 0.0, 'neu': 0.192, 'pos': 0.808, 'compound': 0.6369}, 343: {'neg': 0.0, 'neu': 0.0, 'pos': 0.0, 'compound': 0.0}, 344: {'neg': 0.0, 'neu': 0.797, 'pos': 0.203, 'compound': 0.7506}, 345: {'neg': 0.0, 'neu': 0.794, 'pos': 0.206, 'compound': 0.8519}, 346: {'neg': 0.0, 'neu': 0.345, 'pos': 0.655, 'compound': 0.5859}, 347: {'neg': 0.0, 'neu': 0.0, 'pos': 1.0, 'compound': 0.4215}, 348: {'neg': 0.0, 'neu': 0.744, 'pos': 0.256, 'compound': 0.9984}, 349: {'neg': 0.0, 'neu': 0.0, 'pos': 0.0, 'compound': 0.0}, 350: {'neg': 0.0, 'neu': 0.748, 'pos': 0.252, 'compound': 0.8442}, 351: {'neg': 0.0, 'neu': 1.0, 'pos': 0.0, 'compound': 0.0}, 352: {'neg': 0.579, 'neu': 0.421, 'pos': 0.0, 'compound': -0.6705}, 353: {'neg': 0.0, 'neu': 0.473, 'pos': 0.527, 'compound': 0.9382}, 354: {'neg': 0.0, 'neu': 0.813, 'pos': 0.187, 'compound': 0.5994}, 355: {'neg': 0.0, 'neu': 0.714, 'pos': 0.286, 'compound': 0.7351}, 356: {'neg': 0.0, 'neu': 0.694, 'pos': 0.306, 'compound': 0.296}, 357: {'neg': 0.0, 'neu': 0.0, 'pos': 0.0, 'compound': 0.0}, 358: {'neg': 0.0, 'neu': 0.0, 'pos': 1.0, 'compound': 0.5859}, 359: {'neg': 0.0, 'neu': 0.213, 'pos': 0.787, 'compound': 0.5719}, 360: {'neg': 0.0, 'neu': 0.515, 'pos': 0.485, 'compound': 0.765}, 361: {'neg': 0.071, 'neu': 0.787, 'pos': 0.142, 'compound': 0.4245}, 362: {'neg': 0.0, 'neu': 0.0, 'pos': 1.0, 'compound': 0.4215}, 363: {'neg': 0.094, 'neu': 0.675, 'pos': 0.231, 'compound': 0.8555}, 364: {'neg': 0.0, 'neu': 0.385, 'pos': 0.615, 'compound': 0.4927}, 365: {'neg': 0.0, 'neu': 1.0, 'pos': 0.0, 'compound': 0.0}, 366: {'neg': 0.0, 'neu': 1.0, 'pos': 0.0, 'compound': 0.0}, 367: {'neg': 0.026, 'neu': 0.882, 'pos': 0.092, 'compound': 0.6697}, 368: {'neg': 0.0, 'neu': 0.0, 'pos': 1.0, 'compound': 0.4404}, 369: {'neg': 0.0, 'neu': 0.608, 'pos': 0.392, 'compound': 0.8294}, 370: {'neg': 0.0, 'neu': 0.0, 'pos': 1.0, 'compound': 0.9136}, 371: {'neg': 0.0, 'neu': 0.734, 'pos': 0.266, 'compound': 0.4404}, 372: {'neg': 0.0, 'neu': 0.408, 'pos': 0.592, 'compound': 0.4404}, 373: {'neg': 0.046, 'neu': 0.889, 'pos': 0.065, 'compound': 0.4588}, 374: {'neg': 0.0, 'neu': 0.417, 'pos': 0.583, 'compound': 0.4215}, 375: {'neg': 0.0, 'neu': 0.508, 'pos': 0.492, 'compound': 0.4404}, 376: {'neg': 0.0, 'neu': 1.0, 'pos': 0.0, 'compound': 0.0}, 377: {'neg': 0.0, 'neu': 0.828, 'pos': 0.172, 'compound': 0.9776}, 378: {'neg': 0.047, 'neu': 0.888, 'pos': 0.065, 'compound': 0.1779}, 379: {'neg': 0.0, 'neu': 0.869, 'pos': 0.131, 'compound': 0.9606}, 380: {'neg': 0.0, 'neu': 0.774, 'pos': 0.226, 'compound': 0.3252}, 381: {'neg': 0.0, 'neu': 0.196, 'pos': 0.804, 'compound': 0.6249}, 382: {'neg': 0.0, 'neu': 1.0, 'pos': 0.0, 'compound': 0.0}, 383: {'neg': 0.0, 'neu': 0.714, 'pos': 0.286, 'compound': 0.4215}, 384: {'neg': 0.0, 'neu': 0.569, 'pos': 0.431, 'compound': 0.6486}, 385: {'neg': 0.0, 'neu': 0.388, 'pos': 0.612, 'compound': 0.743}, 386: {'neg': 0.108, 'neu': 0.365, 'pos': 0.527, 'compound': 0.93}, 387: {'neg': 0.0, 'neu': 1.0, 'pos': 0.0, 'compound': 0.0}, 388: {'neg': 0.0, 'neu': 1.0, 'pos': 0.0, 'compound': 0.0}, 389: {'neg': 0.0, 'neu': 0.0, 'pos': 0.0, 'compound': 0.0}, 390: {'neg': 0.0, 'neu': 0.291, 'pos': 0.709, 'compound': 0.743}, 391: {'neg': 0.0, 'neu': 0.653, 'pos': 0.347, 'compound': 0.9524}, 392: {'neg': 0.778, 'neu': 0.222, 'pos': 0.0, 'compound': -0.5423}, 393: {'neg': 0.0, 'neu': 0.674, 'pos': 0.326, 'compound': 0.9628}, 394: {'neg': 0.375, 'neu': 0.625, 'pos': 0.0, 'compound': -0.4588}, 395: {'neg': 0.0, 'neu': 0.719, 'pos': 0.281, 'compound': 0.9136}, 396: {'neg': 0.0, 'neu': 0.694, 'pos': 0.306, 'compound': 0.9325}, 397: {'neg': 0.0, 'neu': 0.611, 'pos': 0.389, 'compound': 0.9441}, 398: {'neg': 0.129, 'neu': 0.525, 'pos': 0.345, 'compound': 0.775}, 399: {'neg': 0.383, 'neu': 0.617, 'pos': 0.0, 'compound': -0.4767}, 400: {'neg': 0.054, 'neu': 0.882, 'pos': 0.064, 'compound': 0.5538}, 401: {'neg': 0.0, 'neu': 0.87, 'pos': 0.13, 'compound': 0.2382}, 402: {'neg': 0.0, 'neu': 1.0, 'pos': 0.0, 'compound': 0.0}, 403: {'neg': 0.0, 'neu': 0.256, 'pos': 0.744, 'compound': 0.4404}, 404: {'neg': 0.0, 'neu': 1.0, 'pos': 0.0, 'compound': 0.0}, 405: {'neg': 0.0, 'neu': 0.0, 'pos': 0.0, 'compound': 0.0}, 406: {'neg': 0.0, 'neu': 0.351, 'pos': 0.649, 'compound': 0.5719}, 407: {'neg': 0.058, 'neu': 0.675, 'pos': 0.267, 'compound': 0.9498}, 408: {'neg': 0.212, 'neu': 0.704, 'pos': 0.084, 'compound': -0.6915}, 409: {'neg': 0.0, 'neu': 0.0, 'pos': 0.0, 'compound': 0.0}, 410: {'neg': 0.0, 'neu': 0.824, 'pos': 0.176, 'compound': 0.9182}, 411: {'neg': 0.0, 'neu': 0.0, 'pos': 1.0, 'compound': 0.4404}, 412: {'neg': 0.0, 'neu': 0.393, 'pos': 0.607, 'compound': 0.4754}, 413: {'neg': 0.073, 'neu': 0.758, 'pos': 0.169, 'compound': 0.5267}, 414: {'neg': 0.03, 'neu': 0.655, 'pos': 0.315, 'compound': 0.9638}, 415: {'neg': 0.073, 'neu': 0.76, 'pos': 0.167, 'compound': 0.9617}, 416: {'neg': 0.0, 'neu': 0.408, 'pos': 0.592, 'compound': 0.4404}, 417: {'neg': 0.0, 'neu': 0.331, 'pos': 0.669, 'compound': 0.8777}, 418: {'neg': 0.0, 'neu': 0.606, 'pos': 0.394, 'compound': 0.7579}, 419: {'neg': 0.0, 'neu': 0.0, 'pos': 0.0, 'compound': 0.0}, 420: {'neg': 0.03, 'neu': 0.823, 'pos': 0.148, 'compound': 0.8949}, 421: {'neg': 0.106, 'neu': 0.794, 'pos': 0.1, 'compound': -0.5994}, 422: {'neg': 0.0, 'neu': 0.739, 'pos': 0.261, 'compound': 0.5574}, 423: {'neg': 0.0, 'neu': 0.508, 'pos': 0.492, 'compound': 0.4404}, 424: {'neg': 0.097, 'neu': 0.83, 'pos': 0.073, 'compound': -0.6368}, 425: {'neg': 0.0, 'neu': 0.256, 'pos': 0.744, 'compound': 0.4404}, 426: {'neg': 0.0, 'neu': 0.897, 'pos': 0.103, 'compound': 0.3716}, 427: {'neg': 0.0, 'neu': 0.881, 'pos': 0.119, 'compound': 0.2235}, 428: {'neg': 0.355, 'neu': 0.645, 'pos': 0.0, 'compound': -0.296}, 429: {'neg': 0.131, 'neu': 0.747, 'pos': 0.121, 'compound': -0.1759}, 430: {'neg': 0.0, 'neu': 1.0, 'pos': 0.0, 'compound': 0.0}, 431: {'neg': 0.164, 'neu': 0.792, 'pos': 0.044, 'compound': -0.7437}, 432: {'neg': 0.0, 'neu': 0.417, 'pos': 0.583, 'compound': 0.6369}, 433: {'neg': 0.0, 'neu': 0.625, 'pos': 0.375, 'compound': 0.2023}, 434: {'neg': 0.461, 'neu': 0.327, 'pos': 0.212, 'compound': -0.6187}, 435: {'neg': 0.0, 'neu': 0.339, 'pos': 0.661, 'compound': 0.5994}, 436: {'neg': 0.0, 'neu': 0.767, 'pos': 0.233, 'compound': 0.5499}, 437: {'neg': 0.137, 'neu': 0.722, 'pos': 0.141, 'compound': 0.0129}, 438: {'neg': 0.008, 'neu': 0.732, 'pos': 0.26, 'compound': 0.9969}, 439: {'neg': 0.445, 'neu': 0.555, 'pos': 0.0, 'compound': -0.3412}, 440: {'neg': 0.065, 'neu': 0.741, 'pos': 0.195, 'compound': 0.9627}, 441: {'neg': 0.0, 'neu': 1.0, 'pos': 0.0, 'compound': 0.0}, 442: {'neg': 0.058, 'neu': 0.761, 'pos': 0.182, 'compound': 0.6187}, 443: {'neg': 0.0, 'neu': 0.196, 'pos': 0.804, 'compound': 0.6249}, 444: {'neg': 0.0, 'neu': 0.238, 'pos': 0.762, 'compound': 0.9153}, 445: {'neg': 0.0, 'neu': 0.256, 'pos': 0.744, 'compound': 0.4404}, 446: {'neg': 0.041, 'neu': 0.959, 'pos': 0.0, 'compound': -0.1027}, 447: {'neg': 0.078, 'neu': 0.872, 'pos': 0.05, 'compound': -0.3818}, 448: {'neg': 0.193, 'neu': 0.807, 'pos': 0.0, 'compound': -0.4767}, 449: {'neg': 0.027, 'neu': 0.681, 'pos': 0.293, 'compound': 0.9434}, 450: {'neg': 0.0, 'neu': 0.256, 'pos': 0.744, 'compound': 0.4404}, 451: {'neg': 0.135, 'neu': 0.773, 'pos': 0.092, 'compound': -0.4005}, 452: {'neg': 0.0, 'neu': 0.715, 'pos': 0.285, 'compound': 0.4927}, 453: {'neg': 0.0, 'neu': 0.0, 'pos': 1.0, 'compound': 0.6249}, 454: {'neg': 0.0, 'neu': 0.323, 'pos': 0.677, 'compound': 0.6369}, 455: {'neg': 0.0, 'neu': 0.256, 'pos': 0.744, 'compound': 0.4404}, 456: {'neg': 0.0, 'neu': 0.0, 'pos': 1.0, 'compound': 0.4215}, 457: {'neg': 0.0, 'neu': 0.541, 'pos': 0.459, 'compound': 0.7778}, 458: {'neg': 0.01, 'neu': 0.788, 'pos': 0.202, 'compound': 0.9989}, 459: {'neg': 0.0, 'neu': 1.0, 'pos': 0.0, 'compound': 0.0}, 460: {'neg': 0.0, 'neu': 1.0, 'pos': 0.0, 'compound': 0.0}, 461: {'neg': 0.0, 'neu': 0.417, 'pos': 0.583, 'compound': 0.7906}, 462: {'neg': 0.0, 'neu': 0.827, 'pos': 0.173, 'compound': 0.9423}, 463: {'neg': 0.0, 'neu': 0.256, 'pos': 0.744, 'compound': 0.4404}, 464: {'neg': 0.0, 'neu': 0.598, 'pos': 0.402, 'compound': 0.4005}, 465: {'neg': 0.0, 'neu': 1.0, 'pos': 0.0, 'compound': 0.0}, 466: {'neg': 0.0, 'neu': 0.192, 'pos': 0.808, 'compound': 0.6369}, 467: {'neg': 0.0, 'neu': 0.508, 'pos': 0.492, 'compound': 0.4404}, 468: {'neg': 0.0, 'neu': 0.204, 'pos': 0.796, 'compound': 0.8316}, 469: {'neg': 0.129, 'neu': 0.807, 'pos': 0.064, 'compound': -0.5423}, 470: {'neg': 0.0, 'neu': 1.0, 'pos': 0.0, 'compound': 0.0}, 471: {'neg': 0.0, 'neu': 0.789, 'pos': 0.211, 'compound': 0.5187}, 472: {'neg': 0.0, 'neu': 0.812, 'pos': 0.188, 'compound': 0.9259}, 473: {'neg': 0.208, 'neu': 0.662, 'pos': 0.129, 'compound': -0.577}, 474: {'neg': 0.0, 'neu': 0.746, 'pos': 0.254, 'compound': 0.5267}, 475: {'neg': 0.0, 'neu': 1.0, 'pos': 0.0, 'compound': 0.0}, 476: {'neg': 0.0, 'neu': 0.244, 'pos': 0.756, 'compound': 0.4753}, 477: {'neg': 0.325, 'neu': 0.675, 'pos': 0.0, 'compound': -0.3412}, 478: {'neg': 0.0, 'neu': 0.417, 'pos': 0.583, 'compound': 0.4215}, 479: {'neg': 0.0, 'neu': 0.208, 'pos': 0.792, 'compound': 0.5859}, 480: {'neg': 0.171, 'neu': 0.829, 'pos': 0.0, 'compound': -0.4767}, 481: {'neg': 0.0, 'neu': 0.0, 'pos': 0.0, 'compound': 0.0}, 482: {'neg': 0.0, 'neu': 0.714, 'pos': 0.286, 'compound': 0.4215}, 483: {'neg': 0.815, 'neu': 0.185, 'pos': 0.0, 'compound': -0.659}, 484: {'neg': 0.0, 'neu': 0.0, 'pos': 1.0, 'compound': 0.5994}, 485: {'neg': 0.0, 'neu': 0.588, 'pos': 0.412, 'compound': 0.4215}, 486: {'neg': 0.0, 'neu': 0.857, 'pos': 0.143, 'compound': 0.5927}, 487: {'neg': 0.118, 'neu': 0.632, 'pos': 0.25, 'compound': 0.4497}, 488: {'neg': 0.0, 'neu': 0.694, 'pos': 0.306, 'compound': 0.296}, 489: {'neg': 0.095, 'neu': 0.773, 'pos': 0.132, 'compound': 0.2023}, 490: {'neg': 0.0, 'neu': 0.828, 'pos': 0.172, 'compound': 0.3612}, 491: {'neg': 0.0, 'neu': 0.673, 'pos': 0.327, 'compound': 0.7783}, 492: {'neg': 0.0, 'neu': 0.714, 'pos': 0.286, 'compound': 0.4215}, 493: {'neg': 0.0, 'neu': 0.667, 'pos': 0.333, 'compound': 0.3612}, 494: {'neg': 0.0, 'neu': 0.341, 'pos': 0.659, 'compound': 0.7003}, 495: {'neg': 0.0, 'neu': 0.213, 'pos': 0.787, 'compound': 0.9414}, 496: {'neg': 0.091, 'neu': 0.909, 'pos': 0.0, 'compound': -0.25}, 497: {'neg': 0.0, 'neu': 0.508, 'pos': 0.492, 'compound': 0.4404}, 498: {'neg': 0.0, 'neu': 0.556, 'pos': 0.444, 'compound': 0.908}, 499: {'neg': 0.059, 'neu': 0.759, 'pos': 0.181, 'compound': 0.4404}}\n"
     ]
    },
    {
     "name": "stderr",
     "output_type": "stream",
     "text": [
      "\n"
     ]
    }
   ],
   "source": [
    "res = {}\n",
    "\n",
    "# Iterate through the DataFrame rows\n",
    "for i, row in tqdm(df.iterrows(), total=len(df)):\n",
    "    text = row['reviewDescription']\n",
    "    myid = row['id']\n",
    "    \n",
    "    # Check if 'reviewDescription' is not NaN\n",
    "    if isinstance(text, str):\n",
    "        res[myid] = sia.polarity_scores(text)\n",
    "    else:\n",
    "        # If text is NaN, you can handle it (e.g., by skipping or assigning a default value)\n",
    "        res[myid] = {'neg': 0, 'neu': 0, 'pos': 0, 'compound': 0}  # Default sentiment if NaN\n",
    "\n",
    "# Print the results\n",
    "print(res)"
   ]
  },
  {
   "cell_type": "code",
   "execution_count": 127,
   "id": "b8f9d6b3-f6ce-46a9-a205-79ffd83908a6",
   "metadata": {},
   "outputs": [],
   "source": [
    "## or "
   ]
  },
  {
   "cell_type": "code",
   "execution_count": 128,
   "id": "0dc34d2e-ce2e-4f0e-8db0-8eb713a1531c",
   "metadata": {},
   "outputs": [],
   "source": [
    "df['reviewDescription'].fillna('', inplace=True)"
   ]
  },
  {
   "cell_type": "code",
   "execution_count": 129,
   "id": "4fd19cf1-10fe-4fca-a444-7f07eafe4399",
   "metadata": {},
   "outputs": [
    {
     "name": "stderr",
     "output_type": "stream",
     "text": [
      "100%|██████████████████████████████████| 500/500 [00:00<00:00, 1931.21it/s]\n"
     ]
    }
   ],
   "source": [
    "res_2 = {}\n",
    "for i , row in tqdm(df.iterrows() , total = len(df)):\n",
    "    text = row['reviewDescription']\n",
    "    myid = row['id']\n",
    "    res_2[myid] = sia.polarity_scores(text)"
   ]
  },
  {
   "cell_type": "code",
   "execution_count": 130,
   "id": "c652f02e-7d93-49f5-b4e4-0d07f68ea331",
   "metadata": {},
   "outputs": [
    {
     "data": {
      "text/plain": [
       "{0: {'neg': 0.121, 'neu': 0.816, 'pos': 0.063, 'compound': -0.6954},\n",
       " 1: {'neg': 0.0, 'neu': 0.596, 'pos': 0.404, 'compound': 0.9621},\n",
       " 2: {'neg': 0.061, 'neu': 0.939, 'pos': 0.0, 'compound': -0.6632},\n",
       " 3: {'neg': 0.0, 'neu': 1.0, 'pos': 0.0, 'compound': 0.0},\n",
       " 4: {'neg': 0.0, 'neu': 0.565, 'pos': 0.435, 'compound': 0.6597},\n",
       " 5: {'neg': 0.0, 'neu': 1.0, 'pos': 0.0, 'compound': 0.0},\n",
       " 6: {'neg': 0.064, 'neu': 0.756, 'pos': 0.18, 'compound': 0.6124},\n",
       " 7: {'neg': 0.0, 'neu': 0.408, 'pos': 0.592, 'compound': 0.4404},\n",
       " 8: {'neg': 0.0, 'neu': 0.263, 'pos': 0.737, 'compound': 0.4215},\n",
       " 9: {'neg': 0.0, 'neu': 0.213, 'pos': 0.787, 'compound': 0.5719},\n",
       " 10: {'neg': 0.064, 'neu': 0.739, 'pos': 0.197, 'compound': 0.9972},\n",
       " 11: {'neg': 0.0, 'neu': 0.0, 'pos': 1.0, 'compound': 0.4215},\n",
       " 12: {'neg': 0.0, 'neu': 0.471, 'pos': 0.529, 'compound': 0.9259},\n",
       " 13: {'neg': 0.0, 'neu': 0.685, 'pos': 0.315, 'compound': 0.8297},\n",
       " 14: {'neg': 0.0, 'neu': 1.0, 'pos': 0.0, 'compound': 0.0},\n",
       " 15: {'neg': 0.04, 'neu': 0.748, 'pos': 0.212, 'compound': 0.9865},\n",
       " 16: {'neg': 0.071, 'neu': 0.823, 'pos': 0.106, 'compound': 0.286},\n",
       " 17: {'neg': 0.0, 'neu': 0.204, 'pos': 0.796, 'compound': 0.5994},\n",
       " 18: {'neg': 0.037, 'neu': 0.835, 'pos': 0.128, 'compound': 0.6486},\n",
       " 19: {'neg': 0.0, 'neu': 1.0, 'pos': 0.0, 'compound': 0.0},\n",
       " 20: {'neg': 0.0, 'neu': 0.0, 'pos': 1.0, 'compound': 0.6369},\n",
       " 21: {'neg': 0.625, 'neu': 0.375, 'pos': 0.0, 'compound': -0.1695},\n",
       " 22: {'neg': 0.0, 'neu': 1.0, 'pos': 0.0, 'compound': 0.0},\n",
       " 23: {'neg': 0.0, 'neu': 1.0, 'pos': 0.0, 'compound': 0.0},\n",
       " 24: {'neg': 0.0, 'neu': 0.744, 'pos': 0.256, 'compound': 0.9638},\n",
       " 25: {'neg': 0.301, 'neu': 0.285, 'pos': 0.414, 'compound': 0.1999},\n",
       " 26: {'neg': 0.0, 'neu': 0.0, 'pos': 0.0, 'compound': 0.0},\n",
       " 27: {'neg': 0.0, 'neu': 0.256, 'pos': 0.744, 'compound': 0.4404},\n",
       " 28: {'neg': 0.075, 'neu': 0.67, 'pos': 0.254, 'compound': 0.9622},\n",
       " 29: {'neg': 0.0, 'neu': 0.218, 'pos': 0.782, 'compound': 0.7996},\n",
       " 30: {'neg': 0.0, 'neu': 0.357, 'pos': 0.643, 'compound': 0.2023},\n",
       " 31: {'neg': 0.0, 'neu': 0.0, 'pos': 1.0, 'compound': 0.3182},\n",
       " 32: {'neg': 0.0, 'neu': 1.0, 'pos': 0.0, 'compound': 0.0},\n",
       " 33: {'neg': 0.0, 'neu': 0.821, 'pos': 0.179, 'compound': 0.5413},\n",
       " 34: {'neg': 0.0, 'neu': 0.0, 'pos': 1.0, 'compound': 0.2023},\n",
       " 35: {'neg': 0.017, 'neu': 0.853, 'pos': 0.13, 'compound': 0.7876},\n",
       " 36: {'neg': 0.092, 'neu': 0.794, 'pos': 0.114, 'compound': 0.2746},\n",
       " 37: {'neg': 0.0, 'neu': 0.0, 'pos': 0.0, 'compound': 0.0},\n",
       " 38: {'neg': 0.0, 'neu': 0.565, 'pos': 0.435, 'compound': 0.9451},\n",
       " 39: {'neg': 0.063, 'neu': 0.842, 'pos': 0.095, 'compound': 0.2946},\n",
       " 40: {'neg': 0.025, 'neu': 0.771, 'pos': 0.205, 'compound': 0.9856},\n",
       " 41: {'neg': 0.041, 'neu': 0.6, 'pos': 0.359, 'compound': 0.974},\n",
       " 42: {'neg': 0.056, 'neu': 0.797, 'pos': 0.147, 'compound': 0.9642},\n",
       " 43: {'neg': 0.0, 'neu': 1.0, 'pos': 0.0, 'compound': 0.0},\n",
       " 44: {'neg': 0.0, 'neu': 0.641, 'pos': 0.359, 'compound': 0.4215},\n",
       " 45: {'neg': 0.075, 'neu': 0.774, 'pos': 0.15, 'compound': 0.9934},\n",
       " 46: {'neg': 0.049, 'neu': 0.739, 'pos': 0.212, 'compound': 0.8107},\n",
       " 47: {'neg': 0.0, 'neu': 0.811, 'pos': 0.189, 'compound': 0.1027},\n",
       " 48: {'neg': 0.043, 'neu': 0.801, 'pos': 0.156, 'compound': 0.9589},\n",
       " 49: {'neg': 0.0, 'neu': 0.192, 'pos': 0.808, 'compound': 0.6369},\n",
       " 50: {'neg': 0.0, 'neu': 0.263, 'pos': 0.737, 'compound': 0.4215},\n",
       " 51: {'neg': 0.049, 'neu': 0.485, 'pos': 0.466, 'compound': 0.9753},\n",
       " 52: {'neg': 0.0, 'neu': 0.943, 'pos': 0.057, 'compound': 0.1779},\n",
       " 53: {'neg': 0.017, 'neu': 0.79, 'pos': 0.194, 'compound': 0.9974},\n",
       " 54: {'neg': 0.293, 'neu': 0.707, 'pos': 0.0, 'compound': -0.4404},\n",
       " 55: {'neg': 0.0, 'neu': 0.0, 'pos': 1.0, 'compound': 0.4404},\n",
       " 56: {'neg': 0.072, 'neu': 0.719, 'pos': 0.209, 'compound': 0.6187},\n",
       " 57: {'neg': 0.0, 'neu': 0.213, 'pos': 0.787, 'compound': 0.5719},\n",
       " 58: {'neg': 0.039, 'neu': 0.849, 'pos': 0.112, 'compound': 0.9322},\n",
       " 59: {'neg': 0.0, 'neu': 0.58, 'pos': 0.42, 'compound': 0.4404},\n",
       " 60: {'neg': 0.0, 'neu': 0.0, 'pos': 1.0, 'compound': 0.4215},\n",
       " 61: {'neg': 0.231, 'neu': 0.628, 'pos': 0.141, 'compound': -0.7721},\n",
       " 62: {'neg': 0.0, 'neu': 0.455, 'pos': 0.545, 'compound': 0.34},\n",
       " 63: {'neg': 0.524, 'neu': 0.476, 'pos': 0.0, 'compound': -0.296},\n",
       " 64: {'neg': 0.0, 'neu': 0.764, 'pos': 0.236, 'compound': 0.6443},\n",
       " 65: {'neg': 0.0, 'neu': 0.0, 'pos': 1.0, 'compound': 0.6369},\n",
       " 66: {'neg': 0.0, 'neu': 0.885, 'pos': 0.115, 'compound': 0.4404},\n",
       " 67: {'neg': 0.0, 'neu': 0.344, 'pos': 0.656, 'compound': 0.9237},\n",
       " 68: {'neg': 0.0, 'neu': 1.0, 'pos': 0.0, 'compound': 0.0},\n",
       " 69: {'neg': 0.0, 'neu': 1.0, 'pos': 0.0, 'compound': 0.0},\n",
       " 70: {'neg': 0.0, 'neu': 0.761, 'pos': 0.239, 'compound': 0.9097},\n",
       " 71: {'neg': 0.0, 'neu': 1.0, 'pos': 0.0, 'compound': 0.0},\n",
       " 72: {'neg': 0.0, 'neu': 0.0, 'pos': 0.0, 'compound': 0.0},\n",
       " 73: {'neg': 0.0, 'neu': 0.0, 'pos': 0.0, 'compound': 0.0},\n",
       " 74: {'neg': 0.0, 'neu': 0.0, 'pos': 1.0, 'compound': 0.5719},\n",
       " 75: {'neg': 0.0, 'neu': 0.393, 'pos': 0.607, 'compound': 0.4754},\n",
       " 76: {'neg': 0.0, 'neu': 0.0, 'pos': 0.0, 'compound': 0.0},\n",
       " 77: {'neg': 0.0, 'neu': 0.579, 'pos': 0.421, 'compound': 0.8402},\n",
       " 78: {'neg': 0.013, 'neu': 0.73, 'pos': 0.256, 'compound': 0.999},\n",
       " 79: {'neg': 0.0, 'neu': 0.769, 'pos': 0.231, 'compound': 0.8402},\n",
       " 80: {'neg': 0.062, 'neu': 0.704, 'pos': 0.234, 'compound': 0.9946},\n",
       " 81: {'neg': 0.03, 'neu': 0.741, 'pos': 0.229, 'compound': 0.9864},\n",
       " 82: {'neg': 0.0, 'neu': 0.694, 'pos': 0.306, 'compound': 0.8316},\n",
       " 83: {'neg': 0.0, 'neu': 0.189, 'pos': 0.811, 'compound': 0.8225},\n",
       " 84: {'neg': 0.0, 'neu': 1.0, 'pos': 0.0, 'compound': 0.0},\n",
       " 85: {'neg': 0.0, 'neu': 0.0, 'pos': 1.0, 'compound': 0.6369},\n",
       " 86: {'neg': 0.0, 'neu': 0.488, 'pos': 0.512, 'compound': 0.2732},\n",
       " 87: {'neg': 0.0, 'neu': 1.0, 'pos': 0.0, 'compound': 0.0},\n",
       " 88: {'neg': 0.0, 'neu': 0.0, 'pos': 1.0, 'compound': 0.6369},\n",
       " 89: {'neg': 0.0, 'neu': 0.709, 'pos': 0.291, 'compound': 0.7506},\n",
       " 90: {'neg': 0.0, 'neu': 0.667, 'pos': 0.333, 'compound': 0.3612},\n",
       " 91: {'neg': 0.0, 'neu': 0.196, 'pos': 0.804, 'compound': 0.6249},\n",
       " 92: {'neg': 0.618, 'neu': 0.123, 'pos': 0.259, 'compound': -0.4449},\n",
       " 93: {'neg': 0.0, 'neu': 0.247, 'pos': 0.753, 'compound': 0.7269},\n",
       " 94: {'neg': 0.0, 'neu': 0.461, 'pos': 0.539, 'compound': 0.8469},\n",
       " 95: {'neg': 0.0, 'neu': 0.196, 'pos': 0.804, 'compound': 0.6249},\n",
       " 96: {'neg': 0.0, 'neu': 0.196, 'pos': 0.804, 'compound': 0.6249},\n",
       " 97: {'neg': 0.0, 'neu': 0.495, 'pos': 0.505, 'compound': 0.8481},\n",
       " 98: {'neg': 0.0, 'neu': 0.559, 'pos': 0.441, 'compound': 0.836},\n",
       " 99: {'neg': 0.0, 'neu': 0.444, 'pos': 0.556, 'compound': 0.3612},\n",
       " 100: {'neg': 0.192, 'neu': 0.45, 'pos': 0.358, 'compound': 0.6211},\n",
       " 101: {'neg': 0.177, 'neu': 0.484, 'pos': 0.339, 'compound': 0.4588},\n",
       " 102: {'neg': 0.0, 'neu': 0.0, 'pos': 1.0, 'compound': 0.4404},\n",
       " 103: {'neg': 0.0, 'neu': 0.662, 'pos': 0.338, 'compound': 0.5574},\n",
       " 104: {'neg': 0.0, 'neu': 1.0, 'pos': 0.0, 'compound': 0.0},\n",
       " 105: {'neg': 0.0, 'neu': 0.256, 'pos': 0.744, 'compound': 0.4404},\n",
       " 106: {'neg': 0.0, 'neu': 0.479, 'pos': 0.521, 'compound': 0.8685},\n",
       " 107: {'neg': 0.0, 'neu': 0.408, 'pos': 0.592, 'compound': 0.4404},\n",
       " 108: {'neg': 0.0, 'neu': 0.707, 'pos': 0.293, 'compound': 0.4404},\n",
       " 109: {'neg': 0.0, 'neu': 0.685, 'pos': 0.315, 'compound': 0.484},\n",
       " 110: {'neg': 0.0, 'neu': 0.366, 'pos': 0.634, 'compound': 0.6369},\n",
       " 111: {'neg': 0.05, 'neu': 0.827, 'pos': 0.123, 'compound': 0.9943},\n",
       " 112: {'neg': 0.0, 'neu': 0.598, 'pos': 0.402, 'compound': 0.902},\n",
       " 113: {'neg': 0.0, 'neu': 0.516, 'pos': 0.484, 'compound': 0.8176},\n",
       " 114: {'neg': 0.0, 'neu': 0.775, 'pos': 0.225, 'compound': 0.4404},\n",
       " 115: {'neg': 0.175, 'neu': 0.397, 'pos': 0.429, 'compound': 0.4939},\n",
       " 116: {'neg': 0.0, 'neu': 0.263, 'pos': 0.737, 'compound': 0.4215},\n",
       " 117: {'neg': 0.0, 'neu': 0.256, 'pos': 0.744, 'compound': 0.4404},\n",
       " 118: {'neg': 0.0, 'neu': 1.0, 'pos': 0.0, 'compound': 0.0},\n",
       " 119: {'neg': 0.0, 'neu': 0.328, 'pos': 0.672, 'compound': 0.6249},\n",
       " 120: {'neg': 0.029, 'neu': 0.868, 'pos': 0.103, 'compound': 0.9913},\n",
       " 121: {'neg': 0.013, 'neu': 0.716, 'pos': 0.271, 'compound': 0.9937},\n",
       " 122: {'neg': 0.037, 'neu': 0.62, 'pos': 0.343, 'compound': 0.9949},\n",
       " 123: {'neg': 0.029, 'neu': 0.868, 'pos': 0.103, 'compound': 0.9913},\n",
       " 124: {'neg': 0.011, 'neu': 0.73, 'pos': 0.259, 'compound': 0.9984},\n",
       " 125: {'neg': 0.0, 'neu': 0.256, 'pos': 0.744, 'compound': 0.4404},\n",
       " 126: {'neg': 0.042, 'neu': 0.684, 'pos': 0.274, 'compound': 0.8885},\n",
       " 127: {'neg': 0.0, 'neu': 0.682, 'pos': 0.318, 'compound': 0.4215},\n",
       " 128: {'neg': 0.0, 'neu': 0.339, 'pos': 0.661, 'compound': 0.5994},\n",
       " 129: {'neg': 0.0, 'neu': 0.588, 'pos': 0.412, 'compound': 0.2732},\n",
       " 130: {'neg': 0.186, 'neu': 0.705, 'pos': 0.109, 'compound': -0.5267},\n",
       " 131: {'neg': 0.0, 'neu': 1.0, 'pos': 0.0, 'compound': 0.0},\n",
       " 132: {'neg': 0.405, 'neu': 0.595, 'pos': 0.0, 'compound': -0.5265},\n",
       " 133: {'neg': 0.0, 'neu': 0.818, 'pos': 0.182, 'compound': 0.9979},\n",
       " 134: {'neg': 0.0, 'neu': 0.737, 'pos': 0.263, 'compound': 0.7774},\n",
       " 135: {'neg': 0.0, 'neu': 0.675, 'pos': 0.325, 'compound': 0.891},\n",
       " 136: {'neg': 0.0, 'neu': 1.0, 'pos': 0.0, 'compound': 0.0},\n",
       " 137: {'neg': 0.0, 'neu': 0.627, 'pos': 0.373, 'compound': 0.8591},\n",
       " 138: {'neg': 0.0, 'neu': 0.56, 'pos': 0.44, 'compound': 0.8402},\n",
       " 139: {'neg': 0.0, 'neu': 0.525, 'pos': 0.475, 'compound': 0.8945},\n",
       " 140: {'neg': 0.0, 'neu': 0.494, 'pos': 0.506, 'compound': 0.6249},\n",
       " 141: {'neg': 0.0, 'neu': 0.0, 'pos': 0.0, 'compound': 0.0},\n",
       " 142: {'neg': 0.0, 'neu': 0.498, 'pos': 0.502, 'compound': 0.9022},\n",
       " 143: {'neg': 0.0, 'neu': 0.631, 'pos': 0.369, 'compound': 0.868},\n",
       " 144: {'neg': 0.0, 'neu': 0.543, 'pos': 0.457, 'compound': 0.6369},\n",
       " 145: {'neg': 0.0, 'neu': 0.0, 'pos': 0.0, 'compound': 0.0},\n",
       " 146: {'neg': 0.0, 'neu': 0.847, 'pos': 0.153, 'compound': 0.2023},\n",
       " 147: {'neg': 0.0, 'neu': 1.0, 'pos': 0.0, 'compound': 0.0},\n",
       " 148: {'neg': 0.0, 'neu': 0.465, 'pos': 0.535, 'compound': 0.7845},\n",
       " 149: {'neg': 0.0, 'neu': 0.345, 'pos': 0.655, 'compound': 0.5859},\n",
       " 150: {'neg': 0.0, 'neu': 0.813, 'pos': 0.187, 'compound': 0.5574},\n",
       " 151: {'neg': 0.064, 'neu': 0.546, 'pos': 0.391, 'compound': 0.9243},\n",
       " 152: {'neg': 0.0, 'neu': 0.918, 'pos': 0.082, 'compound': 0.4005},\n",
       " 153: {'neg': 0.0, 'neu': 0.811, 'pos': 0.189, 'compound': 0.6643},\n",
       " 154: {'neg': 0.0, 'neu': 0.0, 'pos': 1.0, 'compound': 0.6249},\n",
       " 155: {'neg': 0.0, 'neu': 0.883, 'pos': 0.117, 'compound': 0.3919},\n",
       " 156: {'neg': 0.0, 'neu': 0.778, 'pos': 0.222, 'compound': 0.5719},\n",
       " 157: {'neg': 0.0, 'neu': 0.456, 'pos': 0.544, 'compound': 0.7146},\n",
       " 158: {'neg': 0.0, 'neu': 0.0, 'pos': 1.0, 'compound': 0.5574},\n",
       " 159: {'neg': 0.0, 'neu': 0.213, 'pos': 0.787, 'compound': 0.5719},\n",
       " 160: {'neg': 0.0, 'neu': 0.348, 'pos': 0.652, 'compound': 0.8176},\n",
       " 161: {'neg': 0.0, 'neu': 0.0, 'pos': 1.0, 'compound': 0.5994},\n",
       " 162: {'neg': 0.0, 'neu': 0.0, 'pos': 0.0, 'compound': 0.0},\n",
       " 163: {'neg': 0.0, 'neu': 0.0, 'pos': 1.0, 'compound': 0.5994},\n",
       " 164: {'neg': 0.101, 'neu': 0.753, 'pos': 0.146, 'compound': 0.2919},\n",
       " 165: {'neg': 0.0, 'neu': 0.196, 'pos': 0.804, 'compound': 0.6249},\n",
       " 166: {'neg': 0.0, 'neu': 1.0, 'pos': 0.0, 'compound': 0.0},\n",
       " 167: {'neg': 0.0, 'neu': 0.196, 'pos': 0.804, 'compound': 0.6249},\n",
       " 168: {'neg': 0.0, 'neu': 1.0, 'pos': 0.0, 'compound': 0.0},\n",
       " 169: {'neg': 0.0, 'neu': 0.883, 'pos': 0.117, 'compound': 0.6107},\n",
       " 170: {'neg': 0.0, 'neu': 0.22, 'pos': 0.78, 'compound': 0.7964},\n",
       " 171: {'neg': 0.035, 'neu': 0.735, 'pos': 0.23, 'compound': 0.8687},\n",
       " 172: {'neg': 0.0, 'neu': 0.324, 'pos': 0.676, 'compound': 0.7408},\n",
       " 173: {'neg': 0.045, 'neu': 0.858, 'pos': 0.097, 'compound': 0.4215},\n",
       " 174: {'neg': 0.0, 'neu': 0.788, 'pos': 0.212, 'compound': 0.7348},\n",
       " 175: {'neg': 0.115, 'neu': 0.679, 'pos': 0.206, 'compound': 0.5423},\n",
       " 176: {'neg': 0.0, 'neu': 0.238, 'pos': 0.762, 'compound': 0.4939},\n",
       " 177: {'neg': 0.0, 'neu': 0.547, 'pos': 0.453, 'compound': 0.9118},\n",
       " 178: {'neg': 0.0, 'neu': 0.797, 'pos': 0.203, 'compound': 0.6523},\n",
       " 179: {'neg': 0.0, 'neu': 1.0, 'pos': 0.0, 'compound': 0.0},\n",
       " 180: {'neg': 0.0, 'neu': 0.204, 'pos': 0.796, 'compound': 0.5994},\n",
       " 181: {'neg': 0.0, 'neu': 0.583, 'pos': 0.417, 'compound': 0.9569},\n",
       " 182: {'neg': 0.0, 'neu': 0.752, 'pos': 0.248, 'compound': 0.9166},\n",
       " 183: {'neg': 0.0, 'neu': 0.755, 'pos': 0.245, 'compound': 0.7579},\n",
       " 184: {'neg': 0.0, 'neu': 0.776, 'pos': 0.224, 'compound': 0.3804},\n",
       " 185: {'neg': 0.099, 'neu': 0.814, 'pos': 0.087, 'compound': 0.3071},\n",
       " 186: {'neg': 0.0, 'neu': 1.0, 'pos': 0.0, 'compound': 0.0},\n",
       " 187: {'neg': 0.0, 'neu': 0.426, 'pos': 0.574, 'compound': 0.8442},\n",
       " 188: {'neg': 0.0, 'neu': 1.0, 'pos': 0.0, 'compound': 0.0},\n",
       " 189: {'neg': 0.0, 'neu': 0.533, 'pos': 0.467, 'compound': 0.886},\n",
       " 190: {'neg': 0.211, 'neu': 0.476, 'pos': 0.313, 'compound': 0.128},\n",
       " 191: {'neg': 0.0, 'neu': 0.814, 'pos': 0.186, 'compound': 0.9791},\n",
       " 192: {'neg': 0.0, 'neu': 0.825, 'pos': 0.175, 'compound': 0.9156},\n",
       " 193: {'neg': 0.129, 'neu': 0.807, 'pos': 0.063, 'compound': -0.9151},\n",
       " 194: {'neg': 0.0, 'neu': 0.408, 'pos': 0.592, 'compound': 0.4404},\n",
       " 195: {'neg': 0.0, 'neu': 1.0, 'pos': 0.0, 'compound': 0.0},\n",
       " 196: {'neg': 0.0, 'neu': 0.328, 'pos': 0.672, 'compound': 0.6249},\n",
       " 197: {'neg': 0.0, 'neu': 0.58, 'pos': 0.42, 'compound': 0.4404},\n",
       " 198: {'neg': 0.0, 'neu': 0.728, 'pos': 0.272, 'compound': 0.8227},\n",
       " 199: {'neg': 0.025, 'neu': 0.852, 'pos': 0.123, 'compound': 0.8511},\n",
       " 200: {'neg': 0.0, 'neu': 0.0, 'pos': 1.0, 'compound': 0.4404},\n",
       " 201: {'neg': 0.063, 'neu': 0.575, 'pos': 0.362, 'compound': 0.9081},\n",
       " 202: {'neg': 0.0, 'neu': 0.0, 'pos': 1.0, 'compound': 0.6249},\n",
       " 203: {'neg': 0.0, 'neu': 0.517, 'pos': 0.483, 'compound': 0.4215},\n",
       " 204: {'neg': 0.0, 'neu': 0.513, 'pos': 0.487, 'compound': 0.5859},\n",
       " 205: {'neg': 0.046, 'neu': 0.745, 'pos': 0.21, 'compound': 0.8658},\n",
       " 206: {'neg': 0.0, 'neu': 0.408, 'pos': 0.592, 'compound': 0.4404},\n",
       " 207: {'neg': 0.0, 'neu': 0.839, 'pos': 0.161, 'compound': 0.6369},\n",
       " 208: {'neg': 0.115, 'neu': 0.885, 'pos': 0.0, 'compound': -0.765},\n",
       " 209: {'neg': 0.222, 'neu': 0.778, 'pos': 0.0, 'compound': -0.6908},\n",
       " 210: {'neg': 0.0, 'neu': 0.595, 'pos': 0.405, 'compound': 0.872},\n",
       " 211: {'neg': 0.135, 'neu': 0.865, 'pos': 0.0, 'compound': -0.5334},\n",
       " 212: {'neg': 0.0, 'neu': 0.625, 'pos': 0.375, 'compound': 0.34},\n",
       " 213: {'neg': 0.105, 'neu': 0.833, 'pos': 0.061, 'compound': -0.25},\n",
       " 214: {'neg': 0.0, 'neu': 0.489, 'pos': 0.511, 'compound': 0.8873},\n",
       " 215: {'neg': 0.0, 'neu': 0.874, 'pos': 0.126, 'compound': 0.0772},\n",
       " 216: {'neg': 0.13, 'neu': 0.448, 'pos': 0.422, 'compound': 0.7099},\n",
       " 217: {'neg': 0.0, 'neu': 0.0, 'pos': 1.0, 'compound': 0.4215},\n",
       " 218: {'neg': 0.0, 'neu': 0.0, 'pos': 1.0, 'compound': 0.6249},\n",
       " 219: {'neg': 0.059, 'neu': 0.941, 'pos': 0.0, 'compound': -0.3865},\n",
       " 220: {'neg': 0.0, 'neu': 0.828, 'pos': 0.172, 'compound': 0.4404},\n",
       " 221: {'neg': 0.0, 'neu': 0.0, 'pos': 1.0, 'compound': 0.4404},\n",
       " 222: {'neg': 0.0, 'neu': 0.665, 'pos': 0.335, 'compound': 0.6738},\n",
       " 223: {'neg': 0.0, 'neu': 0.556, 'pos': 0.444, 'compound': 0.6114},\n",
       " 224: {'neg': 0.062, 'neu': 0.715, 'pos': 0.223, 'compound': 0.9147},\n",
       " 225: {'neg': 0.0, 'neu': 0.53, 'pos': 0.47, 'compound': 0.9059},\n",
       " 226: {'neg': 0.321, 'neu': 0.679, 'pos': 0.0, 'compound': -0.8966},\n",
       " 227: {'neg': 0.054, 'neu': 0.781, 'pos': 0.165, 'compound': 0.9824},\n",
       " 228: {'neg': 0.049, 'neu': 0.839, 'pos': 0.112, 'compound': 0.9457},\n",
       " 229: {'neg': 0.0, 'neu': 0.874, 'pos': 0.126, 'compound': 0.0772},\n",
       " 230: {'neg': 0.0, 'neu': 0.0, 'pos': 1.0, 'compound': 0.5719},\n",
       " 231: {'neg': 0.251, 'neu': 0.749, 'pos': 0.0, 'compound': -0.6908},\n",
       " 232: {'neg': 0.0, 'neu': 0.324, 'pos': 0.676, 'compound': 0.9628},\n",
       " 233: {'neg': 0.0, 'neu': 0.263, 'pos': 0.737, 'compound': 0.4215},\n",
       " 234: {'neg': 0.0, 'neu': 0.0, 'pos': 0.0, 'compound': 0.0},\n",
       " 235: {'neg': 0.0, 'neu': 0.552, 'pos': 0.448, 'compound': 0.8442},\n",
       " 236: {'neg': 0.0, 'neu': 1.0, 'pos': 0.0, 'compound': 0.0},\n",
       " 237: {'neg': 0.0, 'neu': 0.0, 'pos': 1.0, 'compound': 0.4404},\n",
       " 238: {'neg': 0.404, 'neu': 0.596, 'pos': 0.0, 'compound': -0.2584},\n",
       " 239: {'neg': 0.036, 'neu': 0.877, 'pos': 0.088, 'compound': 0.4927},\n",
       " 240: {'neg': 0.0, 'neu': 0.523, 'pos': 0.477, 'compound': 0.8455},\n",
       " 241: {'neg': 0.039, 'neu': 0.792, 'pos': 0.169, 'compound': 0.9615},\n",
       " 242: {'neg': 0.0, 'neu': 0.739, 'pos': 0.261, 'compound': 0.6038},\n",
       " 243: {'neg': 0.0, 'neu': 0.641, 'pos': 0.359, 'compound': 0.9323},\n",
       " 244: {'neg': 0.0, 'neu': 0.72, 'pos': 0.28, 'compound': 0.765},\n",
       " 245: {'neg': 0.0, 'neu': 0.667, 'pos': 0.333, 'compound': 0.9612},\n",
       " 246: {'neg': 0.0, 'neu': 0.798, 'pos': 0.202, 'compound': 0.6808},\n",
       " 247: {'neg': 0.0, 'neu': 0.0, 'pos': 1.0, 'compound': 0.4404},\n",
       " 248: {'neg': 0.0, 'neu': 1.0, 'pos': 0.0, 'compound': 0.0},\n",
       " 249: {'neg': 0.031, 'neu': 0.78, 'pos': 0.189, 'compound': 0.8186},\n",
       " 250: {'neg': 0.0, 'neu': 0.561, 'pos': 0.439, 'compound': 0.5719},\n",
       " 251: {'neg': 0.0, 'neu': 0.481, 'pos': 0.519, 'compound': 0.6597},\n",
       " 252: {'neg': 0.0, 'neu': 0.244, 'pos': 0.756, 'compound': 0.4754},\n",
       " 253: {'neg': 0.0, 'neu': 0.379, 'pos': 0.621, 'compound': 0.5059},\n",
       " 254: {'neg': 0.0, 'neu': 0.0, 'pos': 1.0, 'compound': 0.4215},\n",
       " 255: {'neg': 0.0, 'neu': 0.7, 'pos': 0.3, 'compound': 0.9678},\n",
       " 256: {'neg': 0.102, 'neu': 0.799, 'pos': 0.098, 'compound': 0.5719},\n",
       " 257: {'neg': 0.06, 'neu': 0.784, 'pos': 0.155, 'compound': 0.9859},\n",
       " 258: {'neg': 0.0, 'neu': 0.963, 'pos': 0.037, 'compound': 0.2235},\n",
       " 259: {'neg': 0.118, 'neu': 0.585, 'pos': 0.297, 'compound': 0.5688},\n",
       " 260: {'neg': 0.096, 'neu': 0.778, 'pos': 0.126, 'compound': 0.0},\n",
       " 261: {'neg': 0.367, 'neu': 0.633, 'pos': 0.0, 'compound': -0.4404},\n",
       " 262: {'neg': 0.083, 'neu': 0.73, 'pos': 0.187, 'compound': 0.312},\n",
       " 263: {'neg': 0.347, 'neu': 0.546, 'pos': 0.107, 'compound': -0.6597},\n",
       " 264: {'neg': 0.0, 'neu': 0.898, 'pos': 0.102, 'compound': 0.8271},\n",
       " 265: {'neg': 0.326, 'neu': 0.674, 'pos': 0.0, 'compound': -0.4404},\n",
       " 266: {'neg': 0.199, 'neu': 0.801, 'pos': 0.0, 'compound': -0.6936},\n",
       " 267: {'neg': 0.038, 'neu': 0.854, 'pos': 0.108, 'compound': 0.5828},\n",
       " 268: {'neg': 0.0, 'neu': 1.0, 'pos': 0.0, 'compound': 0.0},\n",
       " 269: {'neg': 0.0, 'neu': 0.862, 'pos': 0.138, 'compound': 0.4927},\n",
       " 270: {'neg': 0.083, 'neu': 0.793, 'pos': 0.124, 'compound': 0.6619},\n",
       " 271: {'neg': 0.03, 'neu': 0.895, 'pos': 0.076, 'compound': 0.6164},\n",
       " 272: {'neg': 0.064, 'neu': 0.747, 'pos': 0.189, 'compound': 0.836},\n",
       " 273: {'neg': 0.0, 'neu': 0.608, 'pos': 0.392, 'compound': 0.9528},\n",
       " 274: {'neg': 0.158, 'neu': 0.676, 'pos': 0.166, 'compound': -0.1346},\n",
       " 275: {'neg': 0.051, 'neu': 0.548, 'pos': 0.401, 'compound': 0.9246},\n",
       " 276: {'neg': 0.047, 'neu': 0.679, 'pos': 0.274, 'compound': 0.9793},\n",
       " 277: {'neg': 0.054, 'neu': 0.614, 'pos': 0.332, 'compound': 0.8424},\n",
       " 278: {'neg': 0.0, 'neu': 0.645, 'pos': 0.355, 'compound': 0.872},\n",
       " 279: {'neg': 0.0, 'neu': 0.457, 'pos': 0.543, 'compound': 0.9703},\n",
       " 280: {'neg': 0.0, 'neu': 0.644, 'pos': 0.356, 'compound': 0.9239},\n",
       " 281: {'neg': 0.0, 'neu': 0.0, 'pos': 0.0, 'compound': 0.0},\n",
       " 282: {'neg': 0.038, 'neu': 0.71, 'pos': 0.252, 'compound': 0.8762},\n",
       " 283: {'neg': 0.0, 'neu': 0.631, 'pos': 0.369, 'compound': 0.6249},\n",
       " 284: {'neg': 0.0, 'neu': 0.213, 'pos': 0.787, 'compound': 0.9414},\n",
       " 285: {'neg': 0.078, 'neu': 0.788, 'pos': 0.134, 'compound': 0.6573},\n",
       " 286: {'neg': 0.243, 'neu': 0.757, 'pos': 0.0, 'compound': -0.5927},\n",
       " 287: {'neg': 0.0, 'neu': 0.842, 'pos': 0.158, 'compound': 0.765},\n",
       " 288: {'neg': 0.013, 'neu': 0.857, 'pos': 0.131, 'compound': 0.9492},\n",
       " 289: {'neg': 0.0, 'neu': 0.337, 'pos': 0.663, 'compound': 0.93},\n",
       " 290: {'neg': 0.0, 'neu': 0.826, 'pos': 0.174, 'compound': 0.5859},\n",
       " 291: {'neg': 0.0, 'neu': 0.408, 'pos': 0.592, 'compound': 0.4404},\n",
       " 292: {'neg': 0.0, 'neu': 0.0, 'pos': 0.0, 'compound': 0.0},\n",
       " 293: {'neg': 0.0, 'neu': 1.0, 'pos': 0.0, 'compound': 0.0},\n",
       " 294: {'neg': 0.0, 'neu': 1.0, 'pos': 0.0, 'compound': 0.0},\n",
       " 295: {'neg': 0.0, 'neu': 0.256, 'pos': 0.744, 'compound': 0.4404},\n",
       " 296: {'neg': 0.0, 'neu': 0.0, 'pos': 1.0, 'compound': 0.4404},\n",
       " 297: {'neg': 0.0, 'neu': 0.923, 'pos': 0.077, 'compound': 0.2724},\n",
       " 298: {'neg': 0.0, 'neu': 0.656, 'pos': 0.344, 'compound': 0.6369},\n",
       " 299: {'neg': 0.0, 'neu': 0.0, 'pos': 1.0, 'compound': 0.4404},\n",
       " 300: {'neg': 0.0, 'neu': 0.543, 'pos': 0.457, 'compound': 0.6369},\n",
       " 301: {'neg': 0.0, 'neu': 0.769, 'pos': 0.231, 'compound': 0.2732},\n",
       " 302: {'neg': 0.0, 'neu': 0.309, 'pos': 0.691, 'compound': 0.7717},\n",
       " 303: {'neg': 0.0, 'neu': 0.715, 'pos': 0.285, 'compound': 0.4927},\n",
       " 304: {'neg': 0.0, 'neu': 0.538, 'pos': 0.462, 'compound': 0.6318},\n",
       " 305: {'neg': 0.0, 'neu': 0.545, 'pos': 0.455, 'compound': 0.8176},\n",
       " 306: {'neg': 0.0, 'neu': 0.0, 'pos': 0.0, 'compound': 0.0},\n",
       " 307: {'neg': 0.057, 'neu': 0.871, 'pos': 0.072, 'compound': 0.1531},\n",
       " 308: {'neg': 0.0, 'neu': 0.672, 'pos': 0.328, 'compound': 0.9349},\n",
       " 309: {'neg': 0.052, 'neu': 0.87, 'pos': 0.078, 'compound': 0.643},\n",
       " 310: {'neg': 0.024, 'neu': 0.82, 'pos': 0.156, 'compound': 0.7846},\n",
       " 311: {'neg': 0.0, 'neu': 0.511, 'pos': 0.489, 'compound': 0.7717},\n",
       " 312: {'neg': 0.0, 'neu': 0.682, 'pos': 0.318, 'compound': 0.9118},\n",
       " 313: {'neg': 0.0, 'neu': 1.0, 'pos': 0.0, 'compound': 0.0},\n",
       " 314: {'neg': 0.0, 'neu': 0.0, 'pos': 1.0, 'compound': 0.4215},\n",
       " 315: {'neg': 0.0, 'neu': 0.513, 'pos': 0.487, 'compound': 0.5859},\n",
       " 316: {'neg': 0.014, 'neu': 0.773, 'pos': 0.214, 'compound': 0.9946},\n",
       " 317: {'neg': 0.154, 'neu': 0.769, 'pos': 0.077, 'compound': -0.3182},\n",
       " 318: {'neg': 0.0, 'neu': 0.417, 'pos': 0.583, 'compound': 0.6369},\n",
       " 319: {'neg': 0.0, 'neu': 0.798, 'pos': 0.202, 'compound': 0.9081},\n",
       " 320: {'neg': 0.0, 'neu': 0.241, 'pos': 0.759, 'compound': 0.9115},\n",
       " 321: {'neg': 0.0, 'neu': 0.682, 'pos': 0.318, 'compound': 0.4215},\n",
       " 322: {'neg': 0.0, 'neu': 0.752, 'pos': 0.248, 'compound': 0.765},\n",
       " 323: {'neg': 0.0, 'neu': 0.459, 'pos': 0.541, 'compound': 0.7089},\n",
       " 324: {'neg': 0.183, 'neu': 0.689, 'pos': 0.127, 'compound': -0.0146},\n",
       " 325: {'neg': 0.0, 'neu': 0.444, 'pos': 0.556, 'compound': 0.3612},\n",
       " 326: {'neg': 0.174, 'neu': 0.826, 'pos': 0.0, 'compound': -0.2732},\n",
       " 327: {'neg': 0.123, 'neu': 0.639, 'pos': 0.237, 'compound': 0.128},\n",
       " 328: {'neg': 0.08, 'neu': 0.727, 'pos': 0.193, 'compound': 0.4767},\n",
       " 329: {'neg': 0.0, 'neu': 0.678, 'pos': 0.322, 'compound': 0.2263},\n",
       " 330: {'neg': 0.0, 'neu': 1.0, 'pos': 0.0, 'compound': 0.0},\n",
       " 331: {'neg': 0.0, 'neu': 0.818, 'pos': 0.182, 'compound': 0.4404},\n",
       " 332: {'neg': 0.278, 'neu': 0.722, 'pos': 0.0, 'compound': -0.4019},\n",
       " 333: {'neg': 0.0, 'neu': 0.785, 'pos': 0.215, 'compound': 0.6249},\n",
       " 334: {'neg': 0.0, 'neu': 0.256, 'pos': 0.744, 'compound': 0.4404},\n",
       " 335: {'neg': 0.03, 'neu': 0.74, 'pos': 0.23, 'compound': 0.9479},\n",
       " 336: {'neg': 0.0, 'neu': 1.0, 'pos': 0.0, 'compound': 0.0},\n",
       " 337: {'neg': 0.0, 'neu': 1.0, 'pos': 0.0, 'compound': 0.0},\n",
       " 338: {'neg': 0.0, 'neu': 0.792, 'pos': 0.208, 'compound': 0.6369},\n",
       " 339: {'neg': 0.106, 'neu': 0.894, 'pos': 0.0, 'compound': -0.3612},\n",
       " 340: {'neg': 0.0, 'neu': 0.488, 'pos': 0.512, 'compound': 0.4939},\n",
       " 341: {'neg': 0.0, 'neu': 0.0, 'pos': 0.0, 'compound': 0.0},\n",
       " 342: {'neg': 0.0, 'neu': 0.192, 'pos': 0.808, 'compound': 0.6369},\n",
       " 343: {'neg': 0.0, 'neu': 0.0, 'pos': 0.0, 'compound': 0.0},\n",
       " 344: {'neg': 0.0, 'neu': 0.797, 'pos': 0.203, 'compound': 0.7506},\n",
       " 345: {'neg': 0.0, 'neu': 0.794, 'pos': 0.206, 'compound': 0.8519},\n",
       " 346: {'neg': 0.0, 'neu': 0.345, 'pos': 0.655, 'compound': 0.5859},\n",
       " 347: {'neg': 0.0, 'neu': 0.0, 'pos': 1.0, 'compound': 0.4215},\n",
       " 348: {'neg': 0.0, 'neu': 0.744, 'pos': 0.256, 'compound': 0.9984},\n",
       " 349: {'neg': 0.0, 'neu': 0.0, 'pos': 0.0, 'compound': 0.0},\n",
       " 350: {'neg': 0.0, 'neu': 0.748, 'pos': 0.252, 'compound': 0.8442},\n",
       " 351: {'neg': 0.0, 'neu': 1.0, 'pos': 0.0, 'compound': 0.0},\n",
       " 352: {'neg': 0.579, 'neu': 0.421, 'pos': 0.0, 'compound': -0.6705},\n",
       " 353: {'neg': 0.0, 'neu': 0.473, 'pos': 0.527, 'compound': 0.9382},\n",
       " 354: {'neg': 0.0, 'neu': 0.813, 'pos': 0.187, 'compound': 0.5994},\n",
       " 355: {'neg': 0.0, 'neu': 0.714, 'pos': 0.286, 'compound': 0.7351},\n",
       " 356: {'neg': 0.0, 'neu': 0.694, 'pos': 0.306, 'compound': 0.296},\n",
       " 357: {'neg': 0.0, 'neu': 0.0, 'pos': 0.0, 'compound': 0.0},\n",
       " 358: {'neg': 0.0, 'neu': 0.0, 'pos': 1.0, 'compound': 0.5859},\n",
       " 359: {'neg': 0.0, 'neu': 0.213, 'pos': 0.787, 'compound': 0.5719},\n",
       " 360: {'neg': 0.0, 'neu': 0.515, 'pos': 0.485, 'compound': 0.765},\n",
       " 361: {'neg': 0.071, 'neu': 0.787, 'pos': 0.142, 'compound': 0.4245},\n",
       " 362: {'neg': 0.0, 'neu': 0.0, 'pos': 1.0, 'compound': 0.4215},\n",
       " 363: {'neg': 0.094, 'neu': 0.675, 'pos': 0.231, 'compound': 0.8555},\n",
       " 364: {'neg': 0.0, 'neu': 0.385, 'pos': 0.615, 'compound': 0.4927},\n",
       " 365: {'neg': 0.0, 'neu': 1.0, 'pos': 0.0, 'compound': 0.0},\n",
       " 366: {'neg': 0.0, 'neu': 1.0, 'pos': 0.0, 'compound': 0.0},\n",
       " 367: {'neg': 0.026, 'neu': 0.882, 'pos': 0.092, 'compound': 0.6697},\n",
       " 368: {'neg': 0.0, 'neu': 0.0, 'pos': 1.0, 'compound': 0.4404},\n",
       " 369: {'neg': 0.0, 'neu': 0.608, 'pos': 0.392, 'compound': 0.8294},\n",
       " 370: {'neg': 0.0, 'neu': 0.0, 'pos': 1.0, 'compound': 0.9136},\n",
       " 371: {'neg': 0.0, 'neu': 0.734, 'pos': 0.266, 'compound': 0.4404},\n",
       " 372: {'neg': 0.0, 'neu': 0.408, 'pos': 0.592, 'compound': 0.4404},\n",
       " 373: {'neg': 0.046, 'neu': 0.889, 'pos': 0.065, 'compound': 0.4588},\n",
       " 374: {'neg': 0.0, 'neu': 0.417, 'pos': 0.583, 'compound': 0.4215},\n",
       " 375: {'neg': 0.0, 'neu': 0.508, 'pos': 0.492, 'compound': 0.4404},\n",
       " 376: {'neg': 0.0, 'neu': 1.0, 'pos': 0.0, 'compound': 0.0},\n",
       " 377: {'neg': 0.0, 'neu': 0.828, 'pos': 0.172, 'compound': 0.9776},\n",
       " 378: {'neg': 0.047, 'neu': 0.888, 'pos': 0.065, 'compound': 0.1779},\n",
       " 379: {'neg': 0.0, 'neu': 0.869, 'pos': 0.131, 'compound': 0.9606},\n",
       " 380: {'neg': 0.0, 'neu': 0.774, 'pos': 0.226, 'compound': 0.3252},\n",
       " 381: {'neg': 0.0, 'neu': 0.196, 'pos': 0.804, 'compound': 0.6249},\n",
       " 382: {'neg': 0.0, 'neu': 1.0, 'pos': 0.0, 'compound': 0.0},\n",
       " 383: {'neg': 0.0, 'neu': 0.714, 'pos': 0.286, 'compound': 0.4215},\n",
       " 384: {'neg': 0.0, 'neu': 0.569, 'pos': 0.431, 'compound': 0.6486},\n",
       " 385: {'neg': 0.0, 'neu': 0.388, 'pos': 0.612, 'compound': 0.743},\n",
       " 386: {'neg': 0.108, 'neu': 0.365, 'pos': 0.527, 'compound': 0.93},\n",
       " 387: {'neg': 0.0, 'neu': 1.0, 'pos': 0.0, 'compound': 0.0},\n",
       " 388: {'neg': 0.0, 'neu': 1.0, 'pos': 0.0, 'compound': 0.0},\n",
       " 389: {'neg': 0.0, 'neu': 0.0, 'pos': 0.0, 'compound': 0.0},\n",
       " 390: {'neg': 0.0, 'neu': 0.291, 'pos': 0.709, 'compound': 0.743},\n",
       " 391: {'neg': 0.0, 'neu': 0.653, 'pos': 0.347, 'compound': 0.9524},\n",
       " 392: {'neg': 0.778, 'neu': 0.222, 'pos': 0.0, 'compound': -0.5423},\n",
       " 393: {'neg': 0.0, 'neu': 0.674, 'pos': 0.326, 'compound': 0.9628},\n",
       " 394: {'neg': 0.375, 'neu': 0.625, 'pos': 0.0, 'compound': -0.4588},\n",
       " 395: {'neg': 0.0, 'neu': 0.719, 'pos': 0.281, 'compound': 0.9136},\n",
       " 396: {'neg': 0.0, 'neu': 0.694, 'pos': 0.306, 'compound': 0.9325},\n",
       " 397: {'neg': 0.0, 'neu': 0.611, 'pos': 0.389, 'compound': 0.9441},\n",
       " 398: {'neg': 0.129, 'neu': 0.525, 'pos': 0.345, 'compound': 0.775},\n",
       " 399: {'neg': 0.383, 'neu': 0.617, 'pos': 0.0, 'compound': -0.4767},\n",
       " 400: {'neg': 0.054, 'neu': 0.882, 'pos': 0.064, 'compound': 0.5538},\n",
       " 401: {'neg': 0.0, 'neu': 0.87, 'pos': 0.13, 'compound': 0.2382},\n",
       " 402: {'neg': 0.0, 'neu': 1.0, 'pos': 0.0, 'compound': 0.0},\n",
       " 403: {'neg': 0.0, 'neu': 0.256, 'pos': 0.744, 'compound': 0.4404},\n",
       " 404: {'neg': 0.0, 'neu': 1.0, 'pos': 0.0, 'compound': 0.0},\n",
       " 405: {'neg': 0.0, 'neu': 0.0, 'pos': 0.0, 'compound': 0.0},\n",
       " 406: {'neg': 0.0, 'neu': 0.351, 'pos': 0.649, 'compound': 0.5719},\n",
       " 407: {'neg': 0.058, 'neu': 0.675, 'pos': 0.267, 'compound': 0.9498},\n",
       " 408: {'neg': 0.212, 'neu': 0.704, 'pos': 0.084, 'compound': -0.6915},\n",
       " 409: {'neg': 0.0, 'neu': 0.0, 'pos': 0.0, 'compound': 0.0},\n",
       " 410: {'neg': 0.0, 'neu': 0.824, 'pos': 0.176, 'compound': 0.9182},\n",
       " 411: {'neg': 0.0, 'neu': 0.0, 'pos': 1.0, 'compound': 0.4404},\n",
       " 412: {'neg': 0.0, 'neu': 0.393, 'pos': 0.607, 'compound': 0.4754},\n",
       " 413: {'neg': 0.073, 'neu': 0.758, 'pos': 0.169, 'compound': 0.5267},\n",
       " 414: {'neg': 0.03, 'neu': 0.655, 'pos': 0.315, 'compound': 0.9638},\n",
       " 415: {'neg': 0.073, 'neu': 0.76, 'pos': 0.167, 'compound': 0.9617},\n",
       " 416: {'neg': 0.0, 'neu': 0.408, 'pos': 0.592, 'compound': 0.4404},\n",
       " 417: {'neg': 0.0, 'neu': 0.331, 'pos': 0.669, 'compound': 0.8777},\n",
       " 418: {'neg': 0.0, 'neu': 0.606, 'pos': 0.394, 'compound': 0.7579},\n",
       " 419: {'neg': 0.0, 'neu': 0.0, 'pos': 0.0, 'compound': 0.0},\n",
       " 420: {'neg': 0.03, 'neu': 0.823, 'pos': 0.148, 'compound': 0.8949},\n",
       " 421: {'neg': 0.106, 'neu': 0.794, 'pos': 0.1, 'compound': -0.5994},\n",
       " 422: {'neg': 0.0, 'neu': 0.739, 'pos': 0.261, 'compound': 0.5574},\n",
       " 423: {'neg': 0.0, 'neu': 0.508, 'pos': 0.492, 'compound': 0.4404},\n",
       " 424: {'neg': 0.097, 'neu': 0.83, 'pos': 0.073, 'compound': -0.6368},\n",
       " 425: {'neg': 0.0, 'neu': 0.256, 'pos': 0.744, 'compound': 0.4404},\n",
       " 426: {'neg': 0.0, 'neu': 0.897, 'pos': 0.103, 'compound': 0.3716},\n",
       " 427: {'neg': 0.0, 'neu': 0.881, 'pos': 0.119, 'compound': 0.2235},\n",
       " 428: {'neg': 0.355, 'neu': 0.645, 'pos': 0.0, 'compound': -0.296},\n",
       " 429: {'neg': 0.131, 'neu': 0.747, 'pos': 0.121, 'compound': -0.1759},\n",
       " 430: {'neg': 0.0, 'neu': 1.0, 'pos': 0.0, 'compound': 0.0},\n",
       " 431: {'neg': 0.164, 'neu': 0.792, 'pos': 0.044, 'compound': -0.7437},\n",
       " 432: {'neg': 0.0, 'neu': 0.417, 'pos': 0.583, 'compound': 0.6369},\n",
       " 433: {'neg': 0.0, 'neu': 0.625, 'pos': 0.375, 'compound': 0.2023},\n",
       " 434: {'neg': 0.461, 'neu': 0.327, 'pos': 0.212, 'compound': -0.6187},\n",
       " 435: {'neg': 0.0, 'neu': 0.339, 'pos': 0.661, 'compound': 0.5994},\n",
       " 436: {'neg': 0.0, 'neu': 0.767, 'pos': 0.233, 'compound': 0.5499},\n",
       " 437: {'neg': 0.137, 'neu': 0.722, 'pos': 0.141, 'compound': 0.0129},\n",
       " 438: {'neg': 0.008, 'neu': 0.732, 'pos': 0.26, 'compound': 0.9969},\n",
       " 439: {'neg': 0.445, 'neu': 0.555, 'pos': 0.0, 'compound': -0.3412},\n",
       " 440: {'neg': 0.065, 'neu': 0.741, 'pos': 0.195, 'compound': 0.9627},\n",
       " 441: {'neg': 0.0, 'neu': 1.0, 'pos': 0.0, 'compound': 0.0},\n",
       " 442: {'neg': 0.058, 'neu': 0.761, 'pos': 0.182, 'compound': 0.6187},\n",
       " 443: {'neg': 0.0, 'neu': 0.196, 'pos': 0.804, 'compound': 0.6249},\n",
       " 444: {'neg': 0.0, 'neu': 0.238, 'pos': 0.762, 'compound': 0.9153},\n",
       " 445: {'neg': 0.0, 'neu': 0.256, 'pos': 0.744, 'compound': 0.4404},\n",
       " 446: {'neg': 0.041, 'neu': 0.959, 'pos': 0.0, 'compound': -0.1027},\n",
       " 447: {'neg': 0.078, 'neu': 0.872, 'pos': 0.05, 'compound': -0.3818},\n",
       " 448: {'neg': 0.193, 'neu': 0.807, 'pos': 0.0, 'compound': -0.4767},\n",
       " 449: {'neg': 0.027, 'neu': 0.681, 'pos': 0.293, 'compound': 0.9434},\n",
       " 450: {'neg': 0.0, 'neu': 0.256, 'pos': 0.744, 'compound': 0.4404},\n",
       " 451: {'neg': 0.135, 'neu': 0.773, 'pos': 0.092, 'compound': -0.4005},\n",
       " 452: {'neg': 0.0, 'neu': 0.715, 'pos': 0.285, 'compound': 0.4927},\n",
       " 453: {'neg': 0.0, 'neu': 0.0, 'pos': 1.0, 'compound': 0.6249},\n",
       " 454: {'neg': 0.0, 'neu': 0.323, 'pos': 0.677, 'compound': 0.6369},\n",
       " 455: {'neg': 0.0, 'neu': 0.256, 'pos': 0.744, 'compound': 0.4404},\n",
       " 456: {'neg': 0.0, 'neu': 0.0, 'pos': 1.0, 'compound': 0.4215},\n",
       " 457: {'neg': 0.0, 'neu': 0.541, 'pos': 0.459, 'compound': 0.7778},\n",
       " 458: {'neg': 0.01, 'neu': 0.788, 'pos': 0.202, 'compound': 0.9989},\n",
       " 459: {'neg': 0.0, 'neu': 1.0, 'pos': 0.0, 'compound': 0.0},\n",
       " 460: {'neg': 0.0, 'neu': 1.0, 'pos': 0.0, 'compound': 0.0},\n",
       " 461: {'neg': 0.0, 'neu': 0.417, 'pos': 0.583, 'compound': 0.7906},\n",
       " 462: {'neg': 0.0, 'neu': 0.827, 'pos': 0.173, 'compound': 0.9423},\n",
       " 463: {'neg': 0.0, 'neu': 0.256, 'pos': 0.744, 'compound': 0.4404},\n",
       " 464: {'neg': 0.0, 'neu': 0.598, 'pos': 0.402, 'compound': 0.4005},\n",
       " 465: {'neg': 0.0, 'neu': 1.0, 'pos': 0.0, 'compound': 0.0},\n",
       " 466: {'neg': 0.0, 'neu': 0.192, 'pos': 0.808, 'compound': 0.6369},\n",
       " 467: {'neg': 0.0, 'neu': 0.508, 'pos': 0.492, 'compound': 0.4404},\n",
       " 468: {'neg': 0.0, 'neu': 0.204, 'pos': 0.796, 'compound': 0.8316},\n",
       " 469: {'neg': 0.129, 'neu': 0.807, 'pos': 0.064, 'compound': -0.5423},\n",
       " 470: {'neg': 0.0, 'neu': 1.0, 'pos': 0.0, 'compound': 0.0},\n",
       " 471: {'neg': 0.0, 'neu': 0.789, 'pos': 0.211, 'compound': 0.5187},\n",
       " 472: {'neg': 0.0, 'neu': 0.812, 'pos': 0.188, 'compound': 0.9259},\n",
       " 473: {'neg': 0.208, 'neu': 0.662, 'pos': 0.129, 'compound': -0.577},\n",
       " 474: {'neg': 0.0, 'neu': 0.746, 'pos': 0.254, 'compound': 0.5267},\n",
       " 475: {'neg': 0.0, 'neu': 1.0, 'pos': 0.0, 'compound': 0.0},\n",
       " 476: {'neg': 0.0, 'neu': 0.244, 'pos': 0.756, 'compound': 0.4753},\n",
       " 477: {'neg': 0.325, 'neu': 0.675, 'pos': 0.0, 'compound': -0.3412},\n",
       " 478: {'neg': 0.0, 'neu': 0.417, 'pos': 0.583, 'compound': 0.4215},\n",
       " 479: {'neg': 0.0, 'neu': 0.208, 'pos': 0.792, 'compound': 0.5859},\n",
       " 480: {'neg': 0.171, 'neu': 0.829, 'pos': 0.0, 'compound': -0.4767},\n",
       " 481: {'neg': 0.0, 'neu': 0.0, 'pos': 0.0, 'compound': 0.0},\n",
       " 482: {'neg': 0.0, 'neu': 0.714, 'pos': 0.286, 'compound': 0.4215},\n",
       " 483: {'neg': 0.815, 'neu': 0.185, 'pos': 0.0, 'compound': -0.659},\n",
       " 484: {'neg': 0.0, 'neu': 0.0, 'pos': 1.0, 'compound': 0.5994},\n",
       " 485: {'neg': 0.0, 'neu': 0.588, 'pos': 0.412, 'compound': 0.4215},\n",
       " 486: {'neg': 0.0, 'neu': 0.857, 'pos': 0.143, 'compound': 0.5927},\n",
       " 487: {'neg': 0.118, 'neu': 0.632, 'pos': 0.25, 'compound': 0.4497},\n",
       " 488: {'neg': 0.0, 'neu': 0.694, 'pos': 0.306, 'compound': 0.296},\n",
       " 489: {'neg': 0.095, 'neu': 0.773, 'pos': 0.132, 'compound': 0.2023},\n",
       " 490: {'neg': 0.0, 'neu': 0.828, 'pos': 0.172, 'compound': 0.3612},\n",
       " 491: {'neg': 0.0, 'neu': 0.673, 'pos': 0.327, 'compound': 0.7783},\n",
       " 492: {'neg': 0.0, 'neu': 0.714, 'pos': 0.286, 'compound': 0.4215},\n",
       " 493: {'neg': 0.0, 'neu': 0.667, 'pos': 0.333, 'compound': 0.3612},\n",
       " 494: {'neg': 0.0, 'neu': 0.341, 'pos': 0.659, 'compound': 0.7003},\n",
       " 495: {'neg': 0.0, 'neu': 0.213, 'pos': 0.787, 'compound': 0.9414},\n",
       " 496: {'neg': 0.091, 'neu': 0.909, 'pos': 0.0, 'compound': -0.25},\n",
       " 497: {'neg': 0.0, 'neu': 0.508, 'pos': 0.492, 'compound': 0.4404},\n",
       " 498: {'neg': 0.0, 'neu': 0.556, 'pos': 0.444, 'compound': 0.908},\n",
       " 499: {'neg': 0.059, 'neu': 0.759, 'pos': 0.181, 'compound': 0.4404}}"
      ]
     },
     "execution_count": 130,
     "metadata": {},
     "output_type": "execute_result"
    }
   ],
   "source": [
    "res_2"
   ]
  },
  {
   "cell_type": "code",
   "execution_count": 131,
   "id": "99133a01-1f29-448d-9ddc-068b9e54cb81",
   "metadata": {},
   "outputs": [],
   "source": [
    "## As we have order."
   ]
  },
  {
   "cell_type": "code",
   "execution_count": 132,
   "id": "b7b270aa-235e-4425-b5f4-1c218810c3ef",
   "metadata": {},
   "outputs": [],
   "source": [
    "## Now lets make it a DataFrame for better understanding."
   ]
  },
  {
   "cell_type": "code",
   "execution_count": 133,
   "id": "e0942e3d-feca-47d3-82ca-42a32275b2c8",
   "metadata": {},
   "outputs": [],
   "source": [
    "df_2 = pd.DataFrame(res_2)"
   ]
  },
  {
   "cell_type": "code",
   "execution_count": 134,
   "id": "a4d18109-046c-4244-80e5-b7635c317838",
   "metadata": {},
   "outputs": [
    {
     "data": {
      "text/html": [
       "<div>\n",
       "<style scoped>\n",
       "    .dataframe tbody tr th:only-of-type {\n",
       "        vertical-align: middle;\n",
       "    }\n",
       "\n",
       "    .dataframe tbody tr th {\n",
       "        vertical-align: top;\n",
       "    }\n",
       "\n",
       "    .dataframe thead th {\n",
       "        text-align: right;\n",
       "    }\n",
       "</style>\n",
       "<table border=\"1\" class=\"dataframe\">\n",
       "  <thead>\n",
       "    <tr style=\"text-align: right;\">\n",
       "      <th></th>\n",
       "      <th>0</th>\n",
       "      <th>1</th>\n",
       "      <th>2</th>\n",
       "      <th>3</th>\n",
       "      <th>4</th>\n",
       "      <th>5</th>\n",
       "      <th>6</th>\n",
       "      <th>7</th>\n",
       "      <th>8</th>\n",
       "      <th>9</th>\n",
       "      <th>...</th>\n",
       "      <th>490</th>\n",
       "      <th>491</th>\n",
       "      <th>492</th>\n",
       "      <th>493</th>\n",
       "      <th>494</th>\n",
       "      <th>495</th>\n",
       "      <th>496</th>\n",
       "      <th>497</th>\n",
       "      <th>498</th>\n",
       "      <th>499</th>\n",
       "    </tr>\n",
       "  </thead>\n",
       "  <tbody>\n",
       "    <tr>\n",
       "      <th>neg</th>\n",
       "      <td>0.1210</td>\n",
       "      <td>0.0000</td>\n",
       "      <td>0.0610</td>\n",
       "      <td>0.0</td>\n",
       "      <td>0.0000</td>\n",
       "      <td>0.0</td>\n",
       "      <td>0.0640</td>\n",
       "      <td>0.0000</td>\n",
       "      <td>0.0000</td>\n",
       "      <td>0.0000</td>\n",
       "      <td>...</td>\n",
       "      <td>0.0000</td>\n",
       "      <td>0.0000</td>\n",
       "      <td>0.0000</td>\n",
       "      <td>0.0000</td>\n",
       "      <td>0.0000</td>\n",
       "      <td>0.0000</td>\n",
       "      <td>0.091</td>\n",
       "      <td>0.0000</td>\n",
       "      <td>0.000</td>\n",
       "      <td>0.0590</td>\n",
       "    </tr>\n",
       "    <tr>\n",
       "      <th>neu</th>\n",
       "      <td>0.8160</td>\n",
       "      <td>0.5960</td>\n",
       "      <td>0.9390</td>\n",
       "      <td>1.0</td>\n",
       "      <td>0.5650</td>\n",
       "      <td>1.0</td>\n",
       "      <td>0.7560</td>\n",
       "      <td>0.4080</td>\n",
       "      <td>0.2630</td>\n",
       "      <td>0.2130</td>\n",
       "      <td>...</td>\n",
       "      <td>0.8280</td>\n",
       "      <td>0.6730</td>\n",
       "      <td>0.7140</td>\n",
       "      <td>0.6670</td>\n",
       "      <td>0.3410</td>\n",
       "      <td>0.2130</td>\n",
       "      <td>0.909</td>\n",
       "      <td>0.5080</td>\n",
       "      <td>0.556</td>\n",
       "      <td>0.7590</td>\n",
       "    </tr>\n",
       "    <tr>\n",
       "      <th>pos</th>\n",
       "      <td>0.0630</td>\n",
       "      <td>0.4040</td>\n",
       "      <td>0.0000</td>\n",
       "      <td>0.0</td>\n",
       "      <td>0.4350</td>\n",
       "      <td>0.0</td>\n",
       "      <td>0.1800</td>\n",
       "      <td>0.5920</td>\n",
       "      <td>0.7370</td>\n",
       "      <td>0.7870</td>\n",
       "      <td>...</td>\n",
       "      <td>0.1720</td>\n",
       "      <td>0.3270</td>\n",
       "      <td>0.2860</td>\n",
       "      <td>0.3330</td>\n",
       "      <td>0.6590</td>\n",
       "      <td>0.7870</td>\n",
       "      <td>0.000</td>\n",
       "      <td>0.4920</td>\n",
       "      <td>0.444</td>\n",
       "      <td>0.1810</td>\n",
       "    </tr>\n",
       "    <tr>\n",
       "      <th>compound</th>\n",
       "      <td>-0.6954</td>\n",
       "      <td>0.9621</td>\n",
       "      <td>-0.6632</td>\n",
       "      <td>0.0</td>\n",
       "      <td>0.6597</td>\n",
       "      <td>0.0</td>\n",
       "      <td>0.6124</td>\n",
       "      <td>0.4404</td>\n",
       "      <td>0.4215</td>\n",
       "      <td>0.5719</td>\n",
       "      <td>...</td>\n",
       "      <td>0.3612</td>\n",
       "      <td>0.7783</td>\n",
       "      <td>0.4215</td>\n",
       "      <td>0.3612</td>\n",
       "      <td>0.7003</td>\n",
       "      <td>0.9414</td>\n",
       "      <td>-0.250</td>\n",
       "      <td>0.4404</td>\n",
       "      <td>0.908</td>\n",
       "      <td>0.4404</td>\n",
       "    </tr>\n",
       "  </tbody>\n",
       "</table>\n",
       "<p>4 rows × 500 columns</p>\n",
       "</div>"
      ],
      "text/plain": [
       "             0       1       2    3       4    5       6       7       8    \\\n",
       "neg       0.1210  0.0000  0.0610  0.0  0.0000  0.0  0.0640  0.0000  0.0000   \n",
       "neu       0.8160  0.5960  0.9390  1.0  0.5650  1.0  0.7560  0.4080  0.2630   \n",
       "pos       0.0630  0.4040  0.0000  0.0  0.4350  0.0  0.1800  0.5920  0.7370   \n",
       "compound -0.6954  0.9621 -0.6632  0.0  0.6597  0.0  0.6124  0.4404  0.4215   \n",
       "\n",
       "             9    ...     490     491     492     493     494     495    496  \\\n",
       "neg       0.0000  ...  0.0000  0.0000  0.0000  0.0000  0.0000  0.0000  0.091   \n",
       "neu       0.2130  ...  0.8280  0.6730  0.7140  0.6670  0.3410  0.2130  0.909   \n",
       "pos       0.7870  ...  0.1720  0.3270  0.2860  0.3330  0.6590  0.7870  0.000   \n",
       "compound  0.5719  ...  0.3612  0.7783  0.4215  0.3612  0.7003  0.9414 -0.250   \n",
       "\n",
       "             497    498     499  \n",
       "neg       0.0000  0.000  0.0590  \n",
       "neu       0.5080  0.556  0.7590  \n",
       "pos       0.4920  0.444  0.1810  \n",
       "compound  0.4404  0.908  0.4404  \n",
       "\n",
       "[4 rows x 500 columns]"
      ]
     },
     "execution_count": 134,
     "metadata": {},
     "output_type": "execute_result"
    }
   ],
   "source": [
    "df_2"
   ]
  },
  {
   "cell_type": "code",
   "execution_count": 135,
   "id": "da787ac7-ab70-4916-abff-39c613a8a110",
   "metadata": {},
   "outputs": [
    {
     "data": {
      "text/plain": [
       "<bound method DataFrame.info of              0       1       2    3       4    5       6       7       8    \\\n",
       "neg       0.1210  0.0000  0.0610  0.0  0.0000  0.0  0.0640  0.0000  0.0000   \n",
       "neu       0.8160  0.5960  0.9390  1.0  0.5650  1.0  0.7560  0.4080  0.2630   \n",
       "pos       0.0630  0.4040  0.0000  0.0  0.4350  0.0  0.1800  0.5920  0.7370   \n",
       "compound -0.6954  0.9621 -0.6632  0.0  0.6597  0.0  0.6124  0.4404  0.4215   \n",
       "\n",
       "             9    ...     490     491     492     493     494     495    496  \\\n",
       "neg       0.0000  ...  0.0000  0.0000  0.0000  0.0000  0.0000  0.0000  0.091   \n",
       "neu       0.2130  ...  0.8280  0.6730  0.7140  0.6670  0.3410  0.2130  0.909   \n",
       "pos       0.7870  ...  0.1720  0.3270  0.2860  0.3330  0.6590  0.7870  0.000   \n",
       "compound  0.5719  ...  0.3612  0.7783  0.4215  0.3612  0.7003  0.9414 -0.250   \n",
       "\n",
       "             497    498     499  \n",
       "neg       0.0000  0.000  0.0590  \n",
       "neu       0.5080  0.556  0.7590  \n",
       "pos       0.4920  0.444  0.1810  \n",
       "compound  0.4404  0.908  0.4404  \n",
       "\n",
       "[4 rows x 500 columns]>"
      ]
     },
     "execution_count": 135,
     "metadata": {},
     "output_type": "execute_result"
    }
   ],
   "source": [
    "df_2.info"
   ]
  },
  {
   "cell_type": "code",
   "execution_count": 136,
   "id": "277349ad-d457-4b48-9949-ab32a8922052",
   "metadata": {},
   "outputs": [],
   "source": [
    "## its in form of irregular so lets flips it"
   ]
  },
  {
   "cell_type": "code",
   "execution_count": 137,
   "id": "48c045ab-4691-42a0-8db4-5dd0c15bcca8",
   "metadata": {},
   "outputs": [],
   "source": [
    "df_2 = df_2.T  ## Transpose"
   ]
  },
  {
   "cell_type": "code",
   "execution_count": 138,
   "id": "d7d1f2ae-9f9c-4983-b74e-fcff959484a5",
   "metadata": {},
   "outputs": [
    {
     "data": {
      "text/html": [
       "<div>\n",
       "<style scoped>\n",
       "    .dataframe tbody tr th:only-of-type {\n",
       "        vertical-align: middle;\n",
       "    }\n",
       "\n",
       "    .dataframe tbody tr th {\n",
       "        vertical-align: top;\n",
       "    }\n",
       "\n",
       "    .dataframe thead th {\n",
       "        text-align: right;\n",
       "    }\n",
       "</style>\n",
       "<table border=\"1\" class=\"dataframe\">\n",
       "  <thead>\n",
       "    <tr style=\"text-align: right;\">\n",
       "      <th></th>\n",
       "      <th>neg</th>\n",
       "      <th>neu</th>\n",
       "      <th>pos</th>\n",
       "      <th>compound</th>\n",
       "    </tr>\n",
       "  </thead>\n",
       "  <tbody>\n",
       "    <tr>\n",
       "      <th>0</th>\n",
       "      <td>0.121</td>\n",
       "      <td>0.816</td>\n",
       "      <td>0.063</td>\n",
       "      <td>-0.6954</td>\n",
       "    </tr>\n",
       "    <tr>\n",
       "      <th>1</th>\n",
       "      <td>0.000</td>\n",
       "      <td>0.596</td>\n",
       "      <td>0.404</td>\n",
       "      <td>0.9621</td>\n",
       "    </tr>\n",
       "    <tr>\n",
       "      <th>2</th>\n",
       "      <td>0.061</td>\n",
       "      <td>0.939</td>\n",
       "      <td>0.000</td>\n",
       "      <td>-0.6632</td>\n",
       "    </tr>\n",
       "    <tr>\n",
       "      <th>3</th>\n",
       "      <td>0.000</td>\n",
       "      <td>1.000</td>\n",
       "      <td>0.000</td>\n",
       "      <td>0.0000</td>\n",
       "    </tr>\n",
       "    <tr>\n",
       "      <th>4</th>\n",
       "      <td>0.000</td>\n",
       "      <td>0.565</td>\n",
       "      <td>0.435</td>\n",
       "      <td>0.6597</td>\n",
       "    </tr>\n",
       "    <tr>\n",
       "      <th>...</th>\n",
       "      <td>...</td>\n",
       "      <td>...</td>\n",
       "      <td>...</td>\n",
       "      <td>...</td>\n",
       "    </tr>\n",
       "    <tr>\n",
       "      <th>495</th>\n",
       "      <td>0.000</td>\n",
       "      <td>0.213</td>\n",
       "      <td>0.787</td>\n",
       "      <td>0.9414</td>\n",
       "    </tr>\n",
       "    <tr>\n",
       "      <th>496</th>\n",
       "      <td>0.091</td>\n",
       "      <td>0.909</td>\n",
       "      <td>0.000</td>\n",
       "      <td>-0.2500</td>\n",
       "    </tr>\n",
       "    <tr>\n",
       "      <th>497</th>\n",
       "      <td>0.000</td>\n",
       "      <td>0.508</td>\n",
       "      <td>0.492</td>\n",
       "      <td>0.4404</td>\n",
       "    </tr>\n",
       "    <tr>\n",
       "      <th>498</th>\n",
       "      <td>0.000</td>\n",
       "      <td>0.556</td>\n",
       "      <td>0.444</td>\n",
       "      <td>0.9080</td>\n",
       "    </tr>\n",
       "    <tr>\n",
       "      <th>499</th>\n",
       "      <td>0.059</td>\n",
       "      <td>0.759</td>\n",
       "      <td>0.181</td>\n",
       "      <td>0.4404</td>\n",
       "    </tr>\n",
       "  </tbody>\n",
       "</table>\n",
       "<p>500 rows × 4 columns</p>\n",
       "</div>"
      ],
      "text/plain": [
       "       neg    neu    pos  compound\n",
       "0    0.121  0.816  0.063   -0.6954\n",
       "1    0.000  0.596  0.404    0.9621\n",
       "2    0.061  0.939  0.000   -0.6632\n",
       "3    0.000  1.000  0.000    0.0000\n",
       "4    0.000  0.565  0.435    0.6597\n",
       "..     ...    ...    ...       ...\n",
       "495  0.000  0.213  0.787    0.9414\n",
       "496  0.091  0.909  0.000   -0.2500\n",
       "497  0.000  0.508  0.492    0.4404\n",
       "498  0.000  0.556  0.444    0.9080\n",
       "499  0.059  0.759  0.181    0.4404\n",
       "\n",
       "[500 rows x 4 columns]"
      ]
     },
     "execution_count": 138,
     "metadata": {},
     "output_type": "execute_result"
    }
   ],
   "source": [
    "df_2"
   ]
  },
  {
   "cell_type": "code",
   "execution_count": 139,
   "id": "b7854d32-35c2-432e-b0b2-3fa903e74c36",
   "metadata": {},
   "outputs": [],
   "source": [
    "## Now lets try to merge it to our original dataset (500,11)"
   ]
  },
  {
   "cell_type": "code",
   "execution_count": 140,
   "id": "bc738a8f-e918-4016-a5a2-93730f504ba3",
   "metadata": {},
   "outputs": [
    {
     "data": {
      "text/html": [
       "<div>\n",
       "<style scoped>\n",
       "    .dataframe tbody tr th:only-of-type {\n",
       "        vertical-align: middle;\n",
       "    }\n",
       "\n",
       "    .dataframe tbody tr th {\n",
       "        vertical-align: top;\n",
       "    }\n",
       "\n",
       "    .dataframe thead th {\n",
       "        text-align: right;\n",
       "    }\n",
       "</style>\n",
       "<table border=\"1\" class=\"dataframe\">\n",
       "  <thead>\n",
       "    <tr style=\"text-align: right;\">\n",
       "      <th></th>\n",
       "      <th>productAsin</th>\n",
       "      <th>country</th>\n",
       "      <th>date</th>\n",
       "      <th>isVerified</th>\n",
       "      <th>ratingScore</th>\n",
       "      <th>reviewTitle</th>\n",
       "      <th>reviewDescription</th>\n",
       "      <th>reviewUrl</th>\n",
       "      <th>reviewedIn</th>\n",
       "      <th>variant</th>\n",
       "      <th>variantAsin</th>\n",
       "      <th>id</th>\n",
       "    </tr>\n",
       "  </thead>\n",
       "  <tbody>\n",
       "    <tr>\n",
       "      <th>0</th>\n",
       "      <td>B09G9BL5CP</td>\n",
       "      <td>India</td>\n",
       "      <td>11-08-2024</td>\n",
       "      <td>True</td>\n",
       "      <td>4</td>\n",
       "      <td>No charger</td>\n",
       "      <td>Every thing is good about iPhones, there's not...</td>\n",
       "      <td>https://www.amazon.in/gp/customer-reviews/R345...</td>\n",
       "      <td>Reviewed in India on 11 August 2024</td>\n",
       "      <td>Colour: MidnightSize: 256 GB</td>\n",
       "      <td>B09G9BQS98</td>\n",
       "      <td>0</td>\n",
       "    </tr>\n",
       "    <tr>\n",
       "      <th>1</th>\n",
       "      <td>B09G9BL5CP</td>\n",
       "      <td>India</td>\n",
       "      <td>16-08-2024</td>\n",
       "      <td>True</td>\n",
       "      <td>5</td>\n",
       "      <td>iPhone 13 256GB</td>\n",
       "      <td>It look so fabulous, I am android user switche...</td>\n",
       "      <td>https://www.amazon.in/gp/customer-reviews/R2HJ...</td>\n",
       "      <td>Reviewed in India on 16 August 2024</td>\n",
       "      <td>Colour: MidnightSize: 256 GB</td>\n",
       "      <td>B09G9BQS98</td>\n",
       "      <td>1</td>\n",
       "    </tr>\n",
       "    <tr>\n",
       "      <th>2</th>\n",
       "      <td>B09G9BL5CP</td>\n",
       "      <td>India</td>\n",
       "      <td>14-05-2024</td>\n",
       "      <td>True</td>\n",
       "      <td>4</td>\n",
       "      <td>Flip camera option nill</td>\n",
       "      <td>I tried to flip camera while recording but no ...</td>\n",
       "      <td>https://www.amazon.in/gp/customer-reviews/R3Y7...</td>\n",
       "      <td>Reviewed in India on 14 May 2024</td>\n",
       "      <td>Colour: MidnightSize: 256 GB</td>\n",
       "      <td>B09G9BQS98</td>\n",
       "      <td>2</td>\n",
       "    </tr>\n",
       "    <tr>\n",
       "      <th>3</th>\n",
       "      <td>B09G9BL5CP</td>\n",
       "      <td>India</td>\n",
       "      <td>24-06-2024</td>\n",
       "      <td>True</td>\n",
       "      <td>5</td>\n",
       "      <td>Product</td>\n",
       "      <td>100% genuine</td>\n",
       "      <td>https://www.amazon.in/gp/customer-reviews/R1P9...</td>\n",
       "      <td>Reviewed in India on 24 June 2024</td>\n",
       "      <td>Colour: MidnightSize: 256 GB</td>\n",
       "      <td>B09G9BQS98</td>\n",
       "      <td>3</td>\n",
       "    </tr>\n",
       "    <tr>\n",
       "      <th>4</th>\n",
       "      <td>B09G9BL5CP</td>\n",
       "      <td>India</td>\n",
       "      <td>18-05-2024</td>\n",
       "      <td>True</td>\n",
       "      <td>5</td>\n",
       "      <td>Good product</td>\n",
       "      <td>Happy to get the iPhone 13 in Amazon offer</td>\n",
       "      <td>https://www.amazon.in/gp/customer-reviews/R1XI...</td>\n",
       "      <td>Reviewed in India on 18 May 2024</td>\n",
       "      <td>Colour: MidnightSize: 256 GB</td>\n",
       "      <td>B09G9BQS98</td>\n",
       "      <td>4</td>\n",
       "    </tr>\n",
       "    <tr>\n",
       "      <th>...</th>\n",
       "      <td>...</td>\n",
       "      <td>...</td>\n",
       "      <td>...</td>\n",
       "      <td>...</td>\n",
       "      <td>...</td>\n",
       "      <td>...</td>\n",
       "      <td>...</td>\n",
       "      <td>...</td>\n",
       "      <td>...</td>\n",
       "      <td>...</td>\n",
       "      <td>...</td>\n",
       "      <td>...</td>\n",
       "    </tr>\n",
       "    <tr>\n",
       "      <th>495</th>\n",
       "      <td>B09G9BL5CP</td>\n",
       "      <td>India</td>\n",
       "      <td>17-11-2023</td>\n",
       "      <td>True</td>\n",
       "      <td>5</td>\n",
       "      <td>Awesome phone</td>\n",
       "      <td>So beautiful so elegant just looking like a wow</td>\n",
       "      <td>https://www.amazon.in/gp/customer-reviews/R10O...</td>\n",
       "      <td>Reviewed in India on 17 November 2023</td>\n",
       "      <td>Colour: GreenSize: 256 GB</td>\n",
       "      <td>B09V4MXBSN</td>\n",
       "      <td>495</td>\n",
       "    </tr>\n",
       "    <tr>\n",
       "      <th>496</th>\n",
       "      <td>B09G9BL5CP</td>\n",
       "      <td>India</td>\n",
       "      <td>07-03-2024</td>\n",
       "      <td>True</td>\n",
       "      <td>2</td>\n",
       "      <td>Stuck on 1 page</td>\n",
       "      <td>There is the option for update of software, af...</td>\n",
       "      <td>https://www.amazon.in/gp/customer-reviews/R28U...</td>\n",
       "      <td>Reviewed in India on 7 March 2024</td>\n",
       "      <td>Colour: GreenSize: 256 GB</td>\n",
       "      <td>B09V4MXBSN</td>\n",
       "      <td>496</td>\n",
       "    </tr>\n",
       "    <tr>\n",
       "      <th>497</th>\n",
       "      <td>B09G9BL5CP</td>\n",
       "      <td>India</td>\n",
       "      <td>07-11-2023</td>\n",
       "      <td>True</td>\n",
       "      <td>5</td>\n",
       "      <td>Working good</td>\n",
       "      <td>Battery life is good</td>\n",
       "      <td>https://www.amazon.in/gp/customer-reviews/R1SB...</td>\n",
       "      <td>Reviewed in India on 7 November 2023</td>\n",
       "      <td>Colour: GreenSize: 256 GB</td>\n",
       "      <td>B09V4MXBSN</td>\n",
       "      <td>497</td>\n",
       "    </tr>\n",
       "    <tr>\n",
       "      <th>498</th>\n",
       "      <td>B09G9BL5CP</td>\n",
       "      <td>India</td>\n",
       "      <td>15-10-2023</td>\n",
       "      <td>True</td>\n",
       "      <td>5</td>\n",
       "      <td>I GOT THIS AT 53000 256GB VARIENT AFTER EXCHAN...</td>\n",
       "      <td>I GOT THIS AT 53000 256GB VARIENT AFTER EXCHAN...</td>\n",
       "      <td>https://www.amazon.in/gp/customer-reviews/R967...</td>\n",
       "      <td>Reviewed in India on 15 October 2023</td>\n",
       "      <td>Colour: GreenSize: 256 GB</td>\n",
       "      <td>B09V4MXBSN</td>\n",
       "      <td>498</td>\n",
       "    </tr>\n",
       "    <tr>\n",
       "      <th>499</th>\n",
       "      <td>B09G9BL5CP</td>\n",
       "      <td>India</td>\n",
       "      <td>28-10-2023</td>\n",
       "      <td>True</td>\n",
       "      <td>5</td>\n",
       "      <td>Definitely a good product</td>\n",
       "      <td>More than the quality of the product it is imp...</td>\n",
       "      <td>https://www.amazon.in/gp/customer-reviews/RNK0...</td>\n",
       "      <td>Reviewed in India on 28 October 2023</td>\n",
       "      <td>Colour: GreenSize: 256 GB</td>\n",
       "      <td>B09V4MXBSN</td>\n",
       "      <td>499</td>\n",
       "    </tr>\n",
       "  </tbody>\n",
       "</table>\n",
       "<p>500 rows × 12 columns</p>\n",
       "</div>"
      ],
      "text/plain": [
       "    productAsin country        date  isVerified  ratingScore  \\\n",
       "0    B09G9BL5CP   India  11-08-2024        True            4   \n",
       "1    B09G9BL5CP   India  16-08-2024        True            5   \n",
       "2    B09G9BL5CP   India  14-05-2024        True            4   \n",
       "3    B09G9BL5CP   India  24-06-2024        True            5   \n",
       "4    B09G9BL5CP   India  18-05-2024        True            5   \n",
       "..          ...     ...         ...         ...          ...   \n",
       "495  B09G9BL5CP   India  17-11-2023        True            5   \n",
       "496  B09G9BL5CP   India  07-03-2024        True            2   \n",
       "497  B09G9BL5CP   India  07-11-2023        True            5   \n",
       "498  B09G9BL5CP   India  15-10-2023        True            5   \n",
       "499  B09G9BL5CP   India  28-10-2023        True            5   \n",
       "\n",
       "                                           reviewTitle  \\\n",
       "0                                           No charger   \n",
       "1                                      iPhone 13 256GB   \n",
       "2                              Flip camera option nill   \n",
       "3                                              Product   \n",
       "4                                         Good product   \n",
       "..                                                 ...   \n",
       "495                                      Awesome phone   \n",
       "496                                    Stuck on 1 page   \n",
       "497                                       Working good   \n",
       "498  I GOT THIS AT 53000 256GB VARIENT AFTER EXCHAN...   \n",
       "499                          Definitely a good product   \n",
       "\n",
       "                                     reviewDescription  \\\n",
       "0    Every thing is good about iPhones, there's not...   \n",
       "1    It look so fabulous, I am android user switche...   \n",
       "2    I tried to flip camera while recording but no ...   \n",
       "3                                         100% genuine   \n",
       "4           Happy to get the iPhone 13 in Amazon offer   \n",
       "..                                                 ...   \n",
       "495    So beautiful so elegant just looking like a wow   \n",
       "496  There is the option for update of software, af...   \n",
       "497                               Battery life is good   \n",
       "498  I GOT THIS AT 53000 256GB VARIENT AFTER EXCHAN...   \n",
       "499  More than the quality of the product it is imp...   \n",
       "\n",
       "                                             reviewUrl  \\\n",
       "0    https://www.amazon.in/gp/customer-reviews/R345...   \n",
       "1    https://www.amazon.in/gp/customer-reviews/R2HJ...   \n",
       "2    https://www.amazon.in/gp/customer-reviews/R3Y7...   \n",
       "3    https://www.amazon.in/gp/customer-reviews/R1P9...   \n",
       "4    https://www.amazon.in/gp/customer-reviews/R1XI...   \n",
       "..                                                 ...   \n",
       "495  https://www.amazon.in/gp/customer-reviews/R10O...   \n",
       "496  https://www.amazon.in/gp/customer-reviews/R28U...   \n",
       "497  https://www.amazon.in/gp/customer-reviews/R1SB...   \n",
       "498  https://www.amazon.in/gp/customer-reviews/R967...   \n",
       "499  https://www.amazon.in/gp/customer-reviews/RNK0...   \n",
       "\n",
       "                                reviewedIn                       variant  \\\n",
       "0      Reviewed in India on 11 August 2024  Colour: MidnightSize: 256 GB   \n",
       "1      Reviewed in India on 16 August 2024  Colour: MidnightSize: 256 GB   \n",
       "2         Reviewed in India on 14 May 2024  Colour: MidnightSize: 256 GB   \n",
       "3        Reviewed in India on 24 June 2024  Colour: MidnightSize: 256 GB   \n",
       "4         Reviewed in India on 18 May 2024  Colour: MidnightSize: 256 GB   \n",
       "..                                     ...                           ...   \n",
       "495  Reviewed in India on 17 November 2023     Colour: GreenSize: 256 GB   \n",
       "496      Reviewed in India on 7 March 2024     Colour: GreenSize: 256 GB   \n",
       "497   Reviewed in India on 7 November 2023     Colour: GreenSize: 256 GB   \n",
       "498   Reviewed in India on 15 October 2023     Colour: GreenSize: 256 GB   \n",
       "499   Reviewed in India on 28 October 2023     Colour: GreenSize: 256 GB   \n",
       "\n",
       "    variantAsin   id  \n",
       "0    B09G9BQS98    0  \n",
       "1    B09G9BQS98    1  \n",
       "2    B09G9BQS98    2  \n",
       "3    B09G9BQS98    3  \n",
       "4    B09G9BQS98    4  \n",
       "..          ...  ...  \n",
       "495  B09V4MXBSN  495  \n",
       "496  B09V4MXBSN  496  \n",
       "497  B09V4MXBSN  497  \n",
       "498  B09V4MXBSN  498  \n",
       "499  B09V4MXBSN  499  \n",
       "\n",
       "[500 rows x 12 columns]"
      ]
     },
     "execution_count": 140,
     "metadata": {},
     "output_type": "execute_result"
    }
   ],
   "source": [
    "df"
   ]
  },
  {
   "cell_type": "code",
   "execution_count": 141,
   "id": "a61495cf-06d4-4801-85a7-d7f020c0431c",
   "metadata": {},
   "outputs": [
    {
     "name": "stdout",
     "output_type": "stream",
     "text": [
      "(500, 16)\n",
      "    productAsin country        date  isVerified  ratingScore  \\\n",
      "0    B09G9BL5CP   India  11-08-2024        True            4   \n",
      "1    B09G9BL5CP   India  16-08-2024        True            5   \n",
      "2    B09G9BL5CP   India  14-05-2024        True            4   \n",
      "3    B09G9BL5CP   India  24-06-2024        True            5   \n",
      "4    B09G9BL5CP   India  18-05-2024        True            5   \n",
      "..          ...     ...         ...         ...          ...   \n",
      "495  B09G9BL5CP   India  17-11-2023        True            5   \n",
      "496  B09G9BL5CP   India  07-03-2024        True            2   \n",
      "497  B09G9BL5CP   India  07-11-2023        True            5   \n",
      "498  B09G9BL5CP   India  15-10-2023        True            5   \n",
      "499  B09G9BL5CP   India  28-10-2023        True            5   \n",
      "\n",
      "                                           reviewTitle  \\\n",
      "0                                           No charger   \n",
      "1                                      iPhone 13 256GB   \n",
      "2                              Flip camera option nill   \n",
      "3                                              Product   \n",
      "4                                         Good product   \n",
      "..                                                 ...   \n",
      "495                                      Awesome phone   \n",
      "496                                    Stuck on 1 page   \n",
      "497                                       Working good   \n",
      "498  I GOT THIS AT 53000 256GB VARIENT AFTER EXCHAN...   \n",
      "499                          Definitely a good product   \n",
      "\n",
      "                                     reviewDescription  \\\n",
      "0    Every thing is good about iPhones, there's not...   \n",
      "1    It look so fabulous, I am android user switche...   \n",
      "2    I tried to flip camera while recording but no ...   \n",
      "3                                         100% genuine   \n",
      "4           Happy to get the iPhone 13 in Amazon offer   \n",
      "..                                                 ...   \n",
      "495    So beautiful so elegant just looking like a wow   \n",
      "496  There is the option for update of software, af...   \n",
      "497                               Battery life is good   \n",
      "498  I GOT THIS AT 53000 256GB VARIENT AFTER EXCHAN...   \n",
      "499  More than the quality of the product it is imp...   \n",
      "\n",
      "                                             reviewUrl  \\\n",
      "0    https://www.amazon.in/gp/customer-reviews/R345...   \n",
      "1    https://www.amazon.in/gp/customer-reviews/R2HJ...   \n",
      "2    https://www.amazon.in/gp/customer-reviews/R3Y7...   \n",
      "3    https://www.amazon.in/gp/customer-reviews/R1P9...   \n",
      "4    https://www.amazon.in/gp/customer-reviews/R1XI...   \n",
      "..                                                 ...   \n",
      "495  https://www.amazon.in/gp/customer-reviews/R10O...   \n",
      "496  https://www.amazon.in/gp/customer-reviews/R28U...   \n",
      "497  https://www.amazon.in/gp/customer-reviews/R1SB...   \n",
      "498  https://www.amazon.in/gp/customer-reviews/R967...   \n",
      "499  https://www.amazon.in/gp/customer-reviews/RNK0...   \n",
      "\n",
      "                                reviewedIn                       variant  \\\n",
      "0      Reviewed in India on 11 August 2024  Colour: MidnightSize: 256 GB   \n",
      "1      Reviewed in India on 16 August 2024  Colour: MidnightSize: 256 GB   \n",
      "2         Reviewed in India on 14 May 2024  Colour: MidnightSize: 256 GB   \n",
      "3        Reviewed in India on 24 June 2024  Colour: MidnightSize: 256 GB   \n",
      "4         Reviewed in India on 18 May 2024  Colour: MidnightSize: 256 GB   \n",
      "..                                     ...                           ...   \n",
      "495  Reviewed in India on 17 November 2023     Colour: GreenSize: 256 GB   \n",
      "496      Reviewed in India on 7 March 2024     Colour: GreenSize: 256 GB   \n",
      "497   Reviewed in India on 7 November 2023     Colour: GreenSize: 256 GB   \n",
      "498   Reviewed in India on 15 October 2023     Colour: GreenSize: 256 GB   \n",
      "499   Reviewed in India on 28 October 2023     Colour: GreenSize: 256 GB   \n",
      "\n",
      "    variantAsin   id    neg    neu    pos  compound  \n",
      "0    B09G9BQS98    0  0.121  0.816  0.063   -0.6954  \n",
      "1    B09G9BQS98    1  0.000  0.596  0.404    0.9621  \n",
      "2    B09G9BQS98    2  0.061  0.939  0.000   -0.6632  \n",
      "3    B09G9BQS98    3  0.000  1.000  0.000    0.0000  \n",
      "4    B09G9BQS98    4  0.000  0.565  0.435    0.6597  \n",
      "..          ...  ...    ...    ...    ...       ...  \n",
      "495  B09V4MXBSN  495  0.000  0.213  0.787    0.9414  \n",
      "496  B09V4MXBSN  496  0.091  0.909  0.000   -0.2500  \n",
      "497  B09V4MXBSN  497  0.000  0.508  0.492    0.4404  \n",
      "498  B09V4MXBSN  498  0.000  0.556  0.444    0.9080  \n",
      "499  B09V4MXBSN  499  0.059  0.759  0.181    0.4404  \n",
      "\n",
      "[500 rows x 16 columns]\n"
     ]
    }
   ],
   "source": [
    "# Assuming df has shape (500, 12) and df_2 has shape (500, 4)\n",
    "vader = pd.concat([df, df_2], axis=1)\n",
    "\n",
    "# Show the resulting DataFrame\n",
    "print(vader.shape)  # This should print (500, 16)\n",
    "print(vader)"
   ]
  },
  {
   "cell_type": "code",
   "execution_count": 142,
   "id": "51ec27c4-9cc4-46b8-8367-0175129ae3b8",
   "metadata": {},
   "outputs": [
    {
     "data": {
      "text/html": [
       "<div>\n",
       "<style scoped>\n",
       "    .dataframe tbody tr th:only-of-type {\n",
       "        vertical-align: middle;\n",
       "    }\n",
       "\n",
       "    .dataframe tbody tr th {\n",
       "        vertical-align: top;\n",
       "    }\n",
       "\n",
       "    .dataframe thead th {\n",
       "        text-align: right;\n",
       "    }\n",
       "</style>\n",
       "<table border=\"1\" class=\"dataframe\">\n",
       "  <thead>\n",
       "    <tr style=\"text-align: right;\">\n",
       "      <th></th>\n",
       "      <th>productAsin</th>\n",
       "      <th>country</th>\n",
       "      <th>date</th>\n",
       "      <th>isVerified</th>\n",
       "      <th>ratingScore</th>\n",
       "      <th>reviewTitle</th>\n",
       "      <th>reviewDescription</th>\n",
       "      <th>reviewUrl</th>\n",
       "      <th>reviewedIn</th>\n",
       "      <th>variant</th>\n",
       "      <th>variantAsin</th>\n",
       "      <th>id</th>\n",
       "      <th>neg</th>\n",
       "      <th>neu</th>\n",
       "      <th>pos</th>\n",
       "      <th>compound</th>\n",
       "    </tr>\n",
       "  </thead>\n",
       "  <tbody>\n",
       "    <tr>\n",
       "      <th>0</th>\n",
       "      <td>B09G9BL5CP</td>\n",
       "      <td>India</td>\n",
       "      <td>11-08-2024</td>\n",
       "      <td>True</td>\n",
       "      <td>4</td>\n",
       "      <td>No charger</td>\n",
       "      <td>Every thing is good about iPhones, there's not...</td>\n",
       "      <td>https://www.amazon.in/gp/customer-reviews/R345...</td>\n",
       "      <td>Reviewed in India on 11 August 2024</td>\n",
       "      <td>Colour: MidnightSize: 256 GB</td>\n",
       "      <td>B09G9BQS98</td>\n",
       "      <td>0</td>\n",
       "      <td>0.121</td>\n",
       "      <td>0.816</td>\n",
       "      <td>0.063</td>\n",
       "      <td>-0.6954</td>\n",
       "    </tr>\n",
       "    <tr>\n",
       "      <th>1</th>\n",
       "      <td>B09G9BL5CP</td>\n",
       "      <td>India</td>\n",
       "      <td>16-08-2024</td>\n",
       "      <td>True</td>\n",
       "      <td>5</td>\n",
       "      <td>iPhone 13 256GB</td>\n",
       "      <td>It look so fabulous, I am android user switche...</td>\n",
       "      <td>https://www.amazon.in/gp/customer-reviews/R2HJ...</td>\n",
       "      <td>Reviewed in India on 16 August 2024</td>\n",
       "      <td>Colour: MidnightSize: 256 GB</td>\n",
       "      <td>B09G9BQS98</td>\n",
       "      <td>1</td>\n",
       "      <td>0.000</td>\n",
       "      <td>0.596</td>\n",
       "      <td>0.404</td>\n",
       "      <td>0.9621</td>\n",
       "    </tr>\n",
       "    <tr>\n",
       "      <th>2</th>\n",
       "      <td>B09G9BL5CP</td>\n",
       "      <td>India</td>\n",
       "      <td>14-05-2024</td>\n",
       "      <td>True</td>\n",
       "      <td>4</td>\n",
       "      <td>Flip camera option nill</td>\n",
       "      <td>I tried to flip camera while recording but no ...</td>\n",
       "      <td>https://www.amazon.in/gp/customer-reviews/R3Y7...</td>\n",
       "      <td>Reviewed in India on 14 May 2024</td>\n",
       "      <td>Colour: MidnightSize: 256 GB</td>\n",
       "      <td>B09G9BQS98</td>\n",
       "      <td>2</td>\n",
       "      <td>0.061</td>\n",
       "      <td>0.939</td>\n",
       "      <td>0.000</td>\n",
       "      <td>-0.6632</td>\n",
       "    </tr>\n",
       "    <tr>\n",
       "      <th>3</th>\n",
       "      <td>B09G9BL5CP</td>\n",
       "      <td>India</td>\n",
       "      <td>24-06-2024</td>\n",
       "      <td>True</td>\n",
       "      <td>5</td>\n",
       "      <td>Product</td>\n",
       "      <td>100% genuine</td>\n",
       "      <td>https://www.amazon.in/gp/customer-reviews/R1P9...</td>\n",
       "      <td>Reviewed in India on 24 June 2024</td>\n",
       "      <td>Colour: MidnightSize: 256 GB</td>\n",
       "      <td>B09G9BQS98</td>\n",
       "      <td>3</td>\n",
       "      <td>0.000</td>\n",
       "      <td>1.000</td>\n",
       "      <td>0.000</td>\n",
       "      <td>0.0000</td>\n",
       "    </tr>\n",
       "    <tr>\n",
       "      <th>4</th>\n",
       "      <td>B09G9BL5CP</td>\n",
       "      <td>India</td>\n",
       "      <td>18-05-2024</td>\n",
       "      <td>True</td>\n",
       "      <td>5</td>\n",
       "      <td>Good product</td>\n",
       "      <td>Happy to get the iPhone 13 in Amazon offer</td>\n",
       "      <td>https://www.amazon.in/gp/customer-reviews/R1XI...</td>\n",
       "      <td>Reviewed in India on 18 May 2024</td>\n",
       "      <td>Colour: MidnightSize: 256 GB</td>\n",
       "      <td>B09G9BQS98</td>\n",
       "      <td>4</td>\n",
       "      <td>0.000</td>\n",
       "      <td>0.565</td>\n",
       "      <td>0.435</td>\n",
       "      <td>0.6597</td>\n",
       "    </tr>\n",
       "  </tbody>\n",
       "</table>\n",
       "</div>"
      ],
      "text/plain": [
       "  productAsin country        date  isVerified  ratingScore  \\\n",
       "0  B09G9BL5CP   India  11-08-2024        True            4   \n",
       "1  B09G9BL5CP   India  16-08-2024        True            5   \n",
       "2  B09G9BL5CP   India  14-05-2024        True            4   \n",
       "3  B09G9BL5CP   India  24-06-2024        True            5   \n",
       "4  B09G9BL5CP   India  18-05-2024        True            5   \n",
       "\n",
       "               reviewTitle                                  reviewDescription  \\\n",
       "0               No charger  Every thing is good about iPhones, there's not...   \n",
       "1          iPhone 13 256GB  It look so fabulous, I am android user switche...   \n",
       "2  Flip camera option nill  I tried to flip camera while recording but no ...   \n",
       "3                  Product                                       100% genuine   \n",
       "4             Good product         Happy to get the iPhone 13 in Amazon offer   \n",
       "\n",
       "                                           reviewUrl  \\\n",
       "0  https://www.amazon.in/gp/customer-reviews/R345...   \n",
       "1  https://www.amazon.in/gp/customer-reviews/R2HJ...   \n",
       "2  https://www.amazon.in/gp/customer-reviews/R3Y7...   \n",
       "3  https://www.amazon.in/gp/customer-reviews/R1P9...   \n",
       "4  https://www.amazon.in/gp/customer-reviews/R1XI...   \n",
       "\n",
       "                            reviewedIn                       variant  \\\n",
       "0  Reviewed in India on 11 August 2024  Colour: MidnightSize: 256 GB   \n",
       "1  Reviewed in India on 16 August 2024  Colour: MidnightSize: 256 GB   \n",
       "2     Reviewed in India on 14 May 2024  Colour: MidnightSize: 256 GB   \n",
       "3    Reviewed in India on 24 June 2024  Colour: MidnightSize: 256 GB   \n",
       "4     Reviewed in India on 18 May 2024  Colour: MidnightSize: 256 GB   \n",
       "\n",
       "  variantAsin  id    neg    neu    pos  compound  \n",
       "0  B09G9BQS98   0  0.121  0.816  0.063   -0.6954  \n",
       "1  B09G9BQS98   1  0.000  0.596  0.404    0.9621  \n",
       "2  B09G9BQS98   2  0.061  0.939  0.000   -0.6632  \n",
       "3  B09G9BQS98   3  0.000  1.000  0.000    0.0000  \n",
       "4  B09G9BQS98   4  0.000  0.565  0.435    0.6597  "
      ]
     },
     "execution_count": 142,
     "metadata": {},
     "output_type": "execute_result"
    }
   ],
   "source": [
    "vader.head()"
   ]
  },
  {
   "cell_type": "code",
   "execution_count": 145,
   "id": "1afb2914-64a7-4fbc-b8f5-4271aad2b050",
   "metadata": {},
   "outputs": [
    {
     "data": {
      "image/png": "[encoded data removed]",
      "text/plain": [
       "<Figure size 640x480 with 1 Axes>"
      ]
     },
     "metadata": {},
     "output_type": "display_data"
    }
   ],
   "source": [
    "plot = sns.barplot(data = vader , x = 'ratingScore' , y = 'compound')\n",
    "plt.show()"
   ]
  },
  {
   "cell_type": "code",
   "execution_count": 146,
   "id": "6cffc866-8fa1-4df3-a19b-80089448813d",
   "metadata": {},
   "outputs": [],
   "source": [
    "### here we see that compound score for 4,5 star is high as that of 1,2,3"
   ]
  },
  {
   "cell_type": "code",
   "execution_count": 150,
   "id": "81dc0216-1e59-4941-9bc0-4e941e0efaf0",
   "metadata": {},
   "outputs": [
    {
     "data": {
      "image/png": "[encoded data removed]",
      "text/plain": [
       "<Figure size 640x480 with 1 Axes>"
      ]
     },
     "metadata": {},
     "output_type": "display_data"
    }
   ],
   "source": [
    "plot = sns.barplot(data = vader , x = 'ratingScore' , y = 'pos')\n",
    "plt.show()"
   ]
  },
  {
   "cell_type": "code",
   "execution_count": 152,
   "id": "29857327-a4dc-4b09-84c3-c86ac1704f4e",
   "metadata": {},
   "outputs": [],
   "source": [
    "## here we see for that 2 star rating has more positive value than that of 3 star rating."
   ]
  },
  {
   "cell_type": "markdown",
   "id": "2a862ad9-9106-474c-bc78-41399973205a",
   "metadata": {},
   "source": [
    "## Category 2 i.e Roberta Pretrained Model"
   ]
  },
  {
   "cell_type": "markdown",
   "id": "756199e0-ec17-42e9-bec2-011b45e0434b",
   "metadata": {},
   "source": [
    "1)Here we are going to use trained model of a large Corpus data.\n",
    "\n",
    "\n",
    "2) Most Imp - Transformer model accounts for the words but also the context related to \n",
    "other words."
   ]
  },
  {
   "cell_type": "code",
   "execution_count": 155,
   "id": "18503d99-90a4-417d-a9a7-986da95957ba",
   "metadata": {},
   "outputs": [],
   "source": [
    "from transformers import AutoTokenizer"
   ]
  },
  {
   "cell_type": "code",
   "execution_count": 158,
   "id": "7aaa453a-c651-4604-993a-a97af078d9d4",
   "metadata": {},
   "outputs": [],
   "source": [
    "from transformers import AutoModelForSequenceClassification "
   ]
  },
  {
   "cell_type": "code",
   "execution_count": 159,
   "id": "987e5fa4-3ae9-489d-a9c4-dda541d6bcdb",
   "metadata": {},
   "outputs": [],
   "source": [
    "from scipy.special import softmax"
   ]
  }
 ],
 "metadata": {
  "kernelspec": {
   "display_name": "Python 3 (ipykernel)",
   "language": "python",
   "name": "python3"
  },
  "language_info": {
   "codemirror_mode": {
    "name": "ipython",
    "version": 3
   },
   "file_extension": ".py",
   "mimetype": "text/x-python",
   "name": "python",
   "nbconvert_exporter": "python",
   "pygments_lexer": "ipython3",
   "version": "3.11.7"
  }
 },
 "nbformat": 4,
 "nbformat_minor": 5
}
